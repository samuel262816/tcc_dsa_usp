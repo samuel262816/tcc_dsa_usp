{
 "cells": [
  {
   "cell_type": "markdown",
   "id": "a75bd1dc",
   "metadata": {},
   "source": [
    "# 0.0 IMPORTS"
   ]
  },
  {
   "cell_type": "code",
   "execution_count": 1,
   "id": "228d8067",
   "metadata": {
    "ExecuteTime": {
     "end_time": "2023-03-29T22:11:20.312570Z",
     "start_time": "2023-03-29T22:11:18.642180Z"
    }
   },
   "outputs": [
    {
     "name": "stderr",
     "output_type": "stream",
     "text": [
      "2023-03-29 19:11:20,169 [logging.log_init] INFO: LOGLEVEL=INFO\n"
     ]
    }
   ],
   "source": [
    "import pandas as pd\n",
    "import numpy as np\n",
    "import seaborn as sns\n",
    "import fundamentus\n",
    "import plotly.express as px\n",
    "\n",
    "from IPython.display     import HTML"
   ]
  },
  {
   "cell_type": "markdown",
   "id": "8b7ca243",
   "metadata": {
    "heading_collapsed": true
   },
   "source": [
    "## 0.1 Helper Functions"
   ]
  },
  {
   "cell_type": "code",
   "execution_count": 2,
   "id": "24c8e3de",
   "metadata": {
    "ExecuteTime": {
     "end_time": "2023-03-29T22:11:20.372942Z",
     "start_time": "2023-03-29T22:11:20.319567Z"
    },
    "hidden": true
   },
   "outputs": [
    {
     "data": {
      "text/html": [
       "<style>.container {width:90% !important; } </style>"
      ],
      "text/plain": [
       "<IPython.core.display.HTML object>"
      ]
     },
     "metadata": {},
     "output_type": "display_data"
    }
   ],
   "source": [
    "def jupyter_settings():\n",
    "    %matplotlib inline\n",
    "#     plt.style.use( 'bmh' )\n",
    "#     plt.rcParams['figure.figsize'] = [25, 12]\n",
    "#     plt.rcParams['font.size'] = 24\n",
    "#     pd.options.display.max_columns = None\n",
    "    display( HTML( '<style>.container {width:90% !important; } </style>' ) )\n",
    "    pd.options.display.max_rows = None\n",
    "    pd.set_option( 'display.expand_frame_repr', False )\n",
    "    sns.set()  \n",
    "    return None\n",
    "\n",
    "jupyter_settings()"
   ]
  },
  {
   "cell_type": "code",
   "execution_count": 3,
   "id": "62d44682",
   "metadata": {
    "ExecuteTime": {
     "end_time": "2023-03-29T22:11:22.086515Z",
     "start_time": "2023-03-29T22:11:22.074506Z"
    },
    "hidden": true
   },
   "outputs": [],
   "source": [
    "def data_collect( ):\n",
    "    df = fundamentus.get_resultado_raw()\n",
    "    return df"
   ]
  },
  {
   "cell_type": "code",
   "execution_count": 15,
   "id": "7ac0703c",
   "metadata": {
    "ExecuteTime": {
     "end_time": "2023-03-29T22:13:19.284245Z",
     "start_time": "2023-03-29T22:13:19.275270Z"
    },
    "hidden": true
   },
   "outputs": [],
   "source": [
    "def data_cleaning( df ):\n",
    "    # rename\n",
    "    old_cols = ['Cotação', 'P/L', 'P/VP', 'PSR', 'Div.Yield', 'P/Ativo', 'P/Cap.Giro',\n",
    "       'P/EBIT', 'P/Ativ Circ.Liq', 'EV/EBIT', 'EV/EBITDA', 'Mrg Ebit',\n",
    "       'Marg_Liquida', 'Liq. Corr.', 'ROIC', 'ROE', 'Liq.2meses', 'Patrim. Líq',\n",
    "       'Dív.Brut/ Patrim.', 'Cresc. Rec.5a']\n",
    "\n",
    "    new_cols = [cols.lower() for cols in old_cols]\n",
    "    df.columns = new_cols\n",
    "\n",
    "    return df.reset_index()"
   ]
  },
  {
   "cell_type": "code",
   "execution_count": 82,
   "id": "c1dca291",
   "metadata": {
    "ExecuteTime": {
     "end_time": "2023-03-30T10:56:34.533845Z",
     "start_time": "2023-03-30T10:56:34.494948Z"
    },
    "hidden": true
   },
   "outputs": [],
   "source": [
    "def sectors_definition(df):\n",
    "    setores = {\n",
    "    'agropecuaria': ['AGXY3', 'FRTA3', 'AGRO3', 'SLCE3', 'TTEN3', 'SOJA3'],\n",
    "    'agua_e_saneamento': ['ORVR3', 'SAPR3', 'SAPR11', 'SAPR4', 'CSMG3', 'SBSP3', 'AMBP3'],\n",
    "    'alimentos_processados': ['BRFS3','MRFG3','MNPR3','JBSS3','JALL3','CAML3','SMTO3','JOPA3','BEEF3','JOPA4','MDIA3','BAUH4'],\n",
    "    'serv_medicos_analises_e_diagnasticos': ['ONCO3','HAPV3','DASA3','AALR3','KRSA3','QUAL3','ODPV3','PARD3','FLRY3','MATD3','RDOR3'],\n",
    "    'automoveis_e_motocicletas': ['PLAS3', 'MYPK3', 'LEVE3'],\n",
    "    'comercio': ['MGLU3', 'ESPA3', 'VIIA3', 'CEAB3', 'AMAR3', 'LLIS3', 'SLED4', 'SLED3', 'EPAR3', 'CGRA4', 'CGRA3', 'WLMM3', 'ALLD3', 'WLMM4', 'SBFG3', \n",
    "     'BTTL3', 'GUAR3', 'LREN3', 'ARZZ3', 'SOMA3', 'PETZ3', 'AMER3', 'LJQQ3'],\n",
    "    'comercio_e_distribuicao': ['PCAR3', 'PFRM3', 'DMVF3', 'GMAT3', 'CRFB3', 'BLAU3', 'HYPE3', 'VVEO3', 'PGMN3', 'PNVL3', 'ASAI3', 'RADL3'],\n",
    "    'computadores_e_equipamentos': ['POSI3', 'MLAS3', 'INTB3'],\n",
    "    'construcao_civil': ['GFSA3', 'CRDE3', 'VIVR3', 'TCSA3', 'TEND3', 'JFEN3', 'AVLL3', 'RSID3', 'PDGR3', 'MDNE3', 'JHSF3', 'HBOR3', 'MELK3', 'CYRE3', 'CALI3', \n",
    "      'PLPL3', 'EVEN3', 'EZTC3', 'MRVE3', 'LAVV3', 'CURY3', 'MTRE3', 'TRIS3', 'DIRR3', 'RDNI3'],\n",
    "    'construcao_e_engenharia': ['TCNO3', 'TCNO4', 'ETER3', 'HAGA4', 'SOND5', 'SOND6', 'PTBL3', 'HAGA3', 'AZEV4', 'AZEV3'],\n",
    "    'diversos': ['YDUQ3', 'COGN3', 'SEER3', 'ANIM3', 'BAHI3', 'DOTZ3', 'MOVI3', 'MILS3', 'VAMO3', 'RENT3', 'CSED3', 'ARML3'],\n",
    "    'embalagens': ['MTIG4'],\n",
    "    'energia_eletrica': ['AESB3', 'CBEE3', 'LIGT3', 'RNEW4', 'RNEW3', 'RNEW11', 'CEBR3', 'CLSC3', 'CEBR5', 'CEBR6', 'CLSC4', 'NEOE3', 'GPAR3', 'AFLT3', 'ENBR3', \n",
    "      'TRPL4', 'CEEB5', 'CEEB3', 'ENGI4', 'COCE5', 'CMIG4', 'TAEE11', 'TAEE4', 'TAEE3', 'EKTR3', 'CSRN5', 'CSRN6', 'EKTR4', 'CSRN3', 'EQMA3B', \n",
    "      'TRPL3', 'CPFE3', 'ENGI11', 'REDE3', 'ALUP4', 'ALUP3', 'ALUP11', 'CMIG3', 'EQPA3', 'CEED4', 'CEED3', 'ENGI3', 'MEGA3', 'EQTL3', 'EQPA5', \n",
    "      'EQPA7', 'ENMT4', 'ENMT3', 'GEPA3', 'GEPA4', 'EGIE3', 'ENEV3', 'EMAE4', 'ELET3', 'CPLE3', 'ELET6', 'CPLE11', 'CPLE6', 'LIPR3', 'CEPE5', \n",
    "      'CEPE6', 'AURE3', 'CPLE5'],\n",
    "    'equipamentos': ['BALM4', 'BALM3'],\n",
    "    'exploracao_de_imoveis': ['SCAR3', 'BRPR3', 'IGBR3', 'NEXP3', 'GSHP3', 'SYNE3', 'HBRE3', 'LOGG3', 'BRML3', 'ALSO3', 'MULT3', 'JPSA3', 'LPSB3', 'HBTS5', 'IGTI3', 'IGTI11'],\n",
    "    'gás': ['CGAS3', 'CGAS5'],\n",
    "    'holdings_diversificadas': ['PEAB4', 'PEAB3', 'SIMH3', 'MOAR3'],\n",
    "    'hoteis_e_restaurantes': ['ZAMP3', 'MEAL3', 'HOOT4'],\n",
    "    'intermediarios_financeiros': ['BAZA3', 'BNBR3', 'DMFN3', 'BBAS3', 'ITSA4', 'ABCB4', 'BRSR6', 'BEES3', 'ITSA3', 'BMEB4', 'BMGB4', 'BEES4', 'BMEB3', 'BBDC3', 'BRSR3', 'SANB3', \n",
    "      'BRIV4', 'ITUB3', 'BBDC4', 'BRIV3', 'SANB11', 'SANB4', 'ITUB4', 'BPAC5', 'BSLI4', 'BRSR5', 'BRBI11', 'RPAD6', 'BGIP4', 'RPAD5', 'BMIN4', 'CRIV4',\n",
    "      'CRIV3', 'RPAD3', 'BSLI3', 'BPAN4', 'BPAC11', 'BGIP3', 'BMIN3', 'PINE4', 'BPAC3', 'MERC4', 'MODL3', 'MERC3'],\n",
    "    'madeira_e_papel': ['EUCA4', 'EUCA3', 'SUZB3', 'KLBN3', 'KLBN11', 'KLBN4', 'DXCO3', 'RANI3'],\n",
    "    'maquinas_e_equipamentos': ['AERI3', 'NORD3', 'FRIO3', 'INEP4', 'INEP3', 'BDLL4', 'TASA4', 'TASA3', 'BDLL3', 'EALT4', 'MTSA4', 'EALT3', 'KEPL3', 'ROMI3', 'SHUL4', 'WEGE3'],\n",
    "    'materiais_diversos': ['SNSY5'],\n",
    "    'material_de_transporte': ['RCSL3', 'EMBR3', 'RCSL4', 'MWET4', 'MWET3', 'RAPT3', 'RAPT4', 'RSUL4', 'POMO3', 'TUPY3', 'POMO4', 'FRAS3'],\n",
    "    'midia': ['ELMD3'],\n",
    "    'mineracao': ['BRAP3', 'BRAP4', 'VALE3', 'AURA33', 'CBAV3', 'CMIN3'],\n",
    "    'petroleo': ['DMMO3', 'LUPA3', 'RPMG3', 'OSXB3', 'OPCT3', 'PETR4', 'PETR3', 'ENAT3', 'VBBR3', 'PRIO3', 'UGPA3', 'RECV3', 'CSAN3', 'RAIZ4', 'RRRP3'],\n",
    "    'previdencia_e_seguros': ['CSAB4', 'CSAB3', 'IRBR3', 'WIZS3', 'BRGE11', 'BRGE8', 'BRGE3', 'CXSE3', 'BRGE12', 'BRGE5', 'BRGE6', 'BBSE3', 'PSSA3', 'APER3', 'SULA3', 'SULA4', 'SULA11'],\n",
    "    'uso_pessoal_e_limpeza': ['NTCO3', 'BOBR4'],\n",
    "    'programas_e_servicos': ['TRAD3', 'CASH3', 'NINJ3', 'IFCM3', 'MBLY3', 'WEST3', 'ENJU3', 'LVTC3', 'BMOB3', 'TOTS3', 'SQIA3', 'NGRD3', 'LWSA3'],\n",
    "    'servicos_diversos': ['DTCY3', 'SEQL3', 'ALPK3', 'ATMP3', 'PRNR3', 'CSUD3', 'GGPS3', 'VLID3'],\n",
    "    'servicos_financeiros_diversos': ['CLSA3', 'GPIV33', 'GETT4', 'GETT3', 'BOAS3', 'CIEL3', 'B3SA3', 'PDTC3'],\n",
    "    'siderurgia_e_metalurgia': ['PMAM3', 'MGEL4', 'USIM3', 'USIM5', 'GOAU3', 'GOAU4', 'GGBR3', 'USIM6', 'TKNO4', 'GGBR4', 'FESA4', 'FESA3', 'CSNA3', 'PATI3', 'PATI4'],\n",
    "    'tecidos': ['CTKA3', 'CTKA4', 'CEDO3', 'CTSA3', 'CEDO4', 'CTSA4', 'CTNM3', 'TXRX4', 'CTNM4', 'SGPS3', 'MNDL3', 'TEKA4', 'PTNT4', 'TECN3', 'CAMB3', 'PTNT3', 'VULC3',\n",
    "         'GRND3', 'VIVA3', 'DOHL4', 'TFCO4', 'ALPA3', 'ALPA4', 'DOHL3'],\n",
    "    'telecomunicacoes': ['TELB3', 'TELB4', 'OIBR4', 'OIBR3', 'FIQE3', 'VIVT3', 'TIMS3', 'DESK3', 'BRIT3'],\n",
    "    'transporte': ['RAIL3', 'TPIS3', 'HBSA3', 'AZUL4', 'GOLL4', 'CCRO3', 'TGMA3', 'JSLG3', 'MRSA6B', 'MRSA6B', 'MRSA3B', 'MRSA3B', 'STBP3', 'MRSA5B', 'MRSA5B', 'PORT3', 'ECOR3', 'LOGN3', 'LUXM4'],\n",
    "    'utilidades_domesticas': ['HETA4', 'UCAS3', 'WHRL3', 'WHRL4']\n",
    "    }\n",
    "\n",
    "    # Função lambda para mapear o nome do setor de acordo com o código\n",
    "    mapeamento = lambda x: next((setor for setor, codigos in setores.items() if x in codigos), 'setor_desconhecido')\n",
    "\n",
    "    # Criando a nova coluna com o nome do setor\n",
    "    df['setor'] = df['papel'].apply(mapeamento)\n",
    "\n",
    "    return df"
   ]
  },
  {
   "cell_type": "code",
   "execution_count": null,
   "id": "a99313dd",
   "metadata": {
    "hidden": true
   },
   "outputs": [],
   "source": []
  },
  {
   "cell_type": "code",
   "execution_count": 83,
   "id": "7f5f8ada",
   "metadata": {
    "ExecuteTime": {
     "end_time": "2023-03-30T10:56:37.179162Z",
     "start_time": "2023-03-30T10:56:37.167155Z"
    },
    "hidden": true
   },
   "outputs": [],
   "source": [
    "def data_filtering( df ):\n",
    "    ## 3.2. Filtering Columns\n",
    "    cols_selected = ['papel', 'setor', 'p/l', 'p/vp', 'div.yield', 'cresc. rec.5a', 'marg_liquida', 'roe']\n",
    "    df = df.loc[ :, cols_selected]\n",
    "\n",
    "    # filtro setor desconhecido\n",
    "    df = df.loc[ df['setor'] != 'setor_desconhecido']\n",
    "    \n",
    "    ## 3.2. Filtering Rows\n",
    "    # filtro PL negativo\n",
    "    df = df.loc[ df['p/l'] > 0 , :]\n",
    "\n",
    "    # filtro PVP negativo\n",
    "    df = df.loc[ df['p/vp'] > 0 , :]\n",
    "\n",
    "    # filtro div_yield < 100\n",
    "    df = df.loc[ df['div.yield'] < 100 , :]\n",
    "    \n",
    "    return df.set_index('papel')"
   ]
  },
  {
   "cell_type": "code",
   "execution_count": 84,
   "id": "2637e1af",
   "metadata": {
    "ExecuteTime": {
     "end_time": "2023-03-30T10:57:22.466920Z",
     "start_time": "2023-03-30T10:57:22.437999Z"
    },
    "hidden": true
   },
   "outputs": [],
   "source": [
    "def separate_sectors( df4 ):\n",
    "    \n",
    "    setor_agropecuaria = df4[ df4['setor'] == 'agropecuaria'].drop('setor', axis=1)\n",
    "    setor_agua_e_saneamento = df4[ df4['setor'] == 'agua_e_saneamento'].drop('setor', axis=1)\n",
    "    setor_alimentos_processados = df4[ df4['setor'] == 'alimentos_processados'].drop('setor', axis=1)\n",
    "    setor_serv_medicos_analises_e_diagnasticos = df4[ df4['setor'] == 'serv_medicos_analises_e_diagnasticos'].drop('setor', axis=1)\n",
    "    setor_automoveis_e_motocicletas = df4[ df4['setor'] == 'automoveis_e_motocicletas'].drop('setor', axis=1)\n",
    "    setor_comercio = df4[ df4['setor'] == 'comercio'].drop('setor', axis=1)\n",
    "    setor_comercio_e_distribuicao = df4[ df4['setor'] == 'comercio_e_distribuicao'].drop('setor', axis=1)\n",
    "    setor_computadores_e_equipamentos = df4[ df4['setor'] == 'computadores_e_equipamentos'].drop('setor', axis=1)\n",
    "    setor_construcao_civil = df4[ df4['setor'] == 'construcao_civil'].drop('setor', axis=1)\n",
    "    setor_construcao_e_engenharia = df4[ df4['setor'] == 'construcao_e_engenharia'].drop('setor', axis=1)\n",
    "    setor_diversos = df4[ df4['setor'] == 'diversos'].drop('setor', axis=1)\n",
    "    setor_energia_eletrica = df4[ df4['setor'] == 'energia_eletrica'].drop('setor', axis=1)\n",
    "    setor_embalagens = df4[ df4['setor'] == 'setor_embalagens'].drop('setor', axis=1)\n",
    "    setor_equipamentos = df4[ df4['setor'] == 'equipamentos'].drop('setor', axis=1)\n",
    "    setor_exploracao_de_imoveis = df4[ df4['setor'] == 'exploracao_de_imoveis'].drop('setor', axis=1)\n",
    "    setor_gas = df4[ df4['setor'] == 'gas'].drop('setor', axis=1)\n",
    "    setor_holdings_diversificadas = df4[ df4['setor'] == 'holdings_diversificadas'].drop('setor', axis=1)\n",
    "    setor_hoteis_e_restaurantes= df4[ df4['setor'] == 'setor_hoteis_e_restaurantes'].drop('setor', axis=1)\n",
    "    setor_intermediarios_financeiros = df4[ df4['setor'] == 'intermediarios_financeiros'].drop('setor', axis=1)\n",
    "    setor_madeira_e_papel = df4[ df4['setor'] == 'madeira_e_papel'].drop('setor', axis=1)\n",
    "    setor_maquinas_e_equipamentos = df4[ df4['setor'] == 'maquinas_e_equipamentos'].drop('setor', axis=1)\n",
    "    setor_material_de_transporte = df4[ df4['setor'] == 'material_de_transporte'].drop('setor', axis=1)\n",
    "    setor_materiais_diversos = df4[ df4['setor'] == 'setor_materiais_diversos'].drop('setor', axis=1)\n",
    "    setor_midia = df4[ df4['setor'] == 'setor_midia'].drop('setor', axis=1)\n",
    "    setor_mineracao = df4[ df4['setor'] == 'mineracao'].drop('setor', axis=1)\n",
    "    setor_petroleo = df4[ df4['setor'] == 'petroleo'].drop('setor', axis=1)\n",
    "    setor_gas_e_biocombustiveis = df4[ df4['setor'] == 'gas_e_biocombustiveis'].drop('setor', axis=1)\n",
    "    setor_previdencia_e_seguros = df4[ df4['setor'] == 'previdencia_e_seguros'].drop('setor', axis=1)\n",
    "    setor_programas_e_servicos = df4[ df4['setor'] == 'programas_e_servicos'].drop('setor', axis=1)\n",
    "    setor_quimicos = df4[ df4['setor'] == 'quimicos'].drop('setor', axis=1)\n",
    "    setor_servicos_diversos = df4[ df4['setor'] == 'servicos_diversos'].drop('setor', axis=1)\n",
    "    setor_servicos_financeiros_diversos = df4[ df4['setor'] == 'servicos_financeiros_diversos'].drop('setor', axis=1)\n",
    "    setor_siderurgia_e_metalurgia = df4[ df4['setor'] == 'siderurgia_e_metalurgia'].drop('setor', axis=1)\n",
    "    setor_tecidos = df4[ df4['setor'] == 'tecidos'].drop('setor', axis=1)\n",
    "    setor_uso_pessoal_e_limpeza = df4[ df4['setor'] == 'setor_uso_pessoal_e_limpeza'].drop('setor', axis=1)\n",
    "    setor_vestuario_e_calcados = df4[ df4['setor'] == '_vestuario_e_calcados'].drop('setor', axis=1)\n",
    "    setor_telecomunicacoes = df4[ df4['setor'] == 'telecomunicacoes'].drop('setor', axis=1)\n",
    "    setor_transporte = df4[ df4['setor'] == 'transporte'].drop('setor', axis=1)\n",
    "    setor_utilidades_domesticas = df4[ df4['setor'] == 'utilidades_domesticas'].drop('setor', axis=1)\n",
    "    \n",
    "    lista_setores = [\n",
    "        setor_agropecuaria, setor_agua_e_saneamento, setor_alimentos_processados,\n",
    "        setor_serv_medicos_analises_e_diagnasticos, setor_automoveis_e_motocicletas, setor_comercio, \n",
    "        setor_comercio_e_distribuicao, setor_computadores_e_equipamentos, setor_construcao_civil, \n",
    "        setor_construcao_e_engenharia, setor_diversos, setor_energia_eletrica, setor_embalagens, setor_equipamentos, \n",
    "        setor_exploracao_de_imoveis, setor_gas, setor_holdings_diversificadas, setor_hoteis_e_restaurantes, \n",
    "        setor_intermediarios_financeiros, setor_madeira_e_papel, setor_maquinas_e_equipamentos, setor_material_de_transporte, \n",
    "        setor_materiais_diversos, setor_midia, setor_mineracao, setor_petroleo,\n",
    "        setor_gas_e_biocombustiveis, setor_previdencia_e_seguros, setor_programas_e_servicos, setor_quimicos, setor_servicos_diversos,\n",
    "        setor_servicos_financeiros_diversos, setor_siderurgia_e_metalurgia, setor_tecidos, setor_uso_pessoal_e_limpeza, setor_vestuario_e_calcados, \n",
    "        setor_telecomunicacoes, setor_transporte, setor_utilidades_domesticas\n",
    "    ]\n",
    "    \n",
    "    return lista_setores"
   ]
  },
  {
   "cell_type": "code",
   "execution_count": 87,
   "id": "198e7124",
   "metadata": {
    "ExecuteTime": {
     "end_time": "2023-03-30T10:58:52.550846Z",
     "start_time": "2023-03-30T10:58:52.526868Z"
    },
    "hidden": true
   },
   "outputs": [],
   "source": [
    "def ahp_gaussiano( df, top_stocks ):\n",
    "\n",
    "    # inverter valores monotômicos de custo\n",
    "    df['p/l'] = df['p/l'].apply( lambda x: 1/x )\n",
    "    df['p/vp'] = df['p/vp'].apply( lambda x: 1/x )\n",
    "\n",
    "    # normalização\n",
    "    setor_normalizado = df[['p/l', 'p/vp', 'div.yield', 'cresc. rec.5a', 'marg_liquida', 'roe']].apply( lambda x: x/sum(x))\n",
    "\n",
    "    # criação fator gaussiano\n",
    "    fator_gaussiano = setor_normalizado.std() / setor_normalizado.mean()\n",
    "    fator_normalizado = fator_gaussiano / fator_gaussiano.sum()\n",
    "\n",
    "    # ponderação da matriz normalizada\n",
    "    setor_normalizado['p/l']           = setor_normalizado['p/l'] * fator_normalizado['p/l']\n",
    "    setor_normalizado['p/vp']          = setor_normalizado['p/vp'] * fator_normalizado['p/vp']\n",
    "    setor_normalizado['div.yield']    = setor_normalizado['div.yield'] * fator_normalizado['div.yield']\n",
    "    setor_normalizado['cresc. rec.5a']  = setor_normalizado['cresc. rec.5a'] * fator_normalizado['cresc. rec.5a']\n",
    "    setor_normalizado['marg_liquida'] = setor_normalizado['marg_liquida'] * fator_normalizado['marg_liquida']\n",
    "    setor_normalizado['roe']          = setor_normalizado['roe'] * fator_normalizado['roe']\n",
    "\n",
    "    # criação coluna ranking\n",
    "    setor_normalizado['ranking_(%)'] = setor_normalizado.sum( axis=1 )*100\n",
    "    setor_normalizado = setor_normalizado.sort_values('ranking_(%)', ascending= False).head( top_stocks )\n",
    "\n",
    "    return setor_normalizado"
   ]
  },
  {
   "cell_type": "code",
   "execution_count": 102,
   "id": "8fe7c1d4",
   "metadata": {
    "ExecuteTime": {
     "end_time": "2023-03-30T11:00:04.101698Z",
     "start_time": "2023-03-30T11:00:04.086697Z"
    },
    "hidden": true
   },
   "outputs": [],
   "source": [
    "def final_table( lista_setores, top_stocks, table_type = 'original' ): \n",
    "      \n",
    "    df_result = pd.DataFrame()\n",
    "    \n",
    "    for setor in lista_setores:\n",
    "        df_aux = ahp_gaussiano( setor, top_stocks )\n",
    "        df_result = pd.concat( [df_result, df_aux] )\n",
    "    \n",
    "    if table_type == 'normalizada':\n",
    "        df_final = pd.merge( df_result, df_filtered['setor'], how='left', right_index= True, left_index=True).sort_values( 'setor' )\n",
    "    \n",
    "    else:\n",
    "        df_final = pd.merge( df_result['ranking_(%)'], df_filtered, how='left', left_index=True, right_index= True ).sort_values( 'setor' )\n",
    "        df_final = df_final[['p/l', 'p/vp', 'div.yield', 'cresc. rec.5a', 'marg_liquida', 'roe', 'ranking_(%)', 'setor']]\n",
    "        \n",
    "    return df_final"
   ]
  },
  {
   "cell_type": "markdown",
   "id": "f478e151",
   "metadata": {
    "heading_collapsed": true
   },
   "source": [
    "## 0.2 Colect Data"
   ]
  },
  {
   "cell_type": "code",
   "execution_count": 7,
   "id": "ea7fa325",
   "metadata": {
    "ExecuteTime": {
     "end_time": "2023-03-29T18:15:15.483456Z",
     "start_time": "2023-03-29T18:15:14.954841Z"
    },
    "hidden": true
   },
   "outputs": [],
   "source": [
    "data = fundamentus.get_resultado_raw()"
   ]
  },
  {
   "cell_type": "code",
   "execution_count": 8,
   "id": "ca5db04c",
   "metadata": {
    "ExecuteTime": {
     "end_time": "2023-03-29T18:15:15.531260Z",
     "start_time": "2023-03-29T18:15:15.485383Z"
    },
    "hidden": true,
    "scrolled": true
   },
   "outputs": [
    {
     "data": {
      "text/html": [
       "<div>\n",
       "<style scoped>\n",
       "    .dataframe tbody tr th:only-of-type {\n",
       "        vertical-align: middle;\n",
       "    }\n",
       "\n",
       "    .dataframe tbody tr th {\n",
       "        vertical-align: top;\n",
       "    }\n",
       "\n",
       "    .dataframe thead th {\n",
       "        text-align: right;\n",
       "    }\n",
       "</style>\n",
       "<table border=\"1\" class=\"dataframe\">\n",
       "  <thead>\n",
       "    <tr style=\"text-align: right;\">\n",
       "      <th>Multiples</th>\n",
       "      <th>Cotação</th>\n",
       "      <th>P/L</th>\n",
       "      <th>P/VP</th>\n",
       "      <th>PSR</th>\n",
       "      <th>Div.Yield</th>\n",
       "      <th>P/Ativo</th>\n",
       "      <th>P/Cap.Giro</th>\n",
       "      <th>P/EBIT</th>\n",
       "      <th>P/Ativ Circ.Liq</th>\n",
       "      <th>EV/EBIT</th>\n",
       "      <th>EV/EBITDA</th>\n",
       "      <th>Mrg Ebit</th>\n",
       "      <th>Mrg. Líq.</th>\n",
       "      <th>Liq. Corr.</th>\n",
       "      <th>ROIC</th>\n",
       "      <th>ROE</th>\n",
       "      <th>Liq.2meses</th>\n",
       "      <th>Patrim. Líq</th>\n",
       "      <th>Dív.Brut/ Patrim.</th>\n",
       "      <th>Cresc. Rec.5a</th>\n",
       "    </tr>\n",
       "    <tr>\n",
       "      <th>papel</th>\n",
       "      <th></th>\n",
       "      <th></th>\n",
       "      <th></th>\n",
       "      <th></th>\n",
       "      <th></th>\n",
       "      <th></th>\n",
       "      <th></th>\n",
       "      <th></th>\n",
       "      <th></th>\n",
       "      <th></th>\n",
       "      <th></th>\n",
       "      <th></th>\n",
       "      <th></th>\n",
       "      <th></th>\n",
       "      <th></th>\n",
       "      <th></th>\n",
       "      <th></th>\n",
       "      <th></th>\n",
       "      <th></th>\n",
       "      <th></th>\n",
       "    </tr>\n",
       "  </thead>\n",
       "  <tbody>\n",
       "    <tr>\n",
       "      <th>AALR3</th>\n",
       "      <td>20.57</td>\n",
       "      <td>-17.96</td>\n",
       "      <td>2.27</td>\n",
       "      <td>2.228</td>\n",
       "      <td>0.0000</td>\n",
       "      <td>0.925</td>\n",
       "      <td>-29.66</td>\n",
       "      <td>80.97</td>\n",
       "      <td>-2.39</td>\n",
       "      <td>103.01</td>\n",
       "      <td>21.15</td>\n",
       "      <td>0.0275</td>\n",
       "      <td>-0.1180</td>\n",
       "      <td>0.86</td>\n",
       "      <td>0.0132</td>\n",
       "      <td>-0.1263</td>\n",
       "      <td>7898420.0</td>\n",
       "      <td>1.072550e+09</td>\n",
       "      <td>0.85</td>\n",
       "      <td>0.0116</td>\n",
       "    </tr>\n",
       "    <tr>\n",
       "      <th>ABCB3</th>\n",
       "      <td>0.00</td>\n",
       "      <td>0.00</td>\n",
       "      <td>0.00</td>\n",
       "      <td>0.000</td>\n",
       "      <td>0.0000</td>\n",
       "      <td>0.000</td>\n",
       "      <td>0.00</td>\n",
       "      <td>0.00</td>\n",
       "      <td>0.00</td>\n",
       "      <td>0.00</td>\n",
       "      <td>0.00</td>\n",
       "      <td>0.0000</td>\n",
       "      <td>0.0000</td>\n",
       "      <td>0.00</td>\n",
       "      <td>0.0000</td>\n",
       "      <td>0.1505</td>\n",
       "      <td>0.0</td>\n",
       "      <td>5.070730e+09</td>\n",
       "      <td>0.00</td>\n",
       "      <td>0.3047</td>\n",
       "    </tr>\n",
       "    <tr>\n",
       "      <th>ABCB4</th>\n",
       "      <td>18.40</td>\n",
       "      <td>5.45</td>\n",
       "      <td>0.82</td>\n",
       "      <td>0.000</td>\n",
       "      <td>0.0695</td>\n",
       "      <td>0.000</td>\n",
       "      <td>0.00</td>\n",
       "      <td>0.00</td>\n",
       "      <td>0.00</td>\n",
       "      <td>0.00</td>\n",
       "      <td>0.00</td>\n",
       "      <td>0.0000</td>\n",
       "      <td>0.0000</td>\n",
       "      <td>0.00</td>\n",
       "      <td>0.0000</td>\n",
       "      <td>0.1505</td>\n",
       "      <td>18089700.0</td>\n",
       "      <td>5.070730e+09</td>\n",
       "      <td>0.00</td>\n",
       "      <td>0.3047</td>\n",
       "    </tr>\n",
       "    <tr>\n",
       "      <th>ABEV3</th>\n",
       "      <td>15.24</td>\n",
       "      <td>18.33</td>\n",
       "      <td>2.66</td>\n",
       "      <td>3.037</td>\n",
       "      <td>0.0396</td>\n",
       "      <td>1.690</td>\n",
       "      <td>36.49</td>\n",
       "      <td>15.60</td>\n",
       "      <td>-26.80</td>\n",
       "      <td>14.56</td>\n",
       "      <td>10.80</td>\n",
       "      <td>0.1947</td>\n",
       "      <td>0.1715</td>\n",
       "      <td>1.19</td>\n",
       "      <td>0.1498</td>\n",
       "      <td>0.1452</td>\n",
       "      <td>447864000.0</td>\n",
       "      <td>9.017800e+10</td>\n",
       "      <td>0.03</td>\n",
       "      <td>0.1298</td>\n",
       "    </tr>\n",
       "    <tr>\n",
       "      <th>ABYA3</th>\n",
       "      <td>4.91</td>\n",
       "      <td>-214.80</td>\n",
       "      <td>1.76</td>\n",
       "      <td>2.055</td>\n",
       "      <td>0.0000</td>\n",
       "      <td>0.527</td>\n",
       "      <td>1.98</td>\n",
       "      <td>19.96</td>\n",
       "      <td>-2.75</td>\n",
       "      <td>33.67</td>\n",
       "      <td>33.67</td>\n",
       "      <td>0.1029</td>\n",
       "      <td>-0.0096</td>\n",
       "      <td>2.09</td>\n",
       "      <td>0.0278</td>\n",
       "      <td>-0.0082</td>\n",
       "      <td>0.0</td>\n",
       "      <td>2.920600e+08</td>\n",
       "      <td>1.31</td>\n",
       "      <td>0.1641</td>\n",
       "    </tr>\n",
       "  </tbody>\n",
       "</table>\n",
       "</div>"
      ],
      "text/plain": [
       "Multiples  Cotação     P/L  P/VP    PSR  Div.Yield  P/Ativo  P/Cap.Giro  P/EBIT  P/Ativ Circ.Liq  EV/EBIT  EV/EBITDA  Mrg Ebit  Mrg. Líq.  Liq. Corr.    ROIC     ROE   Liq.2meses   Patrim. Líq  Dív.Brut/ Patrim.  Cresc. Rec.5a\n",
       "papel                                                                                                                                                                                                                             \n",
       "AALR3        20.57  -17.96  2.27  2.228     0.0000    0.925      -29.66   80.97            -2.39   103.01      21.15    0.0275    -0.1180        0.86  0.0132 -0.1263    7898420.0  1.072550e+09               0.85         0.0116\n",
       "ABCB3         0.00    0.00  0.00  0.000     0.0000    0.000        0.00    0.00             0.00     0.00       0.00    0.0000     0.0000        0.00  0.0000  0.1505          0.0  5.070730e+09               0.00         0.3047\n",
       "ABCB4        18.40    5.45  0.82  0.000     0.0695    0.000        0.00    0.00             0.00     0.00       0.00    0.0000     0.0000        0.00  0.0000  0.1505   18089700.0  5.070730e+09               0.00         0.3047\n",
       "ABEV3        15.24   18.33  2.66  3.037     0.0396    1.690       36.49   15.60           -26.80    14.56      10.80    0.1947     0.1715        1.19  0.1498  0.1452  447864000.0  9.017800e+10               0.03         0.1298\n",
       "ABYA3         4.91 -214.80  1.76  2.055     0.0000    0.527        1.98   19.96            -2.75    33.67      33.67    0.1029    -0.0096        2.09  0.0278 -0.0082          0.0  2.920600e+08               1.31         0.1641"
      ]
     },
     "execution_count": 8,
     "metadata": {},
     "output_type": "execute_result"
    }
   ],
   "source": [
    "data.head()"
   ]
  },
  {
   "cell_type": "markdown",
   "id": "e7ad5a85",
   "metadata": {
    "heading_collapsed": true
   },
   "source": [
    "# 1.0 DATA DESCRIPTIONS"
   ]
  },
  {
   "cell_type": "code",
   "execution_count": 6,
   "id": "663f314b",
   "metadata": {
    "ExecuteTime": {
     "end_time": "2023-03-29T22:03:17.751762Z",
     "start_time": "2023-03-29T22:03:17.115682Z"
    },
    "hidden": true
   },
   "outputs": [],
   "source": [
    "df1 = data_collect()"
   ]
  },
  {
   "cell_type": "code",
   "execution_count": 7,
   "id": "ad31fae5",
   "metadata": {
    "ExecuteTime": {
     "end_time": "2023-03-29T22:03:19.004257Z",
     "start_time": "2023-03-29T22:03:18.995279Z"
    },
    "hidden": true
   },
   "outputs": [
    {
     "data": {
      "text/plain": [
       "Index(['Cotação', 'P/L', 'P/VP', 'PSR', 'Div.Yield', 'P/Ativo', 'P/Cap.Giro',\n",
       "       'P/EBIT', 'P/Ativ Circ.Liq', 'EV/EBIT', 'EV/EBITDA', 'Mrg Ebit',\n",
       "       'Mrg. Líq.', 'Liq. Corr.', 'ROIC', 'ROE', 'Liq.2meses', 'Patrim. Líq',\n",
       "       'Dív.Brut/ Patrim.', 'Cresc. Rec.5a'],\n",
       "      dtype='object', name='Multiples')"
      ]
     },
     "execution_count": 7,
     "metadata": {},
     "output_type": "execute_result"
    }
   ],
   "source": [
    "df1.columns"
   ]
  },
  {
   "cell_type": "markdown",
   "id": "48c32ece",
   "metadata": {
    "hidden": true
   },
   "source": [
    "## 1.1 Rename Columns"
   ]
  },
  {
   "cell_type": "code",
   "execution_count": 8,
   "id": "0aedc73b",
   "metadata": {
    "ExecuteTime": {
     "end_time": "2023-03-29T22:03:20.233334Z",
     "start_time": "2023-03-29T22:03:20.227351Z"
    },
    "hidden": true
   },
   "outputs": [],
   "source": [
    "old_cols = ['Cotação', 'P/L', 'P/VP', 'PSR', 'Div.Yield', 'P/Ativo', 'P/Cap.Giro',\n",
    "       'P/EBIT', 'P/Ativ Circ.Liq', 'EV/EBIT', 'EV/EBITDA', 'Mrg Ebit',\n",
    "       'Marg_Liquida', 'Liq. Corr.', 'ROIC', 'ROE', 'Liq.2meses', 'Patrim. Líq',\n",
    "       'Dív.Brut/ Patrim.', 'Cresc. Rec.5a']"
   ]
  },
  {
   "cell_type": "code",
   "execution_count": 9,
   "id": "87b8cd66",
   "metadata": {
    "ExecuteTime": {
     "end_time": "2023-03-29T22:03:20.989788Z",
     "start_time": "2023-03-29T22:03:20.971838Z"
    },
    "hidden": true
   },
   "outputs": [],
   "source": [
    "new_cols = [cols.lower() for cols in old_cols]\n",
    "\n",
    "df1.columns = new_cols"
   ]
  },
  {
   "cell_type": "markdown",
   "id": "76c7ccf9",
   "metadata": {
    "hidden": true
   },
   "source": [
    "## 1.2 Data Dimensions"
   ]
  },
  {
   "cell_type": "code",
   "execution_count": 10,
   "id": "c68796e3",
   "metadata": {
    "ExecuteTime": {
     "end_time": "2023-03-29T22:03:21.573510Z",
     "start_time": "2023-03-29T22:03:21.563496Z"
    },
    "hidden": true
   },
   "outputs": [
    {
     "name": "stdout",
     "output_type": "stream",
     "text": [
      "Number of columns: 20\n",
      "Number of rows: 987\n"
     ]
    }
   ],
   "source": [
    "print(f'Number of columns: {df1.shape[1]}')\n",
    "print(f'Number of rows: {df1.shape[0]}')"
   ]
  },
  {
   "cell_type": "markdown",
   "id": "8adcf6e2",
   "metadata": {
    "hidden": true
   },
   "source": [
    "## 1.3 Data Cleaning"
   ]
  },
  {
   "cell_type": "code",
   "execution_count": 11,
   "id": "52c628b0",
   "metadata": {
    "ExecuteTime": {
     "end_time": "2023-03-29T22:03:22.322808Z",
     "start_time": "2023-03-29T22:03:22.283912Z"
    },
    "hidden": true
   },
   "outputs": [
    {
     "data": {
      "text/html": [
       "<div>\n",
       "<style scoped>\n",
       "    .dataframe tbody tr th:only-of-type {\n",
       "        vertical-align: middle;\n",
       "    }\n",
       "\n",
       "    .dataframe tbody tr th {\n",
       "        vertical-align: top;\n",
       "    }\n",
       "\n",
       "    .dataframe thead th {\n",
       "        text-align: right;\n",
       "    }\n",
       "</style>\n",
       "<table border=\"1\" class=\"dataframe\">\n",
       "  <thead>\n",
       "    <tr style=\"text-align: right;\">\n",
       "      <th></th>\n",
       "      <th>cotação</th>\n",
       "      <th>p/l</th>\n",
       "      <th>p/vp</th>\n",
       "      <th>psr</th>\n",
       "      <th>div.yield</th>\n",
       "      <th>p/ativo</th>\n",
       "      <th>p/cap.giro</th>\n",
       "      <th>p/ebit</th>\n",
       "      <th>p/ativ circ.liq</th>\n",
       "      <th>ev/ebit</th>\n",
       "      <th>ev/ebitda</th>\n",
       "      <th>mrg ebit</th>\n",
       "      <th>marg_liquida</th>\n",
       "      <th>liq. corr.</th>\n",
       "      <th>roic</th>\n",
       "      <th>roe</th>\n",
       "      <th>liq.2meses</th>\n",
       "      <th>patrim. líq</th>\n",
       "      <th>dív.brut/ patrim.</th>\n",
       "      <th>cresc. rec.5a</th>\n",
       "    </tr>\n",
       "    <tr>\n",
       "      <th>papel</th>\n",
       "      <th></th>\n",
       "      <th></th>\n",
       "      <th></th>\n",
       "      <th></th>\n",
       "      <th></th>\n",
       "      <th></th>\n",
       "      <th></th>\n",
       "      <th></th>\n",
       "      <th></th>\n",
       "      <th></th>\n",
       "      <th></th>\n",
       "      <th></th>\n",
       "      <th></th>\n",
       "      <th></th>\n",
       "      <th></th>\n",
       "      <th></th>\n",
       "      <th></th>\n",
       "      <th></th>\n",
       "      <th></th>\n",
       "      <th></th>\n",
       "    </tr>\n",
       "  </thead>\n",
       "  <tbody>\n",
       "    <tr>\n",
       "      <th>AALR3</th>\n",
       "      <td>20.57</td>\n",
       "      <td>-17.96</td>\n",
       "      <td>2.27</td>\n",
       "      <td>2.228</td>\n",
       "      <td>0.0000</td>\n",
       "      <td>0.925</td>\n",
       "      <td>-29.66</td>\n",
       "      <td>80.97</td>\n",
       "      <td>-2.39</td>\n",
       "      <td>103.01</td>\n",
       "      <td>21.15</td>\n",
       "      <td>0.0275</td>\n",
       "      <td>-0.1180</td>\n",
       "      <td>0.86</td>\n",
       "      <td>0.0132</td>\n",
       "      <td>-0.1263</td>\n",
       "      <td>7898420.0</td>\n",
       "      <td>1.072550e+09</td>\n",
       "      <td>0.85</td>\n",
       "      <td>0.0116</td>\n",
       "    </tr>\n",
       "    <tr>\n",
       "      <th>ABCB3</th>\n",
       "      <td>0.00</td>\n",
       "      <td>0.00</td>\n",
       "      <td>0.00</td>\n",
       "      <td>0.000</td>\n",
       "      <td>0.0000</td>\n",
       "      <td>0.000</td>\n",
       "      <td>0.00</td>\n",
       "      <td>0.00</td>\n",
       "      <td>0.00</td>\n",
       "      <td>0.00</td>\n",
       "      <td>0.00</td>\n",
       "      <td>0.0000</td>\n",
       "      <td>0.0000</td>\n",
       "      <td>0.00</td>\n",
       "      <td>0.0000</td>\n",
       "      <td>0.1505</td>\n",
       "      <td>0.0</td>\n",
       "      <td>5.070730e+09</td>\n",
       "      <td>0.00</td>\n",
       "      <td>0.3047</td>\n",
       "    </tr>\n",
       "    <tr>\n",
       "      <th>ABCB4</th>\n",
       "      <td>18.40</td>\n",
       "      <td>5.45</td>\n",
       "      <td>0.82</td>\n",
       "      <td>0.000</td>\n",
       "      <td>0.0695</td>\n",
       "      <td>0.000</td>\n",
       "      <td>0.00</td>\n",
       "      <td>0.00</td>\n",
       "      <td>0.00</td>\n",
       "      <td>0.00</td>\n",
       "      <td>0.00</td>\n",
       "      <td>0.0000</td>\n",
       "      <td>0.0000</td>\n",
       "      <td>0.00</td>\n",
       "      <td>0.0000</td>\n",
       "      <td>0.1505</td>\n",
       "      <td>18089700.0</td>\n",
       "      <td>5.070730e+09</td>\n",
       "      <td>0.00</td>\n",
       "      <td>0.3047</td>\n",
       "    </tr>\n",
       "    <tr>\n",
       "      <th>ABEV3</th>\n",
       "      <td>15.24</td>\n",
       "      <td>18.33</td>\n",
       "      <td>2.66</td>\n",
       "      <td>3.037</td>\n",
       "      <td>0.0396</td>\n",
       "      <td>1.690</td>\n",
       "      <td>36.49</td>\n",
       "      <td>15.60</td>\n",
       "      <td>-26.80</td>\n",
       "      <td>14.56</td>\n",
       "      <td>10.80</td>\n",
       "      <td>0.1947</td>\n",
       "      <td>0.1715</td>\n",
       "      <td>1.19</td>\n",
       "      <td>0.1498</td>\n",
       "      <td>0.1452</td>\n",
       "      <td>447864000.0</td>\n",
       "      <td>9.017800e+10</td>\n",
       "      <td>0.03</td>\n",
       "      <td>0.1298</td>\n",
       "    </tr>\n",
       "    <tr>\n",
       "      <th>ABYA3</th>\n",
       "      <td>4.91</td>\n",
       "      <td>-214.80</td>\n",
       "      <td>1.76</td>\n",
       "      <td>2.055</td>\n",
       "      <td>0.0000</td>\n",
       "      <td>0.527</td>\n",
       "      <td>1.98</td>\n",
       "      <td>19.96</td>\n",
       "      <td>-2.75</td>\n",
       "      <td>33.67</td>\n",
       "      <td>33.67</td>\n",
       "      <td>0.1029</td>\n",
       "      <td>-0.0096</td>\n",
       "      <td>2.09</td>\n",
       "      <td>0.0278</td>\n",
       "      <td>-0.0082</td>\n",
       "      <td>0.0</td>\n",
       "      <td>2.920600e+08</td>\n",
       "      <td>1.31</td>\n",
       "      <td>0.1641</td>\n",
       "    </tr>\n",
       "  </tbody>\n",
       "</table>\n",
       "</div>"
      ],
      "text/plain": [
       "       cotação     p/l  p/vp    psr  div.yield  p/ativo  p/cap.giro  p/ebit  p/ativ circ.liq  ev/ebit  ev/ebitda  mrg ebit  marg_liquida  liq. corr.    roic     roe   liq.2meses   patrim. líq  dív.brut/ patrim.  cresc. rec.5a\n",
       "papel                                                                                                                                                                                                                            \n",
       "AALR3    20.57  -17.96  2.27  2.228     0.0000    0.925      -29.66   80.97            -2.39   103.01      21.15    0.0275       -0.1180        0.86  0.0132 -0.1263    7898420.0  1.072550e+09               0.85         0.0116\n",
       "ABCB3     0.00    0.00  0.00  0.000     0.0000    0.000        0.00    0.00             0.00     0.00       0.00    0.0000        0.0000        0.00  0.0000  0.1505          0.0  5.070730e+09               0.00         0.3047\n",
       "ABCB4    18.40    5.45  0.82  0.000     0.0695    0.000        0.00    0.00             0.00     0.00       0.00    0.0000        0.0000        0.00  0.0000  0.1505   18089700.0  5.070730e+09               0.00         0.3047\n",
       "ABEV3    15.24   18.33  2.66  3.037     0.0396    1.690       36.49   15.60           -26.80    14.56      10.80    0.1947        0.1715        1.19  0.1498  0.1452  447864000.0  9.017800e+10               0.03         0.1298\n",
       "ABYA3     4.91 -214.80  1.76  2.055     0.0000    0.527        1.98   19.96            -2.75    33.67      33.67    0.1029       -0.0096        2.09  0.0278 -0.0082          0.0  2.920600e+08               1.31         0.1641"
      ]
     },
     "execution_count": 11,
     "metadata": {},
     "output_type": "execute_result"
    }
   ],
   "source": [
    "df1.head()"
   ]
  },
  {
   "cell_type": "markdown",
   "id": "886fd49f",
   "metadata": {
    "hidden": true
   },
   "source": [
    "## 1.4 Data Types"
   ]
  },
  {
   "cell_type": "code",
   "execution_count": 12,
   "id": "e9317619",
   "metadata": {
    "ExecuteTime": {
     "end_time": "2023-03-29T22:03:23.530456Z",
     "start_time": "2023-03-29T22:03:23.507518Z"
    },
    "hidden": true
   },
   "outputs": [
    {
     "data": {
      "text/plain": [
       "cotação              float64\n",
       "p/l                  float64\n",
       "p/vp                 float64\n",
       "psr                  float64\n",
       "div.yield            float64\n",
       "p/ativo              float64\n",
       "p/cap.giro           float64\n",
       "p/ebit               float64\n",
       "p/ativ circ.liq      float64\n",
       "ev/ebit              float64\n",
       "ev/ebitda            float64\n",
       "mrg ebit             float64\n",
       "marg_liquida         float64\n",
       "liq. corr.           float64\n",
       "roic                 float64\n",
       "roe                  float64\n",
       "liq.2meses           float64\n",
       "patrim. líq          float64\n",
       "dív.brut/ patrim.    float64\n",
       "cresc. rec.5a        float64\n",
       "dtype: object"
      ]
     },
     "execution_count": 12,
     "metadata": {},
     "output_type": "execute_result"
    }
   ],
   "source": [
    "df1.dtypes"
   ]
  },
  {
   "cell_type": "markdown",
   "id": "65af274d",
   "metadata": {},
   "source": [
    "# 2.0 FEATURE ENGINNERING"
   ]
  },
  {
   "cell_type": "code",
   "execution_count": 24,
   "id": "4ab3a48b",
   "metadata": {
    "ExecuteTime": {
     "end_time": "2023-03-29T22:06:04.470004Z",
     "start_time": "2023-03-29T22:06:04.460030Z"
    }
   },
   "outputs": [],
   "source": [
    "df2 = df1.reset_index()"
   ]
  },
  {
   "cell_type": "code",
   "execution_count": 25,
   "id": "43b92eea",
   "metadata": {
    "ExecuteTime": {
     "end_time": "2023-03-29T22:06:04.723237Z",
     "start_time": "2023-03-29T22:06:04.692158Z"
    }
   },
   "outputs": [
    {
     "data": {
      "text/html": [
       "<div>\n",
       "<style scoped>\n",
       "    .dataframe tbody tr th:only-of-type {\n",
       "        vertical-align: middle;\n",
       "    }\n",
       "\n",
       "    .dataframe tbody tr th {\n",
       "        vertical-align: top;\n",
       "    }\n",
       "\n",
       "    .dataframe thead th {\n",
       "        text-align: right;\n",
       "    }\n",
       "</style>\n",
       "<table border=\"1\" class=\"dataframe\">\n",
       "  <thead>\n",
       "    <tr style=\"text-align: right;\">\n",
       "      <th></th>\n",
       "      <th>papel</th>\n",
       "      <th>cotação</th>\n",
       "      <th>p/l</th>\n",
       "      <th>p/vp</th>\n",
       "      <th>psr</th>\n",
       "      <th>div.yield</th>\n",
       "      <th>p/ativo</th>\n",
       "      <th>p/cap.giro</th>\n",
       "      <th>p/ebit</th>\n",
       "      <th>p/ativ circ.liq</th>\n",
       "      <th>...</th>\n",
       "      <th>ev/ebitda</th>\n",
       "      <th>mrg ebit</th>\n",
       "      <th>marg_liquida</th>\n",
       "      <th>liq. corr.</th>\n",
       "      <th>roic</th>\n",
       "      <th>roe</th>\n",
       "      <th>liq.2meses</th>\n",
       "      <th>patrim. líq</th>\n",
       "      <th>dív.brut/ patrim.</th>\n",
       "      <th>cresc. rec.5a</th>\n",
       "    </tr>\n",
       "  </thead>\n",
       "  <tbody>\n",
       "    <tr>\n",
       "      <th>0</th>\n",
       "      <td>AALR3</td>\n",
       "      <td>20.57</td>\n",
       "      <td>-17.96</td>\n",
       "      <td>2.27</td>\n",
       "      <td>2.228</td>\n",
       "      <td>0.0000</td>\n",
       "      <td>0.925</td>\n",
       "      <td>-29.66</td>\n",
       "      <td>80.97</td>\n",
       "      <td>-2.39</td>\n",
       "      <td>...</td>\n",
       "      <td>21.15</td>\n",
       "      <td>0.0275</td>\n",
       "      <td>-0.1180</td>\n",
       "      <td>0.86</td>\n",
       "      <td>0.0132</td>\n",
       "      <td>-0.1263</td>\n",
       "      <td>7898420.0</td>\n",
       "      <td>1.072550e+09</td>\n",
       "      <td>0.85</td>\n",
       "      <td>0.0116</td>\n",
       "    </tr>\n",
       "    <tr>\n",
       "      <th>1</th>\n",
       "      <td>ABCB3</td>\n",
       "      <td>0.00</td>\n",
       "      <td>0.00</td>\n",
       "      <td>0.00</td>\n",
       "      <td>0.000</td>\n",
       "      <td>0.0000</td>\n",
       "      <td>0.000</td>\n",
       "      <td>0.00</td>\n",
       "      <td>0.00</td>\n",
       "      <td>0.00</td>\n",
       "      <td>...</td>\n",
       "      <td>0.00</td>\n",
       "      <td>0.0000</td>\n",
       "      <td>0.0000</td>\n",
       "      <td>0.00</td>\n",
       "      <td>0.0000</td>\n",
       "      <td>0.1505</td>\n",
       "      <td>0.0</td>\n",
       "      <td>5.070730e+09</td>\n",
       "      <td>0.00</td>\n",
       "      <td>0.3047</td>\n",
       "    </tr>\n",
       "    <tr>\n",
       "      <th>2</th>\n",
       "      <td>ABCB4</td>\n",
       "      <td>18.40</td>\n",
       "      <td>5.45</td>\n",
       "      <td>0.82</td>\n",
       "      <td>0.000</td>\n",
       "      <td>0.0695</td>\n",
       "      <td>0.000</td>\n",
       "      <td>0.00</td>\n",
       "      <td>0.00</td>\n",
       "      <td>0.00</td>\n",
       "      <td>...</td>\n",
       "      <td>0.00</td>\n",
       "      <td>0.0000</td>\n",
       "      <td>0.0000</td>\n",
       "      <td>0.00</td>\n",
       "      <td>0.0000</td>\n",
       "      <td>0.1505</td>\n",
       "      <td>18089700.0</td>\n",
       "      <td>5.070730e+09</td>\n",
       "      <td>0.00</td>\n",
       "      <td>0.3047</td>\n",
       "    </tr>\n",
       "    <tr>\n",
       "      <th>3</th>\n",
       "      <td>ABEV3</td>\n",
       "      <td>15.24</td>\n",
       "      <td>18.33</td>\n",
       "      <td>2.66</td>\n",
       "      <td>3.037</td>\n",
       "      <td>0.0396</td>\n",
       "      <td>1.690</td>\n",
       "      <td>36.49</td>\n",
       "      <td>15.60</td>\n",
       "      <td>-26.80</td>\n",
       "      <td>...</td>\n",
       "      <td>10.80</td>\n",
       "      <td>0.1947</td>\n",
       "      <td>0.1715</td>\n",
       "      <td>1.19</td>\n",
       "      <td>0.1498</td>\n",
       "      <td>0.1452</td>\n",
       "      <td>447864000.0</td>\n",
       "      <td>9.017800e+10</td>\n",
       "      <td>0.03</td>\n",
       "      <td>0.1298</td>\n",
       "    </tr>\n",
       "    <tr>\n",
       "      <th>4</th>\n",
       "      <td>ABYA3</td>\n",
       "      <td>4.91</td>\n",
       "      <td>-214.80</td>\n",
       "      <td>1.76</td>\n",
       "      <td>2.055</td>\n",
       "      <td>0.0000</td>\n",
       "      <td>0.527</td>\n",
       "      <td>1.98</td>\n",
       "      <td>19.96</td>\n",
       "      <td>-2.75</td>\n",
       "      <td>...</td>\n",
       "      <td>33.67</td>\n",
       "      <td>0.1029</td>\n",
       "      <td>-0.0096</td>\n",
       "      <td>2.09</td>\n",
       "      <td>0.0278</td>\n",
       "      <td>-0.0082</td>\n",
       "      <td>0.0</td>\n",
       "      <td>2.920600e+08</td>\n",
       "      <td>1.31</td>\n",
       "      <td>0.1641</td>\n",
       "    </tr>\n",
       "  </tbody>\n",
       "</table>\n",
       "<p>5 rows × 21 columns</p>\n",
       "</div>"
      ],
      "text/plain": [
       "   papel  cotação     p/l  p/vp    psr  div.yield  p/ativo  p/cap.giro  p/ebit  p/ativ circ.liq  ...  ev/ebitda  mrg ebit  marg_liquida  liq. corr.    roic     roe   liq.2meses   patrim. líq  dív.brut/ patrim.  cresc. rec.5a\n",
       "0  AALR3    20.57  -17.96  2.27  2.228     0.0000    0.925      -29.66   80.97            -2.39  ...      21.15    0.0275       -0.1180        0.86  0.0132 -0.1263    7898420.0  1.072550e+09               0.85         0.0116\n",
       "1  ABCB3     0.00    0.00  0.00  0.000     0.0000    0.000        0.00    0.00             0.00  ...       0.00    0.0000        0.0000        0.00  0.0000  0.1505          0.0  5.070730e+09               0.00         0.3047\n",
       "2  ABCB4    18.40    5.45  0.82  0.000     0.0695    0.000        0.00    0.00             0.00  ...       0.00    0.0000        0.0000        0.00  0.0000  0.1505   18089700.0  5.070730e+09               0.00         0.3047\n",
       "3  ABEV3    15.24   18.33  2.66  3.037     0.0396    1.690       36.49   15.60           -26.80  ...      10.80    0.1947        0.1715        1.19  0.1498  0.1452  447864000.0  9.017800e+10               0.03         0.1298\n",
       "4  ABYA3     4.91 -214.80  1.76  2.055     0.0000    0.527        1.98   19.96            -2.75  ...      33.67    0.1029       -0.0096        2.09  0.0278 -0.0082          0.0  2.920600e+08               1.31         0.1641\n",
       "\n",
       "[5 rows x 21 columns]"
      ]
     },
     "execution_count": 25,
     "metadata": {},
     "output_type": "execute_result"
    }
   ],
   "source": [
    "df2.head()"
   ]
  },
  {
   "cell_type": "markdown",
   "id": "cc9bc367",
   "metadata": {
    "heading_collapsed": true
   },
   "source": [
    "## 2.1 Separação dos setores"
   ]
  },
  {
   "cell_type": "code",
   "execution_count": 32,
   "id": "f2fa3060",
   "metadata": {
    "ExecuteTime": {
     "end_time": "2023-03-29T22:09:45.244497Z",
     "start_time": "2023-03-29T22:09:45.179670Z"
    },
    "hidden": true
   },
   "outputs": [],
   "source": [
    "setores = {\n",
    "'agropecuaria': ['AGXY3', 'FRTA3', 'AGRO3', 'SLCE3', 'TTEN3', 'SOJA3'],\n",
    "'agua_e_saneamento': ['ORVR3', 'SAPR3', 'SAPR11', 'SAPR4', 'CSMG3', 'SBSP3', 'AMBP3'],\n",
    "'alimentos_processados': ['BRFS3','MRFG3','MNPR3','JBSS3','JALL3','CAML3','SMTO3','JOPA3','BEEF3','JOPA4','MDIA3','BAUH4'],\n",
    "'serv_medicos_analises_e_diagnasticos': ['ONCO3','HAPV3','DASA3','AALR3','KRSA3','QUAL3','ODPV3','PARD3','FLRY3','MATD3','RDOR3'],\n",
    "'automoveis_e_motocicletas': ['PLAS3', 'MYPK3', 'LEVE3'],\n",
    "'bebidas': ['ABEV3'],\n",
    "'comercio': ['MGLU3', 'ESPA3', 'VIIA3', 'CEAB3', 'AMAR3', 'LLIS3', 'SLED4', 'SLED3', 'EPAR3', 'CGRA4', 'CGRA3', 'WLMM3', 'ALLD3', 'WLMM4', 'SBFG3', \n",
    " 'BTTL3', 'GUAR3', 'LREN3', 'ARZZ3', 'SOMA3', 'PETZ3', 'AMER3', 'LJQQ3'],\n",
    "'comercio_e_distribuicao': ['PCAR3', 'PFRM3', 'DMVF3', 'GMAT3', 'CRFB3', 'BLAU3', 'HYPE3', 'VVEO3', 'PGMN3', 'PNVL3', 'ASAI3', 'RADL3'],\n",
    "'computadores_e_equipamentos': ['POSI3', 'MLAS3', 'INTB3'],\n",
    "'construcao_civil': ['GFSA3', 'CRDE3', 'VIVR3', 'TCSA3', 'TEND3', 'JFEN3', 'AVLL3', 'RSID3', 'PDGR3', 'MDNE3', 'JHSF3', 'HBOR3', 'MELK3', 'CYRE3', 'CALI3', \n",
    "  'PLPL3', 'EVEN3', 'EZTC3', 'MRVE3', 'LAVV3', 'CURY3', 'MTRE3', 'TRIS3', 'DIRR3', 'RDNI3'],\n",
    "'construcao_e_engenharia': ['TCNO3', 'TCNO4', 'ETER3', 'HAGA4', 'SOND5', 'SOND6', 'PTBL3', 'HAGA3', 'AZEV4', 'AZEV3'],\n",
    "'diversos': ['YDUQ3', 'COGN3', 'SEER3', 'ANIM3', 'BAHI3', 'DOTZ3', 'MOVI3', 'MILS3', 'VAMO3', 'RENT3', 'CSED3', 'ARML3'],\n",
    "'embalagens': ['MTIG4'],\n",
    "'energia_elétrica': ['AESB3', 'CBEE3', 'LIGT3', 'RNEW4', 'RNEW3', 'RNEW11', 'CEBR3', 'CLSC3', 'CEBR5', 'CEBR6', 'CLSC4', 'NEOE3', 'GPAR3', 'AFLT3', 'ENBR3', \n",
    "  'TRPL4', 'CEEB5', 'CEEB3', 'ENGI4', 'COCE5', 'CMIG4', 'TAEE11', 'TAEE4', 'TAEE3', 'EKTR3', 'CSRN5', 'CSRN6', 'EKTR4', 'CSRN3', 'EQMA3B', \n",
    "  'TRPL3', 'CPFE3', 'ENGI11', 'REDE3', 'ALUP4', 'ALUP3', 'ALUP11', 'CMIG3', 'EQPA3', 'CEED4', 'CEED3', 'ENGI3', 'MEGA3', 'EQTL3', 'EQPA5', \n",
    "  'EQPA7', 'ENMT4', 'ENMT3', 'GEPA3', 'GEPA4', 'EGIE3', 'ENEV3', 'EMAE4', 'ELET3', 'CPLE3', 'ELET6', 'CPLE11', 'CPLE6', 'LIPR3', 'CEPE5', \n",
    "  'CEPE6', 'AURE3', 'CPLE5'],\n",
    "'equipamentos': ['BALM4', 'BALM3'],\n",
    "'exploração_de_imóveis': ['SCAR3', 'BRPR3', 'IGBR3', 'NEXP3', 'GSHP3', 'SYNE3', 'HBRE3', 'LOGG3', 'BRML3', 'ALSO3', 'MULT3', 'JPSA3', 'LPSB3', 'HBTS5', 'IGTI3', 'IGTI11'],\n",
    "'gás': ['CGAS3', 'CGAS5'],\n",
    "'holdings_diversificadas': ['PEAB4', 'PEAB3', 'SIMH3', 'MOAR3'],\n",
    "'hoteis_e_restaurantes': ['ZAMP3', 'MEAL3', 'HOOT4'],\n",
    "'intermediários_financeiros': ['BAZA3', 'BNBR3', 'DMFN3', 'BBAS3', 'ITSA4', 'ABCB4', 'BRSR6', 'BEES3', 'ITSA3', 'BMEB4', 'BMGB4', 'BEES4', 'BMEB3', 'BBDC3', 'BRSR3', 'SANB3', \n",
    "  'BRIV4', 'ITUB3', 'BBDC4', 'BRIV3', 'SANB11', 'SANB4', 'ITUB4', 'BPAC5', 'BSLI4', 'BRSR5', 'BRBI11', 'RPAD6', 'BGIP4', 'RPAD5', 'BMIN4', 'CRIV4',\n",
    "  'CRIV3', 'RPAD3', 'BSLI3', 'BPAN4', 'BPAC11', 'BGIP3', 'BMIN3', 'PINE4', 'BPAC3', 'MERC4', 'MODL3', 'MERC3'],\n",
    "'madeira_e_papel': ['EUCA4', 'EUCA3', 'SUZB3', 'KLBN3', 'KLBN11', 'KLBN4', 'DXCO3', 'RANI3'],\n",
    "'máquinas_e_equipamentos': ['AERI3', 'NORD3', 'FRIO3', 'INEP4', 'INEP3', 'BDLL4', 'TASA4', 'TASA3', 'BDLL3', 'EALT4', 'MTSA4', 'EALT3', 'KEPL3', 'ROMI3', 'SHUL4', 'WEGE3'],\n",
    "'materiais_diversos': ['SNSY5'],\n",
    "'material_de_transporte': ['RCSL3', 'EMBR3', 'RCSL4', 'MWET4', 'MWET3', 'RAPT3', 'RAPT4', 'RSUL4', 'POMO3', 'TUPY3', 'POMO4', 'FRAS3'],\n",
    "'medicamentos_e_outros_produtos': ['BIOM3', 'OFSA3'],\n",
    "'midia': ['ELMD3'],\n",
    "'mineração': ['BRAP3', 'BRAP4', 'VALE3', 'AURA33', 'CBAV3', 'CMIN3'],\n",
    "'outros': ['BLUT3', 'BLUT4', 'ATOM3'],\n",
    "'petróleo': ['DMMO3', 'LUPA3', 'RPMG3', 'OSXB3', 'OPCT3', 'PETR4', 'PETR3', 'ENAT3', 'VBBR3', 'PRIO3', 'UGPA3', 'RECV3', 'CSAN3', 'RAIZ4', 'RRRP3'],\n",
    "'previdência_e_seguros': ['CSAB4', 'CSAB3', 'IRBR3', 'WIZS3', 'BRGE11', 'BRGE8', 'BRGE3', 'CXSE3', 'BRGE12', 'BRGE5', 'BRGE6', 'BBSE3', 'PSSA3', 'APER3', 'SULA3', 'SULA4', 'SULA11'],\n",
    "'uso_pessoal_e_limpeza': ['NTCO3', 'BOBR4'],\n",
    "'programas_e_serviços': ['TRAD3', 'CASH3', 'NINJ3', 'IFCM3', 'MBLY3', 'WEST3', 'ENJU3', 'LVTC3', 'BMOB3', 'TOTS3', 'SQIA3', 'NGRD3', 'LWSA3'],\n",
    "'serviços_diversos': ['DTCY3', 'SEQL3', 'ALPK3', 'ATMP3', 'PRNR3', 'CSUD3', 'GGPS3', 'VLID3'],\n",
    "'serviços_financeiros_diversos': ['CLSA3', 'GPIV33', 'GETT4', 'GETT3', 'BOAS3', 'CIEL3', 'B3SA3', 'PDTC3'],\n",
    "'siderurgia_e_metalurgia': ['PMAM3', 'MGEL4', 'USIM3', 'USIM5', 'GOAU3', 'GOAU4', 'GGBR3', 'USIM6', 'TKNO4', 'GGBR4', 'FESA4', 'FESA3', 'CSNA3', 'PATI3', 'PATI4'],\n",
    "'tecidos': ['CTKA3', 'CTKA4', 'CEDO3', 'CTSA3', 'CEDO4', 'CTSA4', 'CTNM3', 'TXRX4', 'CTNM4', 'SGPS3', 'MNDL3', 'TEKA4', 'PTNT4', 'TECN3', 'CAMB3', 'PTNT3', 'VULC3',\n",
    "     'GRND3', 'VIVA3', 'DOHL4', 'TFCO4', 'ALPA3', 'ALPA4', 'DOHL3'],\n",
    "'telecomunicações': ['TELB3', 'TELB4', 'OIBR4', 'OIBR3', 'FIQE3', 'VIVT3', 'TIMS3', 'DESK3', 'BRIT3'],\n",
    "'transporte': ['RAIL3', 'TPIS3', 'HBSA3', 'AZUL4', 'GOLL4', 'CCRO3', 'TGMA3', 'JSLG3', 'MRSA6B', 'MRSA6B', 'MRSA3B', 'MRSA3B', 'STBP3', 'MRSA5B', 'MRSA5B', 'PORT3', 'ECOR3', 'LOGN3', 'LUXM4'],\n",
    "'utilidades_domésticas': ['HETA4', 'UCAS3', 'WHRL3', 'WHRL4'],\n",
    "'viagens_e_lazer': ['SMFT3', 'SHOW3', 'AHEB3', 'CVCB3', 'ESTR4', 'BMKS3']\n",
    "}\n",
    "\n",
    "# Função lambda para mapear o nome do setor de acordo com o código\n",
    "mapeamento = lambda x: next((setor for setor, codigos in setores.items() if x in codigos), 'setor_desconhecido')\n",
    "\n",
    "# Criando a nova coluna com o nome do setor\n",
    "df2['setor'] = df2['papel'].apply(mapeamento)"
   ]
  },
  {
   "cell_type": "code",
   "execution_count": 33,
   "id": "1afc661a",
   "metadata": {
    "ExecuteTime": {
     "end_time": "2023-03-29T22:09:46.755086Z",
     "start_time": "2023-03-29T22:09:46.716213Z"
    },
    "hidden": true
   },
   "outputs": [
    {
     "data": {
      "text/html": [
       "<div>\n",
       "<style scoped>\n",
       "    .dataframe tbody tr th:only-of-type {\n",
       "        vertical-align: middle;\n",
       "    }\n",
       "\n",
       "    .dataframe tbody tr th {\n",
       "        vertical-align: top;\n",
       "    }\n",
       "\n",
       "    .dataframe thead th {\n",
       "        text-align: right;\n",
       "    }\n",
       "</style>\n",
       "<table border=\"1\" class=\"dataframe\">\n",
       "  <thead>\n",
       "    <tr style=\"text-align: right;\">\n",
       "      <th></th>\n",
       "      <th>papel</th>\n",
       "      <th>cotação</th>\n",
       "      <th>p/l</th>\n",
       "      <th>p/vp</th>\n",
       "      <th>psr</th>\n",
       "      <th>div.yield</th>\n",
       "      <th>p/ativo</th>\n",
       "      <th>p/cap.giro</th>\n",
       "      <th>p/ebit</th>\n",
       "      <th>p/ativ circ.liq</th>\n",
       "      <th>...</th>\n",
       "      <th>mrg ebit</th>\n",
       "      <th>marg_liquida</th>\n",
       "      <th>liq. corr.</th>\n",
       "      <th>roic</th>\n",
       "      <th>roe</th>\n",
       "      <th>liq.2meses</th>\n",
       "      <th>patrim. líq</th>\n",
       "      <th>dív.brut/ patrim.</th>\n",
       "      <th>cresc. rec.5a</th>\n",
       "      <th>setor</th>\n",
       "    </tr>\n",
       "  </thead>\n",
       "  <tbody>\n",
       "    <tr>\n",
       "      <th>0</th>\n",
       "      <td>AALR3</td>\n",
       "      <td>20.57</td>\n",
       "      <td>-17.96</td>\n",
       "      <td>2.27</td>\n",
       "      <td>2.228</td>\n",
       "      <td>0.0000</td>\n",
       "      <td>0.925</td>\n",
       "      <td>-29.66</td>\n",
       "      <td>80.97</td>\n",
       "      <td>-2.39</td>\n",
       "      <td>...</td>\n",
       "      <td>0.0275</td>\n",
       "      <td>-0.1180</td>\n",
       "      <td>0.86</td>\n",
       "      <td>0.0132</td>\n",
       "      <td>-0.1263</td>\n",
       "      <td>7898420.0</td>\n",
       "      <td>1.072550e+09</td>\n",
       "      <td>0.85</td>\n",
       "      <td>0.0116</td>\n",
       "      <td>serv_medicos_analises_e_diagnasticos</td>\n",
       "    </tr>\n",
       "    <tr>\n",
       "      <th>1</th>\n",
       "      <td>ABCB3</td>\n",
       "      <td>0.00</td>\n",
       "      <td>0.00</td>\n",
       "      <td>0.00</td>\n",
       "      <td>0.000</td>\n",
       "      <td>0.0000</td>\n",
       "      <td>0.000</td>\n",
       "      <td>0.00</td>\n",
       "      <td>0.00</td>\n",
       "      <td>0.00</td>\n",
       "      <td>...</td>\n",
       "      <td>0.0000</td>\n",
       "      <td>0.0000</td>\n",
       "      <td>0.00</td>\n",
       "      <td>0.0000</td>\n",
       "      <td>0.1505</td>\n",
       "      <td>0.0</td>\n",
       "      <td>5.070730e+09</td>\n",
       "      <td>0.00</td>\n",
       "      <td>0.3047</td>\n",
       "      <td>setor_desconhecido</td>\n",
       "    </tr>\n",
       "    <tr>\n",
       "      <th>2</th>\n",
       "      <td>ABCB4</td>\n",
       "      <td>18.40</td>\n",
       "      <td>5.45</td>\n",
       "      <td>0.82</td>\n",
       "      <td>0.000</td>\n",
       "      <td>0.0695</td>\n",
       "      <td>0.000</td>\n",
       "      <td>0.00</td>\n",
       "      <td>0.00</td>\n",
       "      <td>0.00</td>\n",
       "      <td>...</td>\n",
       "      <td>0.0000</td>\n",
       "      <td>0.0000</td>\n",
       "      <td>0.00</td>\n",
       "      <td>0.0000</td>\n",
       "      <td>0.1505</td>\n",
       "      <td>18089700.0</td>\n",
       "      <td>5.070730e+09</td>\n",
       "      <td>0.00</td>\n",
       "      <td>0.3047</td>\n",
       "      <td>intermediários_financeiros</td>\n",
       "    </tr>\n",
       "    <tr>\n",
       "      <th>3</th>\n",
       "      <td>ABEV3</td>\n",
       "      <td>15.24</td>\n",
       "      <td>18.33</td>\n",
       "      <td>2.66</td>\n",
       "      <td>3.037</td>\n",
       "      <td>0.0396</td>\n",
       "      <td>1.690</td>\n",
       "      <td>36.49</td>\n",
       "      <td>15.60</td>\n",
       "      <td>-26.80</td>\n",
       "      <td>...</td>\n",
       "      <td>0.1947</td>\n",
       "      <td>0.1715</td>\n",
       "      <td>1.19</td>\n",
       "      <td>0.1498</td>\n",
       "      <td>0.1452</td>\n",
       "      <td>447864000.0</td>\n",
       "      <td>9.017800e+10</td>\n",
       "      <td>0.03</td>\n",
       "      <td>0.1298</td>\n",
       "      <td>bebidas</td>\n",
       "    </tr>\n",
       "    <tr>\n",
       "      <th>4</th>\n",
       "      <td>ABYA3</td>\n",
       "      <td>4.91</td>\n",
       "      <td>-214.80</td>\n",
       "      <td>1.76</td>\n",
       "      <td>2.055</td>\n",
       "      <td>0.0000</td>\n",
       "      <td>0.527</td>\n",
       "      <td>1.98</td>\n",
       "      <td>19.96</td>\n",
       "      <td>-2.75</td>\n",
       "      <td>...</td>\n",
       "      <td>0.1029</td>\n",
       "      <td>-0.0096</td>\n",
       "      <td>2.09</td>\n",
       "      <td>0.0278</td>\n",
       "      <td>-0.0082</td>\n",
       "      <td>0.0</td>\n",
       "      <td>2.920600e+08</td>\n",
       "      <td>1.31</td>\n",
       "      <td>0.1641</td>\n",
       "      <td>setor_desconhecido</td>\n",
       "    </tr>\n",
       "  </tbody>\n",
       "</table>\n",
       "<p>5 rows × 22 columns</p>\n",
       "</div>"
      ],
      "text/plain": [
       "   papel  cotação     p/l  p/vp    psr  div.yield  p/ativo  p/cap.giro  p/ebit  p/ativ circ.liq  ...  mrg ebit  marg_liquida  liq. corr.    roic     roe   liq.2meses   patrim. líq  dív.brut/ patrim.  cresc. rec.5a                                 setor\n",
       "0  AALR3    20.57  -17.96  2.27  2.228     0.0000    0.925      -29.66   80.97            -2.39  ...    0.0275       -0.1180        0.86  0.0132 -0.1263    7898420.0  1.072550e+09               0.85         0.0116  serv_medicos_analises_e_diagnasticos\n",
       "1  ABCB3     0.00    0.00  0.00  0.000     0.0000    0.000        0.00    0.00             0.00  ...    0.0000        0.0000        0.00  0.0000  0.1505          0.0  5.070730e+09               0.00         0.3047                    setor_desconhecido\n",
       "2  ABCB4    18.40    5.45  0.82  0.000     0.0695    0.000        0.00    0.00             0.00  ...    0.0000        0.0000        0.00  0.0000  0.1505   18089700.0  5.070730e+09               0.00         0.3047            intermediários_financeiros\n",
       "3  ABEV3    15.24   18.33  2.66  3.037     0.0396    1.690       36.49   15.60           -26.80  ...    0.1947        0.1715        1.19  0.1498  0.1452  447864000.0  9.017800e+10               0.03         0.1298                               bebidas\n",
       "4  ABYA3     4.91 -214.80  1.76  2.055     0.0000    0.527        1.98   19.96            -2.75  ...    0.1029       -0.0096        2.09  0.0278 -0.0082          0.0  2.920600e+08               1.31         0.1641                    setor_desconhecido\n",
       "\n",
       "[5 rows x 22 columns]"
      ]
     },
     "execution_count": 33,
     "metadata": {},
     "output_type": "execute_result"
    }
   ],
   "source": [
    "df2.head()"
   ]
  },
  {
   "cell_type": "markdown",
   "id": "012cf112",
   "metadata": {
    "heading_collapsed": true
   },
   "source": [
    "# 3.0 FILTERING VARIABLES"
   ]
  },
  {
   "cell_type": "code",
   "execution_count": 156,
   "id": "44f25ff1",
   "metadata": {
    "ExecuteTime": {
     "end_time": "2023-03-29T21:02:41.208817Z",
     "start_time": "2023-03-29T21:02:41.203865Z"
    },
    "hidden": true
   },
   "outputs": [],
   "source": [
    "df3 = df2.copy()"
   ]
  },
  {
   "cell_type": "markdown",
   "id": "05d9ee70",
   "metadata": {
    "ExecuteTime": {
     "end_time": "2023-01-16T01:17:10.173638Z",
     "start_time": "2023-01-16T01:17:10.161669Z"
    },
    "hidden": true
   },
   "source": [
    "## 3.1. Filtering Columns"
   ]
  },
  {
   "cell_type": "code",
   "execution_count": 157,
   "id": "fbc6cb9a",
   "metadata": {
    "ExecuteTime": {
     "end_time": "2023-03-29T21:02:42.051861Z",
     "start_time": "2023-03-29T21:02:42.041929Z"
    },
    "hidden": true
   },
   "outputs": [],
   "source": [
    "cols_selected = ['papel', 'setor', 'p/l', 'p/vp', 'div.yield', 'cresc. rec.5a', 'marg_liquida', 'roe']\n",
    "\n",
    "df3 = df3.loc[ :, cols_selected]"
   ]
  },
  {
   "cell_type": "markdown",
   "id": "64dd4c4c",
   "metadata": {
    "ExecuteTime": {
     "end_time": "2023-01-16T01:17:10.173638Z",
     "start_time": "2023-01-16T01:17:10.161669Z"
    },
    "hidden": true
   },
   "source": [
    "## 3.2. Filtering Rows"
   ]
  },
  {
   "cell_type": "code",
   "execution_count": 158,
   "id": "a6b0ea90",
   "metadata": {
    "ExecuteTime": {
     "end_time": "2023-03-29T21:02:42.957039Z",
     "start_time": "2023-03-29T21:02:42.947067Z"
    },
    "hidden": true
   },
   "outputs": [],
   "source": [
    "# filtro setor desconhecido\n",
    "df3 = df3.loc[ df3['setor'] != 'setor_desconhecido']\n",
    "\n",
    "# filtro PL negativo\n",
    "df3 = df3.loc[ df3['p/l'] > 0 , :]\n",
    "\n",
    "# filtro PVP negativo\n",
    "df3 = df3.loc[ df3['p/vp'] > 0 , :]\n",
    "\n",
    "# filtro div_yield < 100\n",
    "df3 = df3.loc[ df3['div.yield'] < 100 , :]"
   ]
  },
  {
   "cell_type": "code",
   "execution_count": 159,
   "id": "3ced6635",
   "metadata": {
    "ExecuteTime": {
     "end_time": "2023-03-29T21:02:43.303646Z",
     "start_time": "2023-03-29T21:02:43.288024Z"
    },
    "hidden": true
   },
   "outputs": [
    {
     "data": {
      "text/plain": [
       "(326, 8)"
      ]
     },
     "execution_count": 159,
     "metadata": {},
     "output_type": "execute_result"
    }
   ],
   "source": [
    "df3.shape"
   ]
  },
  {
   "cell_type": "markdown",
   "id": "99d532bb",
   "metadata": {
    "heading_collapsed": true
   },
   "source": [
    "# 4.0 CONSTRUÇÃO DA SOLUÇÃO"
   ]
  },
  {
   "cell_type": "code",
   "execution_count": 169,
   "id": "84e0f720",
   "metadata": {
    "ExecuteTime": {
     "end_time": "2023-03-29T21:14:10.496207Z",
     "start_time": "2023-03-29T21:14:10.482224Z"
    },
    "hidden": true
   },
   "outputs": [],
   "source": [
    "df4 = df3.set_index( 'papel' )"
   ]
  },
  {
   "cell_type": "markdown",
   "id": "6d366556",
   "metadata": {
    "hidden": true
   },
   "source": [
    "## 4.1 Separação dos setores"
   ]
  },
  {
   "cell_type": "code",
   "execution_count": 170,
   "id": "f1659589",
   "metadata": {
    "ExecuteTime": {
     "end_time": "2023-03-29T21:14:13.032028Z",
     "start_time": "2023-03-29T21:14:12.947371Z"
    },
    "hidden": true
   },
   "outputs": [],
   "source": [
    "setor_agropecuaria = df4[ df4['setor'] == 'agropecuaria'].drop('setor', axis=1)\n",
    "setor_agua_e_saneamento = df4[ df4['setor'] == 'agua_e_saneamento'].drop('setor', axis=1)\n",
    "setor_alimentos_processados = df4[ df4['setor'] == 'alimentos_processados'].drop('setor', axis=1)\n",
    "setor_serv_medicos_analises_e_diagnasticos = df4[ df4['setor'] == 'serv_medicos_analises_e_diagnasticos'].drop('setor', axis=1)\n",
    "setor_automoveis_e_motocicletas = df4[ df4['setor'] == 'automoveis_e_motocicletas'].drop('setor', axis=1)\n",
    "setor_bebidas = df4[ df4['setor'] == 'bebidas'].drop('setor', axis=1)\n",
    "setor_comercio = df4[ df4['setor'] == 'comercio'].drop('setor', axis=1)\n",
    "setor_comercio_e_distribuicao = df4[ df4['setor'] == 'comercio_e_distribuicao'].drop('setor', axis=1)\n",
    "setor_computadores_e_equipamentos = df4[ df4['setor'] == 'computadores_e_equipamentos'].drop('setor', axis=1)\n",
    "setor_construcao_civil = df4[ df4['setor'] == 'construcao_civil'].drop('setor', axis=1)\n",
    "setor_construcao_e_engenharia = df4[ df4['setor'] == 'construcao_e_engenharia'].drop('setor', axis=1)\n",
    "setor_diversos = df4[ df4['setor'] == 'diversos'].drop('setor', axis=1)\n",
    "setor_energia_eletrica = df4[ df4['setor'] == 'energia_eletrica'].drop('setor', axis=1)\n",
    "setor_embalagens = df4[ df4['setor'] == 'setor_embalagens'].drop('setor', axis=1)\n",
    "setor_equipamentos = df4[ df4['setor'] == 'equipamentos'].drop('setor', axis=1)\n",
    "setor_exploracao_de_imoveis = df4[ df4['setor'] == 'exploracao_de_imoveis'].drop('setor', axis=1)\n",
    "setor_gas = df4[ df4['setor'] == 'gas'].drop('setor', axis=1)\n",
    "setor_holdings_diversificadas = df4[ df4['setor'] == 'holdings_diversificadas'].drop('setor', axis=1)\n",
    "setor_hoteis_e_restaurantes= df4[ df4['setor'] == 'setor_hoteis_e_restaurantes'].drop('setor', axis=1)\n",
    "setor_intermediarios_financeiros = df4[ df4['setor'] == 'intermediarios_financeiros'].drop('setor', axis=1)\n",
    "setor_madeira_e_papel = df4[ df4['setor'] == 'madeira_e_papel'].drop('setor', axis=1)\n",
    "setor_maquinas_e_equipamentos = df4[ df4['setor'] == 'maquinas_e_equipamentos'].drop('setor', axis=1)\n",
    "setor_material_de_transporte = df4[ df4['setor'] == 'material_de_transporte'].drop('setor', axis=1)\n",
    "setor_materiais_diversos = df4[ df4['setor'] == 'setor_materiais_diversos'].drop('setor', axis=1)\n",
    "setor_medicamentos_e_outros_produtos = df4[ df4['setor'] == 'medicamentos_e_outros_produtos'].drop('setor', axis=1)\n",
    "setor_midia = df4[ df4['setor'] == 'setor_midia'].drop('setor', axis=1)\n",
    "setor_mineracao = df4[ df4['setor'] == 'mineracao'].drop('setor', axis=1)\n",
    "setor_outros = df4[ df4['setor'] == 'outros'].drop('setor', axis=1)\n",
    "setor_petroleo = df4[ df4['setor'] == 'petroleo'].drop('setor', axis=1)\n",
    "setor_gas_e_biocombustiveis = df4[ df4['setor'] == 'gas_e_biocombustiveis'].drop('setor', axis=1)\n",
    "setor_previdencia_e_seguros = df4[ df4['setor'] == 'previdencia_e_seguros'].drop('setor', axis=1)\n",
    "setor_programas_e_servicos = df4[ df4['setor'] == 'programas_e_servicos'].drop('setor', axis=1)\n",
    "setor_quimicos = df4[ df4['setor'] == 'quimicos'].drop('setor', axis=1)\n",
    "setor_servicos_diversos = df4[ df4['setor'] == 'servicos_diversos'].drop('setor', axis=1)\n",
    "setor_servicos_financeiros_diversos = df4[ df4['setor'] == 'servicos_financeiros_diversos'].drop('setor', axis=1)\n",
    "setor_siderurgia_e_metalurgia = df4[ df4['setor'] == 'siderurgia_e_metalurgia'].drop('setor', axis=1)\n",
    "setor_tecidos = df4[ df4['setor'] == 'tecidos'].drop('setor', axis=1)\n",
    "setor_uso_pessoal_e_limpeza = df4[ df4['setor'] == 'setor_uso_pessoal_e_limpeza'].drop('setor', axis=1)\n",
    "setor_vestuario_e_calcados = df4[ df4['setor'] == '_vestuario_e_calcados'].drop('setor', axis=1)\n",
    "setor_telecomunicacoes = df4[ df4['setor'] == 'telecomunicacoes'].drop('setor', axis=1)\n",
    "setor_transporte = df4[ df4['setor'] == 'transporte'].drop('setor', axis=1)\n",
    "setor_utilidades_domesticas = df4[ df4['setor'] == 'utilidades_domesticas'].drop('setor', axis=1)\n",
    "setor_viagens_e_lazer = df4[ df4['setor'] == 'viagens_e_lazer'].drop('setor', axis=1)"
   ]
  },
  {
   "cell_type": "markdown",
   "id": "9807bc2b",
   "metadata": {
    "heading_collapsed": true,
    "hidden": true
   },
   "source": [
    "## 4.2 Matriz Decisão"
   ]
  },
  {
   "cell_type": "code",
   "execution_count": 176,
   "id": "9adfe8fc",
   "metadata": {
    "ExecuteTime": {
     "end_time": "2023-03-29T21:21:10.574189Z",
     "start_time": "2023-03-29T21:21:10.554244Z"
    },
    "hidden": true
   },
   "outputs": [
    {
     "data": {
      "text/html": [
       "<div>\n",
       "<style scoped>\n",
       "    .dataframe tbody tr th:only-of-type {\n",
       "        vertical-align: middle;\n",
       "    }\n",
       "\n",
       "    .dataframe tbody tr th {\n",
       "        vertical-align: top;\n",
       "    }\n",
       "\n",
       "    .dataframe thead th {\n",
       "        text-align: right;\n",
       "    }\n",
       "</style>\n",
       "<table border=\"1\" class=\"dataframe\">\n",
       "  <thead>\n",
       "    <tr style=\"text-align: right;\">\n",
       "      <th></th>\n",
       "      <th>p/l</th>\n",
       "      <th>p/vp</th>\n",
       "      <th>div.yield</th>\n",
       "      <th>cresc. rec.5a</th>\n",
       "      <th>marg_liquida</th>\n",
       "      <th>roe</th>\n",
       "    </tr>\n",
       "    <tr>\n",
       "      <th>papel</th>\n",
       "      <th></th>\n",
       "      <th></th>\n",
       "      <th></th>\n",
       "      <th></th>\n",
       "      <th></th>\n",
       "      <th></th>\n",
       "    </tr>\n",
       "  </thead>\n",
       "  <tbody>\n",
       "    <tr>\n",
       "      <th>AGRO3</th>\n",
       "      <td>6.13</td>\n",
       "      <td>1.18</td>\n",
       "      <td>0.2010</td>\n",
       "      <td>0.3976</td>\n",
       "      <td>0.2568</td>\n",
       "      <td>0.1920</td>\n",
       "    </tr>\n",
       "    <tr>\n",
       "      <th>SLCE3</th>\n",
       "      <td>6.93</td>\n",
       "      <td>1.93</td>\n",
       "      <td>0.0557</td>\n",
       "      <td>0.3620</td>\n",
       "      <td>0.1520</td>\n",
       "      <td>0.2788</td>\n",
       "    </tr>\n",
       "    <tr>\n",
       "      <th>SOJA3</th>\n",
       "      <td>9.46</td>\n",
       "      <td>1.52</td>\n",
       "      <td>0.0115</td>\n",
       "      <td>0.7023</td>\n",
       "      <td>0.0793</td>\n",
       "      <td>0.1608</td>\n",
       "    </tr>\n",
       "    <tr>\n",
       "      <th>TTEN3</th>\n",
       "      <td>8.40</td>\n",
       "      <td>1.67</td>\n",
       "      <td>0.0018</td>\n",
       "      <td>0.0000</td>\n",
       "      <td>0.0808</td>\n",
       "      <td>0.1984</td>\n",
       "    </tr>\n",
       "  </tbody>\n",
       "</table>\n",
       "</div>"
      ],
      "text/plain": [
       "        p/l  p/vp  div.yield  cresc. rec.5a  marg_liquida     roe\n",
       "papel                                                            \n",
       "AGRO3  6.13  1.18     0.2010         0.3976        0.2568  0.1920\n",
       "SLCE3  6.93  1.93     0.0557         0.3620        0.1520  0.2788\n",
       "SOJA3  9.46  1.52     0.0115         0.7023        0.0793  0.1608\n",
       "TTEN3  8.40  1.67     0.0018         0.0000        0.0808  0.1984"
      ]
     },
     "execution_count": 176,
     "metadata": {},
     "output_type": "execute_result"
    }
   ],
   "source": [
    "setor_agropecuaria"
   ]
  },
  {
   "cell_type": "markdown",
   "id": "4661c01d",
   "metadata": {
    "heading_collapsed": true,
    "hidden": true
   },
   "source": [
    "## 4.4 Construção da Solução"
   ]
  },
  {
   "cell_type": "code",
   "execution_count": null,
   "id": "a568bdbe",
   "metadata": {
    "ExecuteTime": {
     "end_time": "2023-01-16T18:28:50.528012Z",
     "start_time": "2023-01-16T18:28:50.504076Z"
    },
    "hidden": true
   },
   "outputs": [],
   "source": [
    "fator_gaussiano = setor_agropecuária_normalizado.std() / setor_agropecuária_normalizado.mean()\n",
    "\n",
    "fator_gaussiano"
   ]
  },
  {
   "cell_type": "code",
   "execution_count": null,
   "id": "dc925001",
   "metadata": {
    "ExecuteTime": {
     "end_time": "2023-01-16T18:28:50.761834Z",
     "start_time": "2023-01-16T18:28:50.735868Z"
    },
    "hidden": true
   },
   "outputs": [],
   "source": [
    "fator_normalizado = fator_gaussiano / fator_gaussiano.sum()\n",
    "\n",
    "fator_normalizado"
   ]
  },
  {
   "cell_type": "code",
   "execution_count": null,
   "id": "f93ff97a",
   "metadata": {
    "ExecuteTime": {
     "end_time": "2023-01-16T18:28:51.421022Z",
     "start_time": "2023-01-16T18:28:51.406061Z"
    },
    "hidden": true
   },
   "outputs": [],
   "source": [
    "# ponderação da matriz normalizada\n",
    "setor_agropecuária_normalizado['pl'] = setor_agropecuária_normalizado['pl'] * fator_normalizado['pl']\n",
    "setor_agropecuária_normalizado['pvp'] = setor_agropecuária_normalizado['pvp'] * fator_normalizado['pvp']\n",
    "setor_agropecuária_normalizado['div_yield'] = setor_agropecuária_normalizado['div_yield'] * fator_normalizado['div_yield']\n",
    "setor_agropecuária_normalizado['cres_rec_5a'] = setor_agropecuária_normalizado['cres_rec_5a'] * fator_normalizado['cres_rec_5a']\n",
    "setor_agropecuária_normalizado['marg_liquida'] = setor_agropecuária_normalizado['marg_liquida'] * fator_normalizado['marg_liquida']\n",
    "setor_agropecuária_normalizado['roe'] = setor_agropecuária_normalizado['roe'] * fator_normalizado['roe']"
   ]
  },
  {
   "cell_type": "code",
   "execution_count": null,
   "id": "f731e578",
   "metadata": {
    "ExecuteTime": {
     "end_time": "2023-01-16T18:28:51.750024Z",
     "start_time": "2023-01-16T18:28:51.726089Z"
    },
    "hidden": true
   },
   "outputs": [],
   "source": [
    "setor_agropecuária_ponderado"
   ]
  },
  {
   "cell_type": "code",
   "execution_count": null,
   "id": "91991939",
   "metadata": {
    "ExecuteTime": {
     "end_time": "2023-01-16T18:28:52.142939Z",
     "start_time": "2023-01-16T18:28:52.110818Z"
    },
    "hidden": true
   },
   "outputs": [],
   "source": [
    "setor_agropecuária_ponderado['ranking'] = setor_agropecuária_ponderado.sum( axis=1 )\n",
    "\n",
    "setor_agropecuária_ponderado = setor_agropecuária_ponderado.sort_values('ranking', ascending= False)\n",
    "\n",
    "setor_agropecuária_ponderado"
   ]
  },
  {
   "cell_type": "markdown",
   "id": "fb05e540",
   "metadata": {},
   "source": [
    "# 5.0 FUNÇÃO AHP GAUSSIANO"
   ]
  },
  {
   "cell_type": "markdown",
   "id": "803461cc",
   "metadata": {
    "heading_collapsed": true
   },
   "source": [
    "## 5.1 Funções"
   ]
  },
  {
   "cell_type": "code",
   "execution_count": 27,
   "id": "22365135",
   "metadata": {
    "ExecuteTime": {
     "end_time": "2023-03-29T19:18:33.042340Z",
     "start_time": "2023-03-29T19:18:33.027337Z"
    },
    "hidden": true
   },
   "outputs": [],
   "source": [
    "def data_collect( ):\n",
    "    df = fundamentus.get_resultado_raw()\n",
    "    return df"
   ]
  },
  {
   "cell_type": "code",
   "execution_count": 28,
   "id": "652458d0",
   "metadata": {
    "ExecuteTime": {
     "end_time": "2023-03-29T19:19:29.657266Z",
     "start_time": "2023-03-29T19:19:29.635444Z"
    },
    "hidden": true
   },
   "outputs": [],
   "source": [
    "def data_cleaning( df ):\n",
    "    # rename\n",
    "    old_cols = ['Cotação', 'P/L', 'P/VP', 'PSR', 'Div.Yield', 'P/Ativo', 'P/Cap.Giro',\n",
    "       'P/EBIT', 'P/Ativ Circ.Liq', 'EV/EBIT', 'EV/EBITDA', 'Mrg Ebit',\n",
    "       'Marg_Liquida', 'Liq. Corr.', 'ROIC', 'ROE', 'Liq.2meses', 'Patrim. Líq',\n",
    "       'Dív.Brut/ Patrim.', 'Cresc. Rec.5a']\n",
    "\n",
    "    new_cols = [cols.lower() for cols in old_cols]\n",
    "    df.columns = new_cols\n",
    "\n",
    "    return df"
   ]
  },
  {
   "cell_type": "code",
   "execution_count": 38,
   "id": "0871db61",
   "metadata": {
    "ExecuteTime": {
     "end_time": "2023-03-29T17:48:53.723875Z",
     "start_time": "2023-03-29T17:48:53.708879Z"
    },
    "hidden": true
   },
   "outputs": [],
   "source": [
    "def data_filtering( df ):\n",
    "    ## 3.2. Filtering Columns\n",
    "    cols_selected = ['setor', 'pl', 'pvp', 'div_yield', 'cres_rec_5a', 'marg_liquida', 'roe']\n",
    "    df = df.loc[ :, cols_selected]\n",
    "\n",
    "    ## 3.2. Filtering Rows\n",
    "    # filtro PL negativo\n",
    "    df = df.loc[ df['pl'] > 0 , :]\n",
    "\n",
    "    # filtro PVP negativo\n",
    "    df = df.loc[ df['pvp'] > 0 , :]\n",
    "\n",
    "    # filtro div_yield < 100\n",
    "    df = df.loc[ df['div_yield'] < 100 , :]\n",
    "    \n",
    "    return df"
   ]
  },
  {
   "cell_type": "code",
   "execution_count": 166,
   "id": "4254e549",
   "metadata": {
    "ExecuteTime": {
     "end_time": "2023-03-29T21:10:20.288136Z",
     "start_time": "2023-03-29T21:10:20.260207Z"
    },
    "hidden": true
   },
   "outputs": [],
   "source": [
    "def separate_sectors( df ):\n",
    "    \n",
    "    setor_agropecuaria = df4[ df4['setor'] == 'agropecuaria'].drop('setor', axis=1)\n",
    "    setor_agua_e_saneamento = df4[ df4['setor'] == 'agua_e_saneamento'].drop('setor', axis=1)\n",
    "    setor_alimentos_processados = df4[ df4['setor'] == 'alimentos_processados'].drop('setor', axis=1)\n",
    "    setor_serv_medicos_analises_e_diagnasticos = df4[ df4['setor'] == 'serv_medicos_analises_e_diagnasticos'].drop('setor', axis=1)\n",
    "    setor_automoveis_e_motocicletas = df4[ df4['setor'] == 'automoveis_e_motocicletas'].drop('setor', axis=1)\n",
    "    setor_bebidas = df4[ df4['setor'] == 'bebidas'].drop('setor', axis=1)\n",
    "    setor_comercio = df4[ df4['setor'] == 'comercio'].drop('setor', axis=1)\n",
    "    setor_comercio_e_distribuicao = df4[ df4['setor'] == 'comercio_e_distribuicao'].drop('setor', axis=1)\n",
    "    setor_computadores_e_equipamentos = df4[ df4['setor'] == 'computadores_e_equipamentos'].drop('setor', axis=1)\n",
    "    setor_construcao_civil = df4[ df4['setor'] == 'construcao_civil'].drop('setor', axis=1)\n",
    "    setor_construcao_e_engenharia = df4[ df4['setor'] == 'construcao_e_engenharia'].drop('setor', axis=1)\n",
    "    setor_diversos = df4[ df4['setor'] == 'diversos'].drop('setor', axis=1)\n",
    "    setor_energia_eletrica = df4[ df4['setor'] == 'energia_eletrica'].drop('setor', axis=1)\n",
    "    setor_embalagens = df4[ df4['setor'] == 'setor_embalagens'].drop('setor', axis=1)\n",
    "    setor_equipamentos = df4[ df4['setor'] == 'equipamentos'].drop('setor', axis=1)\n",
    "    setor_exploracao_de_imoveis = df4[ df4['setor'] == 'exploracao_de_imoveis'].drop('setor', axis=1)\n",
    "    setor_gas = df4[ df4['setor'] == 'gas'].drop('setor', axis=1)\n",
    "    setor_holdings_diversificadas = df4[ df4['setor'] == 'holdings_diversificadas'].drop('setor', axis=1)\n",
    "    setor_hoteis_e_restaurantes= df4[ df4['setor'] == 'setor_hoteis_e_restaurantes'].drop('setor', axis=1)\n",
    "    setor_intermediarios_financeiros = df4[ df4['setor'] == 'intermediarios_financeiros'].drop('setor', axis=1)\n",
    "    setor_madeira_e_papel = df4[ df4['setor'] == 'madeira_e_papel'].drop('setor', axis=1)\n",
    "    setor_maquinas_e_equipamentos = df4[ df4['setor'] == 'maquinas_e_equipamentos'].drop('setor', axis=1)\n",
    "    setor_material_de_transporte = df4[ df4['setor'] == 'material_de_transporte'].drop('setor', axis=1)\n",
    "    setor_materiais_diversos = df4[ df4['setor'] == 'setor_materiais_diversos'].drop('setor', axis=1)\n",
    "    setor_medicamentos_e_outros_produtos = df4[ df4['setor'] == 'medicamentos_e_outros_produtos'].drop('setor', axis=1)\n",
    "    setor_midia = df4[ df4['setor'] == 'setor_midia'].drop('setor', axis=1)\n",
    "    setor_mineracao = df4[ df4['setor'] == 'mineracao'].drop('setor', axis=1)\n",
    "    setor_outros = df4[ df4['setor'] == 'outros'].drop('setor', axis=1)\n",
    "    setor_petroleo = df4[ df4['setor'] == 'petroleo'].drop('setor', axis=1)\n",
    "    setor_gas_e_biocombustiveis = df4[ df4['setor'] == 'gas_e_biocombustiveis'].drop('setor', axis=1)\n",
    "    setor_previdencia_e_seguros = df4[ df4['setor'] == 'previdencia_e_seguros'].drop('setor', axis=1)\n",
    "    setor_programas_e_servicos = df4[ df4['setor'] == 'programas_e_servicos'].drop('setor', axis=1)\n",
    "    setor_quimicos = df4[ df4['setor'] == 'quimicos'].drop('setor', axis=1)\n",
    "    setor_servicos_diversos = df4[ df4['setor'] == 'servicos_diversos'].drop('setor', axis=1)\n",
    "    setor_servicos_financeiros_diversos = df4[ df4['setor'] == 'servicos_financeiros_diversos'].drop('setor', axis=1)\n",
    "    setor_siderurgia_e_metalurgia = df4[ df4['setor'] == 'siderurgia_e_metalurgia'].drop('setor', axis=1)\n",
    "    setor_tecidos = df4[ df4['setor'] == 'tecidos'].drop('setor', axis=1)\n",
    "    setor_uso_pessoal_e_limpeza = df4[ df4['setor'] == 'setor_uso_pessoal_e_limpeza'].drop('setor', axis=1)\n",
    "    setor_vestuario_e_calcados = df4[ df4['setor'] == '_vestuario_e_calcados'].drop('setor', axis=1)\n",
    "    setor_telecomunicacoes = df4[ df4['setor'] == 'telecomunicacoes'].drop('setor', axis=1)\n",
    "    setor_transporte = df4[ df4['setor'] == 'transporte'].drop('setor', axis=1)\n",
    "    setor_utilidades_domesticas = df4[ df4['setor'] == 'utilidades_domesticas'].drop('setor', axis=1)\n",
    "    setor_viagens_e_lazer = df4[ df4['setor'] == 'viagens_e_lazer'].drop('setor', axis=1)\n",
    "    \n",
    "    lista_setores = [\n",
    "        setor_agropecuaria, setor_agua_e_saneamento, setor_alimentos_processados,\n",
    "        setor_serv_medicos_analises_e_diagnasticos, setor_automoveis_e_motocicletas, setor_bebidas, setor_comercio, \n",
    "        setor_comercio_e_distribuicao, setor_computadores_e_equipamentos, setor_construcao_civil, \n",
    "        setor_construcao_e_engenharia, setor_diversos, setor_energia_eletrica, setor_embalagens, setor_equipamentos, \n",
    "        setor_exploracao_de_imoveis, setor_gas, setor_holdings_diversificadas, setor_hoteis_e_restaurantes, \n",
    "        setor_intermediarios_financeiros, setor_madeira_e_papel, setor_maquinas_e_equipamentos, setor_material_de_transporte, \n",
    "        setor_materiais_diversos, setor_medicamentos_e_outros_produtos, setor_midia, setor_mineracao, setor_outros, setor_petroleo,\n",
    "        setor_gas_e_biocombustiveis, setor_previdencia_e_seguros, setor_programas_e_servicos, setor_quimicos, setor_servicos_diversos,\n",
    "        setor_serviços_financeiros_diversos, setor_siderurgia_e_metalurgia, setor_tecidos, setor_uso_pessoal_e_limpeza, setor_vestuario_e_calcados, \n",
    "        setor_telecomunicacoes, setor_transporte, setor_utilidades_domesticas, setor_viagens_e_lazer\n",
    "    ]\n",
    "    \n",
    "    return lista_setores"
   ]
  },
  {
   "cell_type": "code",
   "execution_count": 40,
   "id": "24c64764",
   "metadata": {
    "ExecuteTime": {
     "end_time": "2023-03-29T17:48:55.146192Z",
     "start_time": "2023-03-29T17:48:55.125205Z"
    },
    "hidden": true
   },
   "outputs": [],
   "source": [
    "def ahp_gaussiano( df ):\n",
    "\n",
    "    # inverter valores monotômicos de custo\n",
    "    df['pl'] = df['pl'].apply( lambda x: 1/x )\n",
    "    df['pvp'] = df['pvp'].apply( lambda x: 1/x )\n",
    "\n",
    "    # normalização\n",
    "    setor_normalizado = df[['pl', 'pvp', 'div_yield', 'cres_rec_5a', 'marg_liquida', 'roe']].apply( lambda x: x/sum(x))\n",
    "\n",
    "    # criação fator gaussiano\n",
    "    fator_gaussiano = setor_normalizado.std() / setor_normalizado.mean()\n",
    "    fator_normalizado = fator_gaussiano / fator_gaussiano.sum()\n",
    "\n",
    "    # ponderação da matriz normalizada\n",
    "    setor_normalizado['pl']           = setor_normalizado['pl'] * fator_normalizado['pl']\n",
    "    setor_normalizado['pvp']          = setor_normalizado['pvp'] * fator_normalizado['pvp']\n",
    "    setor_normalizado['div_yield']    = setor_normalizado['div_yield'] * fator_normalizado['div_yield']\n",
    "    setor_normalizado['cres_rec_5a']  = setor_normalizado['cres_rec_5a'] * fator_normalizado['cres_rec_5a']\n",
    "    setor_normalizado['marg_liquida'] = setor_normalizado['marg_liquida'] * fator_normalizado['marg_liquida']\n",
    "    setor_normalizado['roe']          = setor_normalizado['roe'] * fator_normalizado['roe']\n",
    "\n",
    "    # criação coluna ranking\n",
    "    setor_normalizado['ranking'] = setor_normalizado.sum( axis=1 )\n",
    "    setor_normalizado = setor_normalizado.sort_values('ranking', ascending= False).head( 1 )\n",
    "\n",
    "    return setor_normalizado"
   ]
  },
  {
   "cell_type": "code",
   "execution_count": 41,
   "id": "f8624812",
   "metadata": {
    "ExecuteTime": {
     "end_time": "2023-03-29T17:48:56.239118Z",
     "start_time": "2023-03-29T17:48:56.222189Z"
    },
    "hidden": true
   },
   "outputs": [],
   "source": [
    "def final_table( lista_setores, table_type = 'original' ): \n",
    "      \n",
    "    df_result = pd.DataFrame()\n",
    "    \n",
    "    for setor in lista_setores:\n",
    "        df_aux = ahp_gaussiano( setor )\n",
    "        df_result = pd.concat( [df_result, df_aux] )\n",
    "    \n",
    "    if table_type == 'normalizada':\n",
    "        df_final = pd.merge( df_result, df_filtered['setor'], how='left', right_index= True, left_index=True).sort_values( 'setor' )\n",
    "    \n",
    "    else:\n",
    "        df_final = pd.merge( df_result['ranking'], df_filtered, how='left', left_index=True, right_index= True ).sort_values( 'setor' )\n",
    "        df_final = df_final[['pl', 'pvp', 'div_yield', 'cres_rec_5a', 'marg_liquida', 'roe', 'ranking', 'setor']]\n",
    "    return df_final"
   ]
  },
  {
   "cell_type": "code",
   "execution_count": null,
   "id": "b0c38fbb",
   "metadata": {
    "hidden": true
   },
   "outputs": [],
   "source": []
  },
  {
   "cell_type": "code",
   "execution_count": null,
   "id": "d5a53871",
   "metadata": {
    "hidden": true
   },
   "outputs": [],
   "source": []
  },
  {
   "cell_type": "code",
   "execution_count": null,
   "id": "79f48cf2",
   "metadata": {
    "hidden": true
   },
   "outputs": [],
   "source": []
  },
  {
   "cell_type": "code",
   "execution_count": null,
   "id": "25c2bd71",
   "metadata": {
    "hidden": true
   },
   "outputs": [],
   "source": []
  },
  {
   "cell_type": "code",
   "execution_count": null,
   "id": "46010483",
   "metadata": {
    "hidden": true
   },
   "outputs": [],
   "source": []
  },
  {
   "cell_type": "code",
   "execution_count": null,
   "id": "d95cdf3c",
   "metadata": {
    "hidden": true
   },
   "outputs": [],
   "source": []
  },
  {
   "cell_type": "markdown",
   "id": "6cf8b058",
   "metadata": {},
   "source": [
    "## 5.2 Teste Funções"
   ]
  },
  {
   "cell_type": "code",
   "execution_count": 89,
   "id": "61916a66",
   "metadata": {
    "ExecuteTime": {
     "end_time": "2023-03-30T10:59:02.045588Z",
     "start_time": "2023-03-30T10:58:56.940867Z"
    },
    "scrolled": true
   },
   "outputs": [],
   "source": [
    "# Coleta de dados\n",
    "data_raw = data_collect()"
   ]
  },
  {
   "cell_type": "code",
   "execution_count": 134,
   "id": "bad4cf72",
   "metadata": {
    "ExecuteTime": {
     "end_time": "2023-03-30T11:40:50.167943Z",
     "start_time": "2023-03-30T11:40:50.113091Z"
    },
    "scrolled": false
   },
   "outputs": [
    {
     "data": {
      "text/html": [
       "<div>\n",
       "<style scoped>\n",
       "    .dataframe tbody tr th:only-of-type {\n",
       "        vertical-align: middle;\n",
       "    }\n",
       "\n",
       "    .dataframe tbody tr th {\n",
       "        vertical-align: top;\n",
       "    }\n",
       "\n",
       "    .dataframe thead th {\n",
       "        text-align: right;\n",
       "    }\n",
       "</style>\n",
       "<table border=\"1\" class=\"dataframe\">\n",
       "  <thead>\n",
       "    <tr style=\"text-align: right;\">\n",
       "      <th></th>\n",
       "      <th>cotação</th>\n",
       "      <th>p/l</th>\n",
       "      <th>p/vp</th>\n",
       "      <th>psr</th>\n",
       "      <th>div.yield</th>\n",
       "      <th>p/ativo</th>\n",
       "      <th>p/cap.giro</th>\n",
       "      <th>p/ebit</th>\n",
       "      <th>p/ativ circ.liq</th>\n",
       "      <th>ev/ebit</th>\n",
       "      <th>ev/ebitda</th>\n",
       "      <th>mrg ebit</th>\n",
       "      <th>marg_liquida</th>\n",
       "      <th>liq. corr.</th>\n",
       "      <th>roic</th>\n",
       "      <th>roe</th>\n",
       "      <th>liq.2meses</th>\n",
       "      <th>patrim. líq</th>\n",
       "      <th>dív.brut/ patrim.</th>\n",
       "      <th>cresc. rec.5a</th>\n",
       "    </tr>\n",
       "    <tr>\n",
       "      <th>papel</th>\n",
       "      <th></th>\n",
       "      <th></th>\n",
       "      <th></th>\n",
       "      <th></th>\n",
       "      <th></th>\n",
       "      <th></th>\n",
       "      <th></th>\n",
       "      <th></th>\n",
       "      <th></th>\n",
       "      <th></th>\n",
       "      <th></th>\n",
       "      <th></th>\n",
       "      <th></th>\n",
       "      <th></th>\n",
       "      <th></th>\n",
       "      <th></th>\n",
       "      <th></th>\n",
       "      <th></th>\n",
       "      <th></th>\n",
       "      <th></th>\n",
       "    </tr>\n",
       "  </thead>\n",
       "  <tbody>\n",
       "    <tr>\n",
       "      <th>AALR3</th>\n",
       "      <td>20.57</td>\n",
       "      <td>-17.96</td>\n",
       "      <td>2.27</td>\n",
       "      <td>2.228</td>\n",
       "      <td>0.0000</td>\n",
       "      <td>0.925</td>\n",
       "      <td>-29.66</td>\n",
       "      <td>80.97</td>\n",
       "      <td>-2.39</td>\n",
       "      <td>103.01</td>\n",
       "      <td>21.15</td>\n",
       "      <td>0.0275</td>\n",
       "      <td>-0.1180</td>\n",
       "      <td>0.86</td>\n",
       "      <td>0.0132</td>\n",
       "      <td>-0.1263</td>\n",
       "      <td>7898420.0</td>\n",
       "      <td>1.072550e+09</td>\n",
       "      <td>0.85</td>\n",
       "      <td>0.0116</td>\n",
       "    </tr>\n",
       "    <tr>\n",
       "      <th>ABCB3</th>\n",
       "      <td>0.00</td>\n",
       "      <td>0.00</td>\n",
       "      <td>0.00</td>\n",
       "      <td>0.000</td>\n",
       "      <td>0.0000</td>\n",
       "      <td>0.000</td>\n",
       "      <td>0.00</td>\n",
       "      <td>0.00</td>\n",
       "      <td>0.00</td>\n",
       "      <td>0.00</td>\n",
       "      <td>0.00</td>\n",
       "      <td>0.0000</td>\n",
       "      <td>0.0000</td>\n",
       "      <td>0.00</td>\n",
       "      <td>0.0000</td>\n",
       "      <td>0.1505</td>\n",
       "      <td>0.0</td>\n",
       "      <td>5.070730e+09</td>\n",
       "      <td>0.00</td>\n",
       "      <td>0.3047</td>\n",
       "    </tr>\n",
       "    <tr>\n",
       "      <th>ABCB4</th>\n",
       "      <td>18.40</td>\n",
       "      <td>5.45</td>\n",
       "      <td>0.82</td>\n",
       "      <td>0.000</td>\n",
       "      <td>0.0695</td>\n",
       "      <td>0.000</td>\n",
       "      <td>0.00</td>\n",
       "      <td>0.00</td>\n",
       "      <td>0.00</td>\n",
       "      <td>0.00</td>\n",
       "      <td>0.00</td>\n",
       "      <td>0.0000</td>\n",
       "      <td>0.0000</td>\n",
       "      <td>0.00</td>\n",
       "      <td>0.0000</td>\n",
       "      <td>0.1505</td>\n",
       "      <td>18089700.0</td>\n",
       "      <td>5.070730e+09</td>\n",
       "      <td>0.00</td>\n",
       "      <td>0.3047</td>\n",
       "    </tr>\n",
       "    <tr>\n",
       "      <th>ABEV3</th>\n",
       "      <td>15.24</td>\n",
       "      <td>18.33</td>\n",
       "      <td>2.66</td>\n",
       "      <td>3.037</td>\n",
       "      <td>0.0396</td>\n",
       "      <td>1.690</td>\n",
       "      <td>36.49</td>\n",
       "      <td>15.60</td>\n",
       "      <td>-26.80</td>\n",
       "      <td>14.56</td>\n",
       "      <td>10.80</td>\n",
       "      <td>0.1947</td>\n",
       "      <td>0.1715</td>\n",
       "      <td>1.19</td>\n",
       "      <td>0.1498</td>\n",
       "      <td>0.1452</td>\n",
       "      <td>447864000.0</td>\n",
       "      <td>9.017800e+10</td>\n",
       "      <td>0.03</td>\n",
       "      <td>0.1298</td>\n",
       "    </tr>\n",
       "    <tr>\n",
       "      <th>ABYA3</th>\n",
       "      <td>4.91</td>\n",
       "      <td>-214.80</td>\n",
       "      <td>1.76</td>\n",
       "      <td>2.055</td>\n",
       "      <td>0.0000</td>\n",
       "      <td>0.527</td>\n",
       "      <td>1.98</td>\n",
       "      <td>19.96</td>\n",
       "      <td>-2.75</td>\n",
       "      <td>33.67</td>\n",
       "      <td>33.67</td>\n",
       "      <td>0.1029</td>\n",
       "      <td>-0.0096</td>\n",
       "      <td>2.09</td>\n",
       "      <td>0.0278</td>\n",
       "      <td>-0.0082</td>\n",
       "      <td>0.0</td>\n",
       "      <td>2.920600e+08</td>\n",
       "      <td>1.31</td>\n",
       "      <td>0.1641</td>\n",
       "    </tr>\n",
       "    <tr>\n",
       "      <th>ACES3</th>\n",
       "      <td>95.27</td>\n",
       "      <td>8.79</td>\n",
       "      <td>2.28</td>\n",
       "      <td>1.693</td>\n",
       "      <td>0.0000</td>\n",
       "      <td>1.438</td>\n",
       "      <td>6.40</td>\n",
       "      <td>7.20</td>\n",
       "      <td>20.77</td>\n",
       "      <td>6.54</td>\n",
       "      <td>6.54</td>\n",
       "      <td>0.2352</td>\n",
       "      <td>0.1927</td>\n",
       "      <td>2.05</td>\n",
       "      <td>0.2690</td>\n",
       "      <td>0.2595</td>\n",
       "      <td>0.0</td>\n",
       "      <td>3.105800e+09</td>\n",
       "      <td>0.09</td>\n",
       "      <td>0.1334</td>\n",
       "    </tr>\n",
       "    <tr>\n",
       "      <th>ACES4</th>\n",
       "      <td>94.73</td>\n",
       "      <td>8.74</td>\n",
       "      <td>2.27</td>\n",
       "      <td>1.683</td>\n",
       "      <td>0.0000</td>\n",
       "      <td>1.430</td>\n",
       "      <td>6.37</td>\n",
       "      <td>7.16</td>\n",
       "      <td>20.65</td>\n",
       "      <td>6.50</td>\n",
       "      <td>6.50</td>\n",
       "      <td>0.2352</td>\n",
       "      <td>0.1927</td>\n",
       "      <td>2.05</td>\n",
       "      <td>0.2690</td>\n",
       "      <td>0.2595</td>\n",
       "      <td>0.0</td>\n",
       "      <td>3.105800e+09</td>\n",
       "      <td>0.09</td>\n",
       "      <td>0.1334</td>\n",
       "    </tr>\n",
       "    <tr>\n",
       "      <th>ADHM3</th>\n",
       "      <td>1.56</td>\n",
       "      <td>-4.09</td>\n",
       "      <td>-1.29</td>\n",
       "      <td>770.924</td>\n",
       "      <td>0.0000</td>\n",
       "      <td>105.126</td>\n",
       "      <td>-1.43</td>\n",
       "      <td>-5.69</td>\n",
       "      <td>-1.27</td>\n",
       "      <td>-5.69</td>\n",
       "      <td>-5.81</td>\n",
       "      <td>-135.4850</td>\n",
       "      <td>-188.6060</td>\n",
       "      <td>0.00</td>\n",
       "      <td>5.2170</td>\n",
       "      <td>0.3147</td>\n",
       "      <td>2064.0</td>\n",
       "      <td>-1.977600e+07</td>\n",
       "      <td>0.00</td>\n",
       "      <td>0.4348</td>\n",
       "    </tr>\n",
       "    <tr>\n",
       "      <th>AEDU11</th>\n",
       "      <td>37.35</td>\n",
       "      <td>20.13</td>\n",
       "      <td>1.13</td>\n",
       "      <td>1.405</td>\n",
       "      <td>0.0000</td>\n",
       "      <td>0.732</td>\n",
       "      <td>5.77</td>\n",
       "      <td>13.93</td>\n",
       "      <td>-7.31</td>\n",
       "      <td>16.14</td>\n",
       "      <td>10.82</td>\n",
       "      <td>0.1008</td>\n",
       "      <td>0.0698</td>\n",
       "      <td>2.04</td>\n",
       "      <td>0.0577</td>\n",
       "      <td>0.0560</td>\n",
       "      <td>0.0</td>\n",
       "      <td>2.415400e+09</td>\n",
       "      <td>0.30</td>\n",
       "      <td>0.2090</td>\n",
       "    </tr>\n",
       "    <tr>\n",
       "      <th>AEDU3</th>\n",
       "      <td>18.35</td>\n",
       "      <td>59.34</td>\n",
       "      <td>3.32</td>\n",
       "      <td>4.141</td>\n",
       "      <td>0.0000</td>\n",
       "      <td>2.159</td>\n",
       "      <td>17.00</td>\n",
       "      <td>41.06</td>\n",
       "      <td>-21.55</td>\n",
       "      <td>43.27</td>\n",
       "      <td>29.01</td>\n",
       "      <td>0.1008</td>\n",
       "      <td>0.0698</td>\n",
       "      <td>2.04</td>\n",
       "      <td>0.0577</td>\n",
       "      <td>0.0560</td>\n",
       "      <td>0.0</td>\n",
       "      <td>2.415400e+09</td>\n",
       "      <td>0.30</td>\n",
       "      <td>0.2090</td>\n",
       "    </tr>\n",
       "  </tbody>\n",
       "</table>\n",
       "</div>"
      ],
      "text/plain": [
       "        cotação     p/l  p/vp      psr  div.yield  p/ativo  p/cap.giro  p/ebit  p/ativ circ.liq  ev/ebit  ev/ebitda  mrg ebit  marg_liquida  liq. corr.    roic     roe   liq.2meses   patrim. líq  dív.brut/ patrim.  cresc. rec.5a\n",
       "papel                                                                                                                                                                                                                               \n",
       "AALR3     20.57  -17.96  2.27    2.228     0.0000    0.925      -29.66   80.97            -2.39   103.01      21.15    0.0275       -0.1180        0.86  0.0132 -0.1263    7898420.0  1.072550e+09               0.85         0.0116\n",
       "ABCB3      0.00    0.00  0.00    0.000     0.0000    0.000        0.00    0.00             0.00     0.00       0.00    0.0000        0.0000        0.00  0.0000  0.1505          0.0  5.070730e+09               0.00         0.3047\n",
       "ABCB4     18.40    5.45  0.82    0.000     0.0695    0.000        0.00    0.00             0.00     0.00       0.00    0.0000        0.0000        0.00  0.0000  0.1505   18089700.0  5.070730e+09               0.00         0.3047\n",
       "ABEV3     15.24   18.33  2.66    3.037     0.0396    1.690       36.49   15.60           -26.80    14.56      10.80    0.1947        0.1715        1.19  0.1498  0.1452  447864000.0  9.017800e+10               0.03         0.1298\n",
       "ABYA3      4.91 -214.80  1.76    2.055     0.0000    0.527        1.98   19.96            -2.75    33.67      33.67    0.1029       -0.0096        2.09  0.0278 -0.0082          0.0  2.920600e+08               1.31         0.1641\n",
       "ACES3     95.27    8.79  2.28    1.693     0.0000    1.438        6.40    7.20            20.77     6.54       6.54    0.2352        0.1927        2.05  0.2690  0.2595          0.0  3.105800e+09               0.09         0.1334\n",
       "ACES4     94.73    8.74  2.27    1.683     0.0000    1.430        6.37    7.16            20.65     6.50       6.50    0.2352        0.1927        2.05  0.2690  0.2595          0.0  3.105800e+09               0.09         0.1334\n",
       "ADHM3      1.56   -4.09 -1.29  770.924     0.0000  105.126       -1.43   -5.69            -1.27    -5.69      -5.81 -135.4850     -188.6060        0.00  5.2170  0.3147       2064.0 -1.977600e+07               0.00         0.4348\n",
       "AEDU11    37.35   20.13  1.13    1.405     0.0000    0.732        5.77   13.93            -7.31    16.14      10.82    0.1008        0.0698        2.04  0.0577  0.0560          0.0  2.415400e+09               0.30         0.2090\n",
       "AEDU3     18.35   59.34  3.32    4.141     0.0000    2.159       17.00   41.06           -21.55    43.27      29.01    0.1008        0.0698        2.04  0.0577  0.0560          0.0  2.415400e+09               0.30         0.2090"
      ]
     },
     "execution_count": 134,
     "metadata": {},
     "output_type": "execute_result"
    }
   ],
   "source": [
    "data_raw.head(10)"
   ]
  },
  {
   "cell_type": "code",
   "execution_count": 129,
   "id": "63301e3d",
   "metadata": {
    "ExecuteTime": {
     "end_time": "2023-03-30T11:37:32.087398Z",
     "start_time": "2023-03-30T11:37:32.066451Z"
    },
    "scrolled": true
   },
   "outputs": [
    {
     "data": {
      "text/plain": [
       "(987, 20)"
      ]
     },
     "execution_count": 129,
     "metadata": {},
     "output_type": "execute_result"
    }
   ],
   "source": [
    "data_raw.shape"
   ]
  },
  {
   "cell_type": "code",
   "execution_count": 91,
   "id": "9cdca661",
   "metadata": {
    "ExecuteTime": {
     "end_time": "2023-03-30T10:59:04.950433Z",
     "start_time": "2023-03-30T10:59:04.942413Z"
    }
   },
   "outputs": [],
   "source": [
    "# limpeza dos dados\n",
    "df_cleaned = data_cleaning( data_raw )"
   ]
  },
  {
   "cell_type": "code",
   "execution_count": 92,
   "id": "3fd7b278",
   "metadata": {
    "ExecuteTime": {
     "end_time": "2023-03-30T10:59:05.424601Z",
     "start_time": "2023-03-30T10:59:05.390651Z"
    }
   },
   "outputs": [
    {
     "data": {
      "text/html": [
       "<div>\n",
       "<style scoped>\n",
       "    .dataframe tbody tr th:only-of-type {\n",
       "        vertical-align: middle;\n",
       "    }\n",
       "\n",
       "    .dataframe tbody tr th {\n",
       "        vertical-align: top;\n",
       "    }\n",
       "\n",
       "    .dataframe thead th {\n",
       "        text-align: right;\n",
       "    }\n",
       "</style>\n",
       "<table border=\"1\" class=\"dataframe\">\n",
       "  <thead>\n",
       "    <tr style=\"text-align: right;\">\n",
       "      <th></th>\n",
       "      <th>papel</th>\n",
       "      <th>cotação</th>\n",
       "      <th>p/l</th>\n",
       "      <th>p/vp</th>\n",
       "      <th>psr</th>\n",
       "      <th>div.yield</th>\n",
       "      <th>p/ativo</th>\n",
       "      <th>p/cap.giro</th>\n",
       "      <th>p/ebit</th>\n",
       "      <th>p/ativ circ.liq</th>\n",
       "      <th>...</th>\n",
       "      <th>ev/ebitda</th>\n",
       "      <th>mrg ebit</th>\n",
       "      <th>marg_liquida</th>\n",
       "      <th>liq. corr.</th>\n",
       "      <th>roic</th>\n",
       "      <th>roe</th>\n",
       "      <th>liq.2meses</th>\n",
       "      <th>patrim. líq</th>\n",
       "      <th>dív.brut/ patrim.</th>\n",
       "      <th>cresc. rec.5a</th>\n",
       "    </tr>\n",
       "  </thead>\n",
       "  <tbody>\n",
       "    <tr>\n",
       "      <th>0</th>\n",
       "      <td>AALR3</td>\n",
       "      <td>20.57</td>\n",
       "      <td>-17.96</td>\n",
       "      <td>2.27</td>\n",
       "      <td>2.228</td>\n",
       "      <td>0.0000</td>\n",
       "      <td>0.925</td>\n",
       "      <td>-29.66</td>\n",
       "      <td>80.97</td>\n",
       "      <td>-2.39</td>\n",
       "      <td>...</td>\n",
       "      <td>21.15</td>\n",
       "      <td>0.0275</td>\n",
       "      <td>-0.1180</td>\n",
       "      <td>0.86</td>\n",
       "      <td>0.0132</td>\n",
       "      <td>-0.1263</td>\n",
       "      <td>7898420.0</td>\n",
       "      <td>1.072550e+09</td>\n",
       "      <td>0.85</td>\n",
       "      <td>0.0116</td>\n",
       "    </tr>\n",
       "    <tr>\n",
       "      <th>1</th>\n",
       "      <td>ABCB3</td>\n",
       "      <td>0.00</td>\n",
       "      <td>0.00</td>\n",
       "      <td>0.00</td>\n",
       "      <td>0.000</td>\n",
       "      <td>0.0000</td>\n",
       "      <td>0.000</td>\n",
       "      <td>0.00</td>\n",
       "      <td>0.00</td>\n",
       "      <td>0.00</td>\n",
       "      <td>...</td>\n",
       "      <td>0.00</td>\n",
       "      <td>0.0000</td>\n",
       "      <td>0.0000</td>\n",
       "      <td>0.00</td>\n",
       "      <td>0.0000</td>\n",
       "      <td>0.1505</td>\n",
       "      <td>0.0</td>\n",
       "      <td>5.070730e+09</td>\n",
       "      <td>0.00</td>\n",
       "      <td>0.3047</td>\n",
       "    </tr>\n",
       "    <tr>\n",
       "      <th>2</th>\n",
       "      <td>ABCB4</td>\n",
       "      <td>18.40</td>\n",
       "      <td>5.45</td>\n",
       "      <td>0.82</td>\n",
       "      <td>0.000</td>\n",
       "      <td>0.0695</td>\n",
       "      <td>0.000</td>\n",
       "      <td>0.00</td>\n",
       "      <td>0.00</td>\n",
       "      <td>0.00</td>\n",
       "      <td>...</td>\n",
       "      <td>0.00</td>\n",
       "      <td>0.0000</td>\n",
       "      <td>0.0000</td>\n",
       "      <td>0.00</td>\n",
       "      <td>0.0000</td>\n",
       "      <td>0.1505</td>\n",
       "      <td>18089700.0</td>\n",
       "      <td>5.070730e+09</td>\n",
       "      <td>0.00</td>\n",
       "      <td>0.3047</td>\n",
       "    </tr>\n",
       "    <tr>\n",
       "      <th>3</th>\n",
       "      <td>ABEV3</td>\n",
       "      <td>15.24</td>\n",
       "      <td>18.33</td>\n",
       "      <td>2.66</td>\n",
       "      <td>3.037</td>\n",
       "      <td>0.0396</td>\n",
       "      <td>1.690</td>\n",
       "      <td>36.49</td>\n",
       "      <td>15.60</td>\n",
       "      <td>-26.80</td>\n",
       "      <td>...</td>\n",
       "      <td>10.80</td>\n",
       "      <td>0.1947</td>\n",
       "      <td>0.1715</td>\n",
       "      <td>1.19</td>\n",
       "      <td>0.1498</td>\n",
       "      <td>0.1452</td>\n",
       "      <td>447864000.0</td>\n",
       "      <td>9.017800e+10</td>\n",
       "      <td>0.03</td>\n",
       "      <td>0.1298</td>\n",
       "    </tr>\n",
       "    <tr>\n",
       "      <th>4</th>\n",
       "      <td>ABYA3</td>\n",
       "      <td>4.91</td>\n",
       "      <td>-214.80</td>\n",
       "      <td>1.76</td>\n",
       "      <td>2.055</td>\n",
       "      <td>0.0000</td>\n",
       "      <td>0.527</td>\n",
       "      <td>1.98</td>\n",
       "      <td>19.96</td>\n",
       "      <td>-2.75</td>\n",
       "      <td>...</td>\n",
       "      <td>33.67</td>\n",
       "      <td>0.1029</td>\n",
       "      <td>-0.0096</td>\n",
       "      <td>2.09</td>\n",
       "      <td>0.0278</td>\n",
       "      <td>-0.0082</td>\n",
       "      <td>0.0</td>\n",
       "      <td>2.920600e+08</td>\n",
       "      <td>1.31</td>\n",
       "      <td>0.1641</td>\n",
       "    </tr>\n",
       "  </tbody>\n",
       "</table>\n",
       "<p>5 rows × 21 columns</p>\n",
       "</div>"
      ],
      "text/plain": [
       "   papel  cotação     p/l  p/vp    psr  div.yield  p/ativo  p/cap.giro  p/ebit  p/ativ circ.liq  ...  ev/ebitda  mrg ebit  marg_liquida  liq. corr.    roic     roe   liq.2meses   patrim. líq  dív.brut/ patrim.  cresc. rec.5a\n",
       "0  AALR3    20.57  -17.96  2.27  2.228     0.0000    0.925      -29.66   80.97            -2.39  ...      21.15    0.0275       -0.1180        0.86  0.0132 -0.1263    7898420.0  1.072550e+09               0.85         0.0116\n",
       "1  ABCB3     0.00    0.00  0.00  0.000     0.0000    0.000        0.00    0.00             0.00  ...       0.00    0.0000        0.0000        0.00  0.0000  0.1505          0.0  5.070730e+09               0.00         0.3047\n",
       "2  ABCB4    18.40    5.45  0.82  0.000     0.0695    0.000        0.00    0.00             0.00  ...       0.00    0.0000        0.0000        0.00  0.0000  0.1505   18089700.0  5.070730e+09               0.00         0.3047\n",
       "3  ABEV3    15.24   18.33  2.66  3.037     0.0396    1.690       36.49   15.60           -26.80  ...      10.80    0.1947        0.1715        1.19  0.1498  0.1452  447864000.0  9.017800e+10               0.03         0.1298\n",
       "4  ABYA3     4.91 -214.80  1.76  2.055     0.0000    0.527        1.98   19.96            -2.75  ...      33.67    0.1029       -0.0096        2.09  0.0278 -0.0082          0.0  2.920600e+08               1.31         0.1641\n",
       "\n",
       "[5 rows x 21 columns]"
      ]
     },
     "execution_count": 92,
     "metadata": {},
     "output_type": "execute_result"
    }
   ],
   "source": [
    "df_cleaned.head()"
   ]
  },
  {
   "cell_type": "code",
   "execution_count": 93,
   "id": "70ebe564",
   "metadata": {
    "ExecuteTime": {
     "end_time": "2023-03-30T10:59:08.186550Z",
     "start_time": "2023-03-30T10:59:08.156620Z"
    }
   },
   "outputs": [],
   "source": [
    "# definição dos setores\n",
    "df_sectors = sectors_definition( df_cleaned )"
   ]
  },
  {
   "cell_type": "code",
   "execution_count": 94,
   "id": "ad9e26f5",
   "metadata": {
    "ExecuteTime": {
     "end_time": "2023-03-30T10:59:08.595928Z",
     "start_time": "2023-03-30T10:59:08.551045Z"
    }
   },
   "outputs": [
    {
     "data": {
      "text/html": [
       "<div>\n",
       "<style scoped>\n",
       "    .dataframe tbody tr th:only-of-type {\n",
       "        vertical-align: middle;\n",
       "    }\n",
       "\n",
       "    .dataframe tbody tr th {\n",
       "        vertical-align: top;\n",
       "    }\n",
       "\n",
       "    .dataframe thead th {\n",
       "        text-align: right;\n",
       "    }\n",
       "</style>\n",
       "<table border=\"1\" class=\"dataframe\">\n",
       "  <thead>\n",
       "    <tr style=\"text-align: right;\">\n",
       "      <th></th>\n",
       "      <th>papel</th>\n",
       "      <th>cotação</th>\n",
       "      <th>p/l</th>\n",
       "      <th>p/vp</th>\n",
       "      <th>psr</th>\n",
       "      <th>div.yield</th>\n",
       "      <th>p/ativo</th>\n",
       "      <th>p/cap.giro</th>\n",
       "      <th>p/ebit</th>\n",
       "      <th>p/ativ circ.liq</th>\n",
       "      <th>...</th>\n",
       "      <th>mrg ebit</th>\n",
       "      <th>marg_liquida</th>\n",
       "      <th>liq. corr.</th>\n",
       "      <th>roic</th>\n",
       "      <th>roe</th>\n",
       "      <th>liq.2meses</th>\n",
       "      <th>patrim. líq</th>\n",
       "      <th>dív.brut/ patrim.</th>\n",
       "      <th>cresc. rec.5a</th>\n",
       "      <th>setor</th>\n",
       "    </tr>\n",
       "  </thead>\n",
       "  <tbody>\n",
       "    <tr>\n",
       "      <th>0</th>\n",
       "      <td>AALR3</td>\n",
       "      <td>20.57</td>\n",
       "      <td>-17.96</td>\n",
       "      <td>2.27</td>\n",
       "      <td>2.228</td>\n",
       "      <td>0.0000</td>\n",
       "      <td>0.925</td>\n",
       "      <td>-29.66</td>\n",
       "      <td>80.97</td>\n",
       "      <td>-2.39</td>\n",
       "      <td>...</td>\n",
       "      <td>0.0275</td>\n",
       "      <td>-0.1180</td>\n",
       "      <td>0.86</td>\n",
       "      <td>0.0132</td>\n",
       "      <td>-0.1263</td>\n",
       "      <td>7898420.0</td>\n",
       "      <td>1.072550e+09</td>\n",
       "      <td>0.85</td>\n",
       "      <td>0.0116</td>\n",
       "      <td>serv_medicos_analises_e_diagnasticos</td>\n",
       "    </tr>\n",
       "    <tr>\n",
       "      <th>1</th>\n",
       "      <td>ABCB3</td>\n",
       "      <td>0.00</td>\n",
       "      <td>0.00</td>\n",
       "      <td>0.00</td>\n",
       "      <td>0.000</td>\n",
       "      <td>0.0000</td>\n",
       "      <td>0.000</td>\n",
       "      <td>0.00</td>\n",
       "      <td>0.00</td>\n",
       "      <td>0.00</td>\n",
       "      <td>...</td>\n",
       "      <td>0.0000</td>\n",
       "      <td>0.0000</td>\n",
       "      <td>0.00</td>\n",
       "      <td>0.0000</td>\n",
       "      <td>0.1505</td>\n",
       "      <td>0.0</td>\n",
       "      <td>5.070730e+09</td>\n",
       "      <td>0.00</td>\n",
       "      <td>0.3047</td>\n",
       "      <td>setor_desconhecido</td>\n",
       "    </tr>\n",
       "    <tr>\n",
       "      <th>2</th>\n",
       "      <td>ABCB4</td>\n",
       "      <td>18.40</td>\n",
       "      <td>5.45</td>\n",
       "      <td>0.82</td>\n",
       "      <td>0.000</td>\n",
       "      <td>0.0695</td>\n",
       "      <td>0.000</td>\n",
       "      <td>0.00</td>\n",
       "      <td>0.00</td>\n",
       "      <td>0.00</td>\n",
       "      <td>...</td>\n",
       "      <td>0.0000</td>\n",
       "      <td>0.0000</td>\n",
       "      <td>0.00</td>\n",
       "      <td>0.0000</td>\n",
       "      <td>0.1505</td>\n",
       "      <td>18089700.0</td>\n",
       "      <td>5.070730e+09</td>\n",
       "      <td>0.00</td>\n",
       "      <td>0.3047</td>\n",
       "      <td>intermediarios_financeiros</td>\n",
       "    </tr>\n",
       "    <tr>\n",
       "      <th>3</th>\n",
       "      <td>ABEV3</td>\n",
       "      <td>15.24</td>\n",
       "      <td>18.33</td>\n",
       "      <td>2.66</td>\n",
       "      <td>3.037</td>\n",
       "      <td>0.0396</td>\n",
       "      <td>1.690</td>\n",
       "      <td>36.49</td>\n",
       "      <td>15.60</td>\n",
       "      <td>-26.80</td>\n",
       "      <td>...</td>\n",
       "      <td>0.1947</td>\n",
       "      <td>0.1715</td>\n",
       "      <td>1.19</td>\n",
       "      <td>0.1498</td>\n",
       "      <td>0.1452</td>\n",
       "      <td>447864000.0</td>\n",
       "      <td>9.017800e+10</td>\n",
       "      <td>0.03</td>\n",
       "      <td>0.1298</td>\n",
       "      <td>setor_desconhecido</td>\n",
       "    </tr>\n",
       "    <tr>\n",
       "      <th>4</th>\n",
       "      <td>ABYA3</td>\n",
       "      <td>4.91</td>\n",
       "      <td>-214.80</td>\n",
       "      <td>1.76</td>\n",
       "      <td>2.055</td>\n",
       "      <td>0.0000</td>\n",
       "      <td>0.527</td>\n",
       "      <td>1.98</td>\n",
       "      <td>19.96</td>\n",
       "      <td>-2.75</td>\n",
       "      <td>...</td>\n",
       "      <td>0.1029</td>\n",
       "      <td>-0.0096</td>\n",
       "      <td>2.09</td>\n",
       "      <td>0.0278</td>\n",
       "      <td>-0.0082</td>\n",
       "      <td>0.0</td>\n",
       "      <td>2.920600e+08</td>\n",
       "      <td>1.31</td>\n",
       "      <td>0.1641</td>\n",
       "      <td>setor_desconhecido</td>\n",
       "    </tr>\n",
       "  </tbody>\n",
       "</table>\n",
       "<p>5 rows × 22 columns</p>\n",
       "</div>"
      ],
      "text/plain": [
       "   papel  cotação     p/l  p/vp    psr  div.yield  p/ativo  p/cap.giro  p/ebit  p/ativ circ.liq  ...  mrg ebit  marg_liquida  liq. corr.    roic     roe   liq.2meses   patrim. líq  dív.brut/ patrim.  cresc. rec.5a                                 setor\n",
       "0  AALR3    20.57  -17.96  2.27  2.228     0.0000    0.925      -29.66   80.97            -2.39  ...    0.0275       -0.1180        0.86  0.0132 -0.1263    7898420.0  1.072550e+09               0.85         0.0116  serv_medicos_analises_e_diagnasticos\n",
       "1  ABCB3     0.00    0.00  0.00  0.000     0.0000    0.000        0.00    0.00             0.00  ...    0.0000        0.0000        0.00  0.0000  0.1505          0.0  5.070730e+09               0.00         0.3047                    setor_desconhecido\n",
       "2  ABCB4    18.40    5.45  0.82  0.000     0.0695    0.000        0.00    0.00             0.00  ...    0.0000        0.0000        0.00  0.0000  0.1505   18089700.0  5.070730e+09               0.00         0.3047            intermediarios_financeiros\n",
       "3  ABEV3    15.24   18.33  2.66  3.037     0.0396    1.690       36.49   15.60           -26.80  ...    0.1947        0.1715        1.19  0.1498  0.1452  447864000.0  9.017800e+10               0.03         0.1298                    setor_desconhecido\n",
       "4  ABYA3     4.91 -214.80  1.76  2.055     0.0000    0.527        1.98   19.96            -2.75  ...    0.1029       -0.0096        2.09  0.0278 -0.0082          0.0  2.920600e+08               1.31         0.1641                    setor_desconhecido\n",
       "\n",
       "[5 rows x 22 columns]"
      ]
     },
     "execution_count": 94,
     "metadata": {},
     "output_type": "execute_result"
    }
   ],
   "source": [
    "df_sectors.head()"
   ]
  },
  {
   "cell_type": "code",
   "execution_count": 95,
   "id": "ba50f86b",
   "metadata": {
    "ExecuteTime": {
     "end_time": "2023-03-30T10:59:10.966792Z",
     "start_time": "2023-03-30T10:59:10.950876Z"
    }
   },
   "outputs": [],
   "source": [
    "# Filtragem dos dados\n",
    "df_filtered = data_filtering( df_sectors )"
   ]
  },
  {
   "cell_type": "code",
   "execution_count": 135,
   "id": "d1d9627c",
   "metadata": {
    "ExecuteTime": {
     "end_time": "2023-03-30T12:17:09.523751Z",
     "start_time": "2023-03-30T12:17:09.492794Z"
    }
   },
   "outputs": [
    {
     "data": {
      "text/html": [
       "<div>\n",
       "<style scoped>\n",
       "    .dataframe tbody tr th:only-of-type {\n",
       "        vertical-align: middle;\n",
       "    }\n",
       "\n",
       "    .dataframe tbody tr th {\n",
       "        vertical-align: top;\n",
       "    }\n",
       "\n",
       "    .dataframe thead th {\n",
       "        text-align: right;\n",
       "    }\n",
       "</style>\n",
       "<table border=\"1\" class=\"dataframe\">\n",
       "  <thead>\n",
       "    <tr style=\"text-align: right;\">\n",
       "      <th></th>\n",
       "      <th>setor</th>\n",
       "      <th>p/l</th>\n",
       "      <th>p/vp</th>\n",
       "      <th>div.yield</th>\n",
       "      <th>cresc. rec.5a</th>\n",
       "      <th>marg_liquida</th>\n",
       "      <th>roe</th>\n",
       "    </tr>\n",
       "    <tr>\n",
       "      <th>papel</th>\n",
       "      <th></th>\n",
       "      <th></th>\n",
       "      <th></th>\n",
       "      <th></th>\n",
       "      <th></th>\n",
       "      <th></th>\n",
       "      <th></th>\n",
       "    </tr>\n",
       "  </thead>\n",
       "  <tbody>\n",
       "    <tr>\n",
       "      <th>AGRO3</th>\n",
       "      <td>agropecuaria</td>\n",
       "      <td>6.13</td>\n",
       "      <td>1.18</td>\n",
       "      <td>0.2010</td>\n",
       "      <td>0.3976</td>\n",
       "      <td>0.2568</td>\n",
       "      <td>0.1920</td>\n",
       "    </tr>\n",
       "    <tr>\n",
       "      <th>SLCE3</th>\n",
       "      <td>agropecuaria</td>\n",
       "      <td>6.93</td>\n",
       "      <td>1.93</td>\n",
       "      <td>0.0557</td>\n",
       "      <td>0.3620</td>\n",
       "      <td>0.1520</td>\n",
       "      <td>0.2788</td>\n",
       "    </tr>\n",
       "    <tr>\n",
       "      <th>SOJA3</th>\n",
       "      <td>agropecuaria</td>\n",
       "      <td>9.46</td>\n",
       "      <td>1.52</td>\n",
       "      <td>0.0115</td>\n",
       "      <td>0.7023</td>\n",
       "      <td>0.0793</td>\n",
       "      <td>0.1608</td>\n",
       "    </tr>\n",
       "    <tr>\n",
       "      <th>TTEN3</th>\n",
       "      <td>agropecuaria</td>\n",
       "      <td>8.40</td>\n",
       "      <td>1.67</td>\n",
       "      <td>0.0018</td>\n",
       "      <td>0.0000</td>\n",
       "      <td>0.0808</td>\n",
       "      <td>0.1984</td>\n",
       "    </tr>\n",
       "  </tbody>\n",
       "</table>\n",
       "</div>"
      ],
      "text/plain": [
       "              setor   p/l  p/vp  div.yield  cresc. rec.5a  marg_liquida     roe\n",
       "papel                                                                          \n",
       "AGRO3  agropecuaria  6.13  1.18     0.2010         0.3976        0.2568  0.1920\n",
       "SLCE3  agropecuaria  6.93  1.93     0.0557         0.3620        0.1520  0.2788\n",
       "SOJA3  agropecuaria  9.46  1.52     0.0115         0.7023        0.0793  0.1608\n",
       "TTEN3  agropecuaria  8.40  1.67     0.0018         0.0000        0.0808  0.1984"
      ]
     },
     "execution_count": 135,
     "metadata": {},
     "output_type": "execute_result"
    }
   ],
   "source": [
    "df_filtered[ df_filtered['setor'] == 'agropecuaria']"
   ]
  },
  {
   "cell_type": "code",
   "execution_count": 97,
   "id": "2d3649d5",
   "metadata": {
    "ExecuteTime": {
     "end_time": "2023-03-30T10:59:16.736730Z",
     "start_time": "2023-03-30T10:59:16.693842Z"
    }
   },
   "outputs": [],
   "source": [
    "# Separação dos setores\n",
    "df_separated = separate_sectors( df_filtered )"
   ]
  },
  {
   "cell_type": "code",
   "execution_count": 141,
   "id": "ae562d70",
   "metadata": {
    "ExecuteTime": {
     "end_time": "2023-04-01T17:56:49.744013Z",
     "start_time": "2023-04-01T17:56:49.002997Z"
    }
   },
   "outputs": [],
   "source": [
    "# tabela final - valores originais\n",
    "df_final = final_table( df_separated, top_stocks= 4 )"
   ]
  },
  {
   "cell_type": "code",
   "execution_count": 144,
   "id": "d8febfb6",
   "metadata": {
    "ExecuteTime": {
     "end_time": "2023-04-01T17:58:07.861709Z",
     "start_time": "2023-04-01T17:58:07.834818Z"
    }
   },
   "outputs": [
    {
     "data": {
      "text/html": [
       "<div>\n",
       "<style scoped>\n",
       "    .dataframe tbody tr th:only-of-type {\n",
       "        vertical-align: middle;\n",
       "    }\n",
       "\n",
       "    .dataframe tbody tr th {\n",
       "        vertical-align: top;\n",
       "    }\n",
       "\n",
       "    .dataframe thead th {\n",
       "        text-align: right;\n",
       "    }\n",
       "</style>\n",
       "<table border=\"1\" class=\"dataframe\">\n",
       "  <thead>\n",
       "    <tr style=\"text-align: right;\">\n",
       "      <th></th>\n",
       "      <th>p/l</th>\n",
       "      <th>p/vp</th>\n",
       "      <th>div.yield</th>\n",
       "      <th>cresc. rec.5a</th>\n",
       "      <th>marg_liquida</th>\n",
       "      <th>roe</th>\n",
       "      <th>ranking_(%)</th>\n",
       "      <th>setor</th>\n",
       "    </tr>\n",
       "    <tr>\n",
       "      <th>papel</th>\n",
       "      <th></th>\n",
       "      <th></th>\n",
       "      <th></th>\n",
       "      <th></th>\n",
       "      <th></th>\n",
       "      <th></th>\n",
       "      <th></th>\n",
       "      <th></th>\n",
       "    </tr>\n",
       "  </thead>\n",
       "  <tbody>\n",
       "    <tr>\n",
       "      <th>AGRO3</th>\n",
       "      <td>6.13</td>\n",
       "      <td>1.18</td>\n",
       "      <td>0.2010</td>\n",
       "      <td>0.3976</td>\n",
       "      <td>0.2568</td>\n",
       "      <td>0.1920</td>\n",
       "      <td>49.560247</td>\n",
       "      <td>agropecuaria</td>\n",
       "    </tr>\n",
       "    <tr>\n",
       "      <th>SLCE3</th>\n",
       "      <td>6.93</td>\n",
       "      <td>1.93</td>\n",
       "      <td>0.0557</td>\n",
       "      <td>0.3620</td>\n",
       "      <td>0.1520</td>\n",
       "      <td>0.2788</td>\n",
       "      <td>23.887725</td>\n",
       "      <td>agropecuaria</td>\n",
       "    </tr>\n",
       "    <tr>\n",
       "      <th>SOJA3</th>\n",
       "      <td>9.46</td>\n",
       "      <td>1.52</td>\n",
       "      <td>0.0115</td>\n",
       "      <td>0.7023</td>\n",
       "      <td>0.0793</td>\n",
       "      <td>0.1608</td>\n",
       "      <td>19.393833</td>\n",
       "      <td>agropecuaria</td>\n",
       "    </tr>\n",
       "    <tr>\n",
       "      <th>TTEN3</th>\n",
       "      <td>8.40</td>\n",
       "      <td>1.67</td>\n",
       "      <td>0.0018</td>\n",
       "      <td>0.0000</td>\n",
       "      <td>0.0808</td>\n",
       "      <td>0.1984</td>\n",
       "      <td>7.158195</td>\n",
       "      <td>agropecuaria</td>\n",
       "    </tr>\n",
       "  </tbody>\n",
       "</table>\n",
       "</div>"
      ],
      "text/plain": [
       "        p/l  p/vp  div.yield  cresc. rec.5a  marg_liquida     roe  ranking_(%)         setor\n",
       "papel                                                                                       \n",
       "AGRO3  6.13  1.18     0.2010         0.3976        0.2568  0.1920    49.560247  agropecuaria\n",
       "SLCE3  6.93  1.93     0.0557         0.3620        0.1520  0.2788    23.887725  agropecuaria\n",
       "SOJA3  9.46  1.52     0.0115         0.7023        0.0793  0.1608    19.393833  agropecuaria\n",
       "TTEN3  8.40  1.67     0.0018         0.0000        0.0808  0.1984     7.158195  agropecuaria"
      ]
     },
     "execution_count": 144,
     "metadata": {},
     "output_type": "execute_result"
    }
   ],
   "source": [
    "df_final.loc[ df_final['setor'] == 'agropecuaria', : ].sort_values( 'ranking_(%)', ascending = False)"
   ]
  },
  {
   "cell_type": "code",
   "execution_count": null,
   "id": "90a416b9",
   "metadata": {},
   "outputs": [],
   "source": []
  },
  {
   "cell_type": "code",
   "execution_count": 112,
   "id": "b7a733bf",
   "metadata": {
    "ExecuteTime": {
     "end_time": "2023-03-30T11:02:33.630158Z",
     "start_time": "2023-03-30T11:02:33.326153Z"
    }
   },
   "outputs": [],
   "source": [
    "# tabela final - valores normalizados\n",
    "df_final_2 = final_table( df_separated, top_stocks=1, table_type= 'normalizada' )"
   ]
  },
  {
   "cell_type": "code",
   "execution_count": 113,
   "id": "cebd87c3",
   "metadata": {
    "ExecuteTime": {
     "end_time": "2023-03-30T11:02:35.694266Z",
     "start_time": "2023-03-30T11:02:35.654373Z"
    }
   },
   "outputs": [
    {
     "data": {
      "text/html": [
       "<div>\n",
       "<style scoped>\n",
       "    .dataframe tbody tr th:only-of-type {\n",
       "        vertical-align: middle;\n",
       "    }\n",
       "\n",
       "    .dataframe tbody tr th {\n",
       "        vertical-align: top;\n",
       "    }\n",
       "\n",
       "    .dataframe thead th {\n",
       "        text-align: right;\n",
       "    }\n",
       "</style>\n",
       "<table border=\"1\" class=\"dataframe\">\n",
       "  <thead>\n",
       "    <tr style=\"text-align: right;\">\n",
       "      <th></th>\n",
       "      <th>p/l</th>\n",
       "      <th>p/vp</th>\n",
       "      <th>div.yield</th>\n",
       "      <th>cresc. rec.5a</th>\n",
       "      <th>marg_liquida</th>\n",
       "      <th>roe</th>\n",
       "      <th>ranking_(%)</th>\n",
       "      <th>setor</th>\n",
       "    </tr>\n",
       "    <tr>\n",
       "      <th>papel</th>\n",
       "      <th></th>\n",
       "      <th></th>\n",
       "      <th></th>\n",
       "      <th></th>\n",
       "      <th></th>\n",
       "      <th></th>\n",
       "      <th></th>\n",
       "      <th></th>\n",
       "    </tr>\n",
       "  </thead>\n",
       "  <tbody>\n",
       "    <tr>\n",
       "      <th>AGRO3</th>\n",
       "      <td>0.011318</td>\n",
       "      <td>0.011043</td>\n",
       "      <td>0.301066</td>\n",
       "      <td>0.063468</td>\n",
       "      <td>0.078674</td>\n",
       "      <td>0.016629</td>\n",
       "      <td>48.219786</td>\n",
       "      <td>agropecuaria</td>\n",
       "    </tr>\n",
       "    <tr>\n",
       "      <th>AMBP3</th>\n",
       "      <td>0.006186</td>\n",
       "      <td>0.006565</td>\n",
       "      <td>0.008916</td>\n",
       "      <td>0.340429</td>\n",
       "      <td>0.005249</td>\n",
       "      <td>0.006283</td>\n",
       "      <td>37.362804</td>\n",
       "      <td>agua_e_saneamento</td>\n",
       "    </tr>\n",
       "    <tr>\n",
       "      <th>MRFG3</th>\n",
       "      <td>0.086640</td>\n",
       "      <td>0.016794</td>\n",
       "      <td>0.113251</td>\n",
       "      <td>0.017737</td>\n",
       "      <td>0.010489</td>\n",
       "      <td>0.039834</td>\n",
       "      <td>28.474375</td>\n",
       "      <td>alimentos_processados</td>\n",
       "    </tr>\n",
       "    <tr>\n",
       "      <th>LEVE3</th>\n",
       "      <td>0.047089</td>\n",
       "      <td>0.056175</td>\n",
       "      <td>0.001080</td>\n",
       "      <td>0.015573</td>\n",
       "      <td>0.229340</td>\n",
       "      <td>0.169402</td>\n",
       "      <td>51.866018</td>\n",
       "      <td>automoveis_e_motocicletas</td>\n",
       "    </tr>\n",
       "    <tr>\n",
       "      <th>EPAR3</th>\n",
       "      <td>0.035780</td>\n",
       "      <td>0.004792</td>\n",
       "      <td>0.000000</td>\n",
       "      <td>0.016422</td>\n",
       "      <td>0.007952</td>\n",
       "      <td>0.052512</td>\n",
       "      <td>11.745813</td>\n",
       "      <td>comercio</td>\n",
       "    </tr>\n",
       "    <tr>\n",
       "      <th>HYPE3</th>\n",
       "      <td>0.007522</td>\n",
       "      <td>0.004792</td>\n",
       "      <td>0.026332</td>\n",
       "      <td>0.015609</td>\n",
       "      <td>0.066549</td>\n",
       "      <td>0.010631</td>\n",
       "      <td>13.143551</td>\n",
       "      <td>comercio_e_distribuicao</td>\n",
       "    </tr>\n",
       "    <tr>\n",
       "      <th>POSI3</th>\n",
       "      <td>0.079914</td>\n",
       "      <td>0.081070</td>\n",
       "      <td>0.070968</td>\n",
       "      <td>0.108131</td>\n",
       "      <td>0.021255</td>\n",
       "      <td>0.030076</td>\n",
       "      <td>39.141427</td>\n",
       "      <td>computadores_e_equipamentos</td>\n",
       "    </tr>\n",
       "    <tr>\n",
       "      <th>CALI3</th>\n",
       "      <td>0.005642</td>\n",
       "      <td>0.003250</td>\n",
       "      <td>0.007330</td>\n",
       "      <td>0.072607</td>\n",
       "      <td>0.003784</td>\n",
       "      <td>0.024738</td>\n",
       "      <td>11.735103</td>\n",
       "      <td>construcao_civil</td>\n",
       "    </tr>\n",
       "    <tr>\n",
       "      <th>SOND5</th>\n",
       "      <td>0.021341</td>\n",
       "      <td>0.013440</td>\n",
       "      <td>0.103985</td>\n",
       "      <td>0.017731</td>\n",
       "      <td>0.034796</td>\n",
       "      <td>0.029574</td>\n",
       "      <td>22.086628</td>\n",
       "      <td>construcao_e_engenharia</td>\n",
       "    </tr>\n",
       "    <tr>\n",
       "      <th>MOVI3</th>\n",
       "      <td>0.132570</td>\n",
       "      <td>0.033009</td>\n",
       "      <td>0.072514</td>\n",
       "      <td>0.019360</td>\n",
       "      <td>0.013064</td>\n",
       "      <td>0.042696</td>\n",
       "      <td>31.321259</td>\n",
       "      <td>diversos</td>\n",
       "    </tr>\n",
       "    <tr>\n",
       "      <th>GPAR3</th>\n",
       "      <td>0.002822</td>\n",
       "      <td>0.000623</td>\n",
       "      <td>0.007620</td>\n",
       "      <td>-0.001987</td>\n",
       "      <td>0.061659</td>\n",
       "      <td>0.006676</td>\n",
       "      <td>7.741353</td>\n",
       "      <td>energia_eletrica</td>\n",
       "    </tr>\n",
       "    <tr>\n",
       "      <th>BALM4</th>\n",
       "      <td>0.175819</td>\n",
       "      <td>0.182129</td>\n",
       "      <td>0.170966</td>\n",
       "      <td>0.000000</td>\n",
       "      <td>0.000000</td>\n",
       "      <td>0.000000</td>\n",
       "      <td>52.891409</td>\n",
       "      <td>equipamentos</td>\n",
       "    </tr>\n",
       "    <tr>\n",
       "      <th>SYNE3</th>\n",
       "      <td>0.142518</td>\n",
       "      <td>0.009423</td>\n",
       "      <td>0.266680</td>\n",
       "      <td>0.014814</td>\n",
       "      <td>0.011315</td>\n",
       "      <td>0.100427</td>\n",
       "      <td>54.517710</td>\n",
       "      <td>exploracao_de_imoveis</td>\n",
       "    </tr>\n",
       "    <tr>\n",
       "      <th>SIMH3</th>\n",
       "      <td>0.057617</td>\n",
       "      <td>0.044489</td>\n",
       "      <td>0.028536</td>\n",
       "      <td>3.004733</td>\n",
       "      <td>0.000002</td>\n",
       "      <td>0.011495</td>\n",
       "      <td>314.687166</td>\n",
       "      <td>holdings_diversificadas</td>\n",
       "    </tr>\n",
       "    <tr>\n",
       "      <th>ITSA4</th>\n",
       "      <td>0.001513</td>\n",
       "      <td>0.000717</td>\n",
       "      <td>0.002137</td>\n",
       "      <td>0.015588</td>\n",
       "      <td>0.214488</td>\n",
       "      <td>0.001969</td>\n",
       "      <td>23.641197</td>\n",
       "      <td>intermediarios_financeiros</td>\n",
       "    </tr>\n",
       "    <tr>\n",
       "      <th>EUCA4</th>\n",
       "      <td>0.038247</td>\n",
       "      <td>0.115629</td>\n",
       "      <td>0.014458</td>\n",
       "      <td>0.009630</td>\n",
       "      <td>0.008759</td>\n",
       "      <td>0.008413</td>\n",
       "      <td>19.513661</td>\n",
       "      <td>madeira_e_papel</td>\n",
       "    </tr>\n",
       "    <tr>\n",
       "      <th>TASA4</th>\n",
       "      <td>0.030297</td>\n",
       "      <td>0.017697</td>\n",
       "      <td>0.029940</td>\n",
       "      <td>0.018519</td>\n",
       "      <td>0.022357</td>\n",
       "      <td>0.033874</td>\n",
       "      <td>15.268524</td>\n",
       "      <td>maquinas_e_equipamentos</td>\n",
       "    </tr>\n",
       "    <tr>\n",
       "      <th>RAPT3</th>\n",
       "      <td>0.018878</td>\n",
       "      <td>0.020113</td>\n",
       "      <td>0.079275</td>\n",
       "      <td>0.036915</td>\n",
       "      <td>0.019555</td>\n",
       "      <td>0.030688</td>\n",
       "      <td>20.542343</td>\n",
       "      <td>material_de_transporte</td>\n",
       "    </tr>\n",
       "    <tr>\n",
       "      <th>AURA33</th>\n",
       "      <td>0.006313</td>\n",
       "      <td>0.003499</td>\n",
       "      <td>0.001674</td>\n",
       "      <td>1.479457</td>\n",
       "      <td>0.015576</td>\n",
       "      <td>0.004867</td>\n",
       "      <td>151.138627</td>\n",
       "      <td>mineracao</td>\n",
       "    </tr>\n",
       "    <tr>\n",
       "      <th>PETR4</th>\n",
       "      <td>0.054988</td>\n",
       "      <td>0.011613</td>\n",
       "      <td>0.116727</td>\n",
       "      <td>0.007383</td>\n",
       "      <td>0.022132</td>\n",
       "      <td>0.026827</td>\n",
       "      <td>23.967057</td>\n",
       "      <td>petroleo</td>\n",
       "    </tr>\n",
       "    <tr>\n",
       "      <th>BRGE6</th>\n",
       "      <td>0.006005</td>\n",
       "      <td>0.007367</td>\n",
       "      <td>0.020893</td>\n",
       "      <td>0.061347</td>\n",
       "      <td>0.031645</td>\n",
       "      <td>0.007196</td>\n",
       "      <td>13.445201</td>\n",
       "      <td>previdencia_e_seguros</td>\n",
       "    </tr>\n",
       "    <tr>\n",
       "      <th>BMOB3</th>\n",
       "      <td>0.049030</td>\n",
       "      <td>0.014862</td>\n",
       "      <td>0.032016</td>\n",
       "      <td>0.213105</td>\n",
       "      <td>0.030957</td>\n",
       "      <td>0.036660</td>\n",
       "      <td>37.663089</td>\n",
       "      <td>programas_e_servicos</td>\n",
       "    </tr>\n",
       "    <tr>\n",
       "      <th>ODPV3</th>\n",
       "      <td>0.032597</td>\n",
       "      <td>0.013840</td>\n",
       "      <td>0.023571</td>\n",
       "      <td>0.017403</td>\n",
       "      <td>0.053373</td>\n",
       "      <td>0.053700</td>\n",
       "      <td>19.448363</td>\n",
       "      <td>serv_medicos_analises_e_diagnasticos</td>\n",
       "    </tr>\n",
       "    <tr>\n",
       "      <th>CSUD3</th>\n",
       "      <td>0.040135</td>\n",
       "      <td>0.025993</td>\n",
       "      <td>0.143179</td>\n",
       "      <td>0.042204</td>\n",
       "      <td>0.072150</td>\n",
       "      <td>0.042245</td>\n",
       "      <td>36.590541</td>\n",
       "      <td>servicos_diversos</td>\n",
       "    </tr>\n",
       "    <tr>\n",
       "      <th>PDTC3</th>\n",
       "      <td>0.001763</td>\n",
       "      <td>0.009624</td>\n",
       "      <td>0.000000</td>\n",
       "      <td>0.321872</td>\n",
       "      <td>0.000717</td>\n",
       "      <td>0.002262</td>\n",
       "      <td>33.623738</td>\n",
       "      <td>servicos_financeiros_diversos</td>\n",
       "    </tr>\n",
       "    <tr>\n",
       "      <th>USIM3</th>\n",
       "      <td>0.029783</td>\n",
       "      <td>0.030316</td>\n",
       "      <td>0.009915</td>\n",
       "      <td>0.005990</td>\n",
       "      <td>0.018209</td>\n",
       "      <td>0.011446</td>\n",
       "      <td>10.565930</td>\n",
       "      <td>siderurgia_e_metalurgia</td>\n",
       "    </tr>\n",
       "    <tr>\n",
       "      <th>PTNT4</th>\n",
       "      <td>0.028638</td>\n",
       "      <td>0.019102</td>\n",
       "      <td>0.023201</td>\n",
       "      <td>0.023205</td>\n",
       "      <td>0.007840</td>\n",
       "      <td>0.016841</td>\n",
       "      <td>11.882721</td>\n",
       "      <td>tecidos</td>\n",
       "    </tr>\n",
       "    <tr>\n",
       "      <th>DESK3</th>\n",
       "      <td>0.011996</td>\n",
       "      <td>0.009992</td>\n",
       "      <td>0.368466</td>\n",
       "      <td>0.000000</td>\n",
       "      <td>0.014952</td>\n",
       "      <td>0.012669</td>\n",
       "      <td>41.807433</td>\n",
       "      <td>telecomunicacoes</td>\n",
       "    </tr>\n",
       "    <tr>\n",
       "      <th>STBP3</th>\n",
       "      <td>0.006793</td>\n",
       "      <td>0.003356</td>\n",
       "      <td>0.081864</td>\n",
       "      <td>0.079631</td>\n",
       "      <td>0.014057</td>\n",
       "      <td>0.009204</td>\n",
       "      <td>19.490453</td>\n",
       "      <td>transporte</td>\n",
       "    </tr>\n",
       "    <tr>\n",
       "      <th>UCAS3</th>\n",
       "      <td>0.183316</td>\n",
       "      <td>0.216744</td>\n",
       "      <td>0.005682</td>\n",
       "      <td>0.001620</td>\n",
       "      <td>0.179815</td>\n",
       "      <td>0.010577</td>\n",
       "      <td>59.775452</td>\n",
       "      <td>utilidades_domesticas</td>\n",
       "    </tr>\n",
       "  </tbody>\n",
       "</table>\n",
       "</div>"
      ],
      "text/plain": [
       "             p/l      p/vp  div.yield  cresc. rec.5a  marg_liquida       roe  ranking_(%)                                 setor\n",
       "papel                                                                                                                          \n",
       "AGRO3   0.011318  0.011043   0.301066       0.063468      0.078674  0.016629    48.219786                          agropecuaria\n",
       "AMBP3   0.006186  0.006565   0.008916       0.340429      0.005249  0.006283    37.362804                     agua_e_saneamento\n",
       "MRFG3   0.086640  0.016794   0.113251       0.017737      0.010489  0.039834    28.474375                 alimentos_processados\n",
       "LEVE3   0.047089  0.056175   0.001080       0.015573      0.229340  0.169402    51.866018             automoveis_e_motocicletas\n",
       "EPAR3   0.035780  0.004792   0.000000       0.016422      0.007952  0.052512    11.745813                              comercio\n",
       "HYPE3   0.007522  0.004792   0.026332       0.015609      0.066549  0.010631    13.143551               comercio_e_distribuicao\n",
       "POSI3   0.079914  0.081070   0.070968       0.108131      0.021255  0.030076    39.141427           computadores_e_equipamentos\n",
       "CALI3   0.005642  0.003250   0.007330       0.072607      0.003784  0.024738    11.735103                      construcao_civil\n",
       "SOND5   0.021341  0.013440   0.103985       0.017731      0.034796  0.029574    22.086628               construcao_e_engenharia\n",
       "MOVI3   0.132570  0.033009   0.072514       0.019360      0.013064  0.042696    31.321259                              diversos\n",
       "GPAR3   0.002822  0.000623   0.007620      -0.001987      0.061659  0.006676     7.741353                      energia_eletrica\n",
       "BALM4   0.175819  0.182129   0.170966       0.000000      0.000000  0.000000    52.891409                          equipamentos\n",
       "SYNE3   0.142518  0.009423   0.266680       0.014814      0.011315  0.100427    54.517710                 exploracao_de_imoveis\n",
       "SIMH3   0.057617  0.044489   0.028536       3.004733      0.000002  0.011495   314.687166               holdings_diversificadas\n",
       "ITSA4   0.001513  0.000717   0.002137       0.015588      0.214488  0.001969    23.641197            intermediarios_financeiros\n",
       "EUCA4   0.038247  0.115629   0.014458       0.009630      0.008759  0.008413    19.513661                       madeira_e_papel\n",
       "TASA4   0.030297  0.017697   0.029940       0.018519      0.022357  0.033874    15.268524               maquinas_e_equipamentos\n",
       "RAPT3   0.018878  0.020113   0.079275       0.036915      0.019555  0.030688    20.542343                material_de_transporte\n",
       "AURA33  0.006313  0.003499   0.001674       1.479457      0.015576  0.004867   151.138627                             mineracao\n",
       "PETR4   0.054988  0.011613   0.116727       0.007383      0.022132  0.026827    23.967057                              petroleo\n",
       "BRGE6   0.006005  0.007367   0.020893       0.061347      0.031645  0.007196    13.445201                 previdencia_e_seguros\n",
       "BMOB3   0.049030  0.014862   0.032016       0.213105      0.030957  0.036660    37.663089                  programas_e_servicos\n",
       "ODPV3   0.032597  0.013840   0.023571       0.017403      0.053373  0.053700    19.448363  serv_medicos_analises_e_diagnasticos\n",
       "CSUD3   0.040135  0.025993   0.143179       0.042204      0.072150  0.042245    36.590541                     servicos_diversos\n",
       "PDTC3   0.001763  0.009624   0.000000       0.321872      0.000717  0.002262    33.623738         servicos_financeiros_diversos\n",
       "USIM3   0.029783  0.030316   0.009915       0.005990      0.018209  0.011446    10.565930               siderurgia_e_metalurgia\n",
       "PTNT4   0.028638  0.019102   0.023201       0.023205      0.007840  0.016841    11.882721                               tecidos\n",
       "DESK3   0.011996  0.009992   0.368466       0.000000      0.014952  0.012669    41.807433                      telecomunicacoes\n",
       "STBP3   0.006793  0.003356   0.081864       0.079631      0.014057  0.009204    19.490453                            transporte\n",
       "UCAS3   0.183316  0.216744   0.005682       0.001620      0.179815  0.010577    59.775452                 utilidades_domesticas"
      ]
     },
     "execution_count": 113,
     "metadata": {},
     "output_type": "execute_result"
    }
   ],
   "source": [
    "df_final_2"
   ]
  },
  {
   "cell_type": "code",
   "execution_count": null,
   "id": "55033d85",
   "metadata": {},
   "outputs": [],
   "source": []
  },
  {
   "cell_type": "markdown",
   "id": "4deacd5c",
   "metadata": {},
   "source": [
    "# 6.0 ANÁLISE EXPLORATÓRIA DE DADOS"
   ]
  },
  {
   "cell_type": "code",
   "execution_count": 125,
   "id": "d99b6052",
   "metadata": {
    "ExecuteTime": {
     "end_time": "2023-03-30T11:06:00.460646Z",
     "start_time": "2023-03-30T11:06:00.390869Z"
    }
   },
   "outputs": [
    {
     "data": {
      "application/vnd.plotly.v1+json": {
       "config": {
        "plotlyServerURL": "https://plot.ly"
       },
       "data": [
        {
         "alignmentgroup": "True",
         "hovertemplate": "papel=%{x}<br>p/l=%{y}<extra></extra>",
         "legendgroup": "",
         "marker": {
          "color": "#636efa",
          "pattern": {
           "shape": ""
          }
         },
         "name": "",
         "offsetgroup": "",
         "orientation": "v",
         "showlegend": false,
         "textposition": "auto",
         "type": "bar",
         "x": [
          "SYNE3",
          "PETR4",
          "AURA33",
          "SUZB3",
          "GPAR3",
          "BALM3",
          "SOND5",
          "FESA3",
          "ITSA3",
          "AGRO3"
         ],
         "xaxis": "x",
         "y": [
          0.53,
          1.77,
          4.05,
          4.1,
          4.13,
          4.22,
          4.68,
          4.7,
          5.79,
          6.13
         ],
         "yaxis": "y"
        }
       ],
       "layout": {
        "barmode": "relative",
        "legend": {
         "tracegroupgap": 0
        },
        "margin": {
         "t": 60
        },
        "template": {
         "data": {
          "bar": [
           {
            "error_x": {
             "color": "#2a3f5f"
            },
            "error_y": {
             "color": "#2a3f5f"
            },
            "marker": {
             "line": {
              "color": "#E5ECF6",
              "width": 0.5
             },
             "pattern": {
              "fillmode": "overlay",
              "size": 10,
              "solidity": 0.2
             }
            },
            "type": "bar"
           }
          ],
          "barpolar": [
           {
            "marker": {
             "line": {
              "color": "#E5ECF6",
              "width": 0.5
             },
             "pattern": {
              "fillmode": "overlay",
              "size": 10,
              "solidity": 0.2
             }
            },
            "type": "barpolar"
           }
          ],
          "carpet": [
           {
            "aaxis": {
             "endlinecolor": "#2a3f5f",
             "gridcolor": "white",
             "linecolor": "white",
             "minorgridcolor": "white",
             "startlinecolor": "#2a3f5f"
            },
            "baxis": {
             "endlinecolor": "#2a3f5f",
             "gridcolor": "white",
             "linecolor": "white",
             "minorgridcolor": "white",
             "startlinecolor": "#2a3f5f"
            },
            "type": "carpet"
           }
          ],
          "choropleth": [
           {
            "colorbar": {
             "outlinewidth": 0,
             "ticks": ""
            },
            "type": "choropleth"
           }
          ],
          "contour": [
           {
            "colorbar": {
             "outlinewidth": 0,
             "ticks": ""
            },
            "colorscale": [
             [
              0,
              "#0d0887"
             ],
             [
              0.1111111111111111,
              "#46039f"
             ],
             [
              0.2222222222222222,
              "#7201a8"
             ],
             [
              0.3333333333333333,
              "#9c179e"
             ],
             [
              0.4444444444444444,
              "#bd3786"
             ],
             [
              0.5555555555555556,
              "#d8576b"
             ],
             [
              0.6666666666666666,
              "#ed7953"
             ],
             [
              0.7777777777777778,
              "#fb9f3a"
             ],
             [
              0.8888888888888888,
              "#fdca26"
             ],
             [
              1,
              "#f0f921"
             ]
            ],
            "type": "contour"
           }
          ],
          "contourcarpet": [
           {
            "colorbar": {
             "outlinewidth": 0,
             "ticks": ""
            },
            "type": "contourcarpet"
           }
          ],
          "heatmap": [
           {
            "colorbar": {
             "outlinewidth": 0,
             "ticks": ""
            },
            "colorscale": [
             [
              0,
              "#0d0887"
             ],
             [
              0.1111111111111111,
              "#46039f"
             ],
             [
              0.2222222222222222,
              "#7201a8"
             ],
             [
              0.3333333333333333,
              "#9c179e"
             ],
             [
              0.4444444444444444,
              "#bd3786"
             ],
             [
              0.5555555555555556,
              "#d8576b"
             ],
             [
              0.6666666666666666,
              "#ed7953"
             ],
             [
              0.7777777777777778,
              "#fb9f3a"
             ],
             [
              0.8888888888888888,
              "#fdca26"
             ],
             [
              1,
              "#f0f921"
             ]
            ],
            "type": "heatmap"
           }
          ],
          "heatmapgl": [
           {
            "colorbar": {
             "outlinewidth": 0,
             "ticks": ""
            },
            "colorscale": [
             [
              0,
              "#0d0887"
             ],
             [
              0.1111111111111111,
              "#46039f"
             ],
             [
              0.2222222222222222,
              "#7201a8"
             ],
             [
              0.3333333333333333,
              "#9c179e"
             ],
             [
              0.4444444444444444,
              "#bd3786"
             ],
             [
              0.5555555555555556,
              "#d8576b"
             ],
             [
              0.6666666666666666,
              "#ed7953"
             ],
             [
              0.7777777777777778,
              "#fb9f3a"
             ],
             [
              0.8888888888888888,
              "#fdca26"
             ],
             [
              1,
              "#f0f921"
             ]
            ],
            "type": "heatmapgl"
           }
          ],
          "histogram": [
           {
            "marker": {
             "pattern": {
              "fillmode": "overlay",
              "size": 10,
              "solidity": 0.2
             }
            },
            "type": "histogram"
           }
          ],
          "histogram2d": [
           {
            "colorbar": {
             "outlinewidth": 0,
             "ticks": ""
            },
            "colorscale": [
             [
              0,
              "#0d0887"
             ],
             [
              0.1111111111111111,
              "#46039f"
             ],
             [
              0.2222222222222222,
              "#7201a8"
             ],
             [
              0.3333333333333333,
              "#9c179e"
             ],
             [
              0.4444444444444444,
              "#bd3786"
             ],
             [
              0.5555555555555556,
              "#d8576b"
             ],
             [
              0.6666666666666666,
              "#ed7953"
             ],
             [
              0.7777777777777778,
              "#fb9f3a"
             ],
             [
              0.8888888888888888,
              "#fdca26"
             ],
             [
              1,
              "#f0f921"
             ]
            ],
            "type": "histogram2d"
           }
          ],
          "histogram2dcontour": [
           {
            "colorbar": {
             "outlinewidth": 0,
             "ticks": ""
            },
            "colorscale": [
             [
              0,
              "#0d0887"
             ],
             [
              0.1111111111111111,
              "#46039f"
             ],
             [
              0.2222222222222222,
              "#7201a8"
             ],
             [
              0.3333333333333333,
              "#9c179e"
             ],
             [
              0.4444444444444444,
              "#bd3786"
             ],
             [
              0.5555555555555556,
              "#d8576b"
             ],
             [
              0.6666666666666666,
              "#ed7953"
             ],
             [
              0.7777777777777778,
              "#fb9f3a"
             ],
             [
              0.8888888888888888,
              "#fdca26"
             ],
             [
              1,
              "#f0f921"
             ]
            ],
            "type": "histogram2dcontour"
           }
          ],
          "mesh3d": [
           {
            "colorbar": {
             "outlinewidth": 0,
             "ticks": ""
            },
            "type": "mesh3d"
           }
          ],
          "parcoords": [
           {
            "line": {
             "colorbar": {
              "outlinewidth": 0,
              "ticks": ""
             }
            },
            "type": "parcoords"
           }
          ],
          "pie": [
           {
            "automargin": true,
            "type": "pie"
           }
          ],
          "scatter": [
           {
            "fillpattern": {
             "fillmode": "overlay",
             "size": 10,
             "solidity": 0.2
            },
            "type": "scatter"
           }
          ],
          "scatter3d": [
           {
            "line": {
             "colorbar": {
              "outlinewidth": 0,
              "ticks": ""
             }
            },
            "marker": {
             "colorbar": {
              "outlinewidth": 0,
              "ticks": ""
             }
            },
            "type": "scatter3d"
           }
          ],
          "scattercarpet": [
           {
            "marker": {
             "colorbar": {
              "outlinewidth": 0,
              "ticks": ""
             }
            },
            "type": "scattercarpet"
           }
          ],
          "scattergeo": [
           {
            "marker": {
             "colorbar": {
              "outlinewidth": 0,
              "ticks": ""
             }
            },
            "type": "scattergeo"
           }
          ],
          "scattergl": [
           {
            "marker": {
             "colorbar": {
              "outlinewidth": 0,
              "ticks": ""
             }
            },
            "type": "scattergl"
           }
          ],
          "scattermapbox": [
           {
            "marker": {
             "colorbar": {
              "outlinewidth": 0,
              "ticks": ""
             }
            },
            "type": "scattermapbox"
           }
          ],
          "scatterpolar": [
           {
            "marker": {
             "colorbar": {
              "outlinewidth": 0,
              "ticks": ""
             }
            },
            "type": "scatterpolar"
           }
          ],
          "scatterpolargl": [
           {
            "marker": {
             "colorbar": {
              "outlinewidth": 0,
              "ticks": ""
             }
            },
            "type": "scatterpolargl"
           }
          ],
          "scatterternary": [
           {
            "marker": {
             "colorbar": {
              "outlinewidth": 0,
              "ticks": ""
             }
            },
            "type": "scatterternary"
           }
          ],
          "surface": [
           {
            "colorbar": {
             "outlinewidth": 0,
             "ticks": ""
            },
            "colorscale": [
             [
              0,
              "#0d0887"
             ],
             [
              0.1111111111111111,
              "#46039f"
             ],
             [
              0.2222222222222222,
              "#7201a8"
             ],
             [
              0.3333333333333333,
              "#9c179e"
             ],
             [
              0.4444444444444444,
              "#bd3786"
             ],
             [
              0.5555555555555556,
              "#d8576b"
             ],
             [
              0.6666666666666666,
              "#ed7953"
             ],
             [
              0.7777777777777778,
              "#fb9f3a"
             ],
             [
              0.8888888888888888,
              "#fdca26"
             ],
             [
              1,
              "#f0f921"
             ]
            ],
            "type": "surface"
           }
          ],
          "table": [
           {
            "cells": {
             "fill": {
              "color": "#EBF0F8"
             },
             "line": {
              "color": "white"
             }
            },
            "header": {
             "fill": {
              "color": "#C8D4E3"
             },
             "line": {
              "color": "white"
             }
            },
            "type": "table"
           }
          ]
         },
         "layout": {
          "annotationdefaults": {
           "arrowcolor": "#2a3f5f",
           "arrowhead": 0,
           "arrowwidth": 1
          },
          "autotypenumbers": "strict",
          "coloraxis": {
           "colorbar": {
            "outlinewidth": 0,
            "ticks": ""
           }
          },
          "colorscale": {
           "diverging": [
            [
             0,
             "#8e0152"
            ],
            [
             0.1,
             "#c51b7d"
            ],
            [
             0.2,
             "#de77ae"
            ],
            [
             0.3,
             "#f1b6da"
            ],
            [
             0.4,
             "#fde0ef"
            ],
            [
             0.5,
             "#f7f7f7"
            ],
            [
             0.6,
             "#e6f5d0"
            ],
            [
             0.7,
             "#b8e186"
            ],
            [
             0.8,
             "#7fbc41"
            ],
            [
             0.9,
             "#4d9221"
            ],
            [
             1,
             "#276419"
            ]
           ],
           "sequential": [
            [
             0,
             "#0d0887"
            ],
            [
             0.1111111111111111,
             "#46039f"
            ],
            [
             0.2222222222222222,
             "#7201a8"
            ],
            [
             0.3333333333333333,
             "#9c179e"
            ],
            [
             0.4444444444444444,
             "#bd3786"
            ],
            [
             0.5555555555555556,
             "#d8576b"
            ],
            [
             0.6666666666666666,
             "#ed7953"
            ],
            [
             0.7777777777777778,
             "#fb9f3a"
            ],
            [
             0.8888888888888888,
             "#fdca26"
            ],
            [
             1,
             "#f0f921"
            ]
           ],
           "sequentialminus": [
            [
             0,
             "#0d0887"
            ],
            [
             0.1111111111111111,
             "#46039f"
            ],
            [
             0.2222222222222222,
             "#7201a8"
            ],
            [
             0.3333333333333333,
             "#9c179e"
            ],
            [
             0.4444444444444444,
             "#bd3786"
            ],
            [
             0.5555555555555556,
             "#d8576b"
            ],
            [
             0.6666666666666666,
             "#ed7953"
            ],
            [
             0.7777777777777778,
             "#fb9f3a"
            ],
            [
             0.8888888888888888,
             "#fdca26"
            ],
            [
             1,
             "#f0f921"
            ]
           ]
          },
          "colorway": [
           "#636efa",
           "#EF553B",
           "#00cc96",
           "#ab63fa",
           "#FFA15A",
           "#19d3f3",
           "#FF6692",
           "#B6E880",
           "#FF97FF",
           "#FECB52"
          ],
          "font": {
           "color": "#2a3f5f"
          },
          "geo": {
           "bgcolor": "white",
           "lakecolor": "white",
           "landcolor": "#E5ECF6",
           "showlakes": true,
           "showland": true,
           "subunitcolor": "white"
          },
          "hoverlabel": {
           "align": "left"
          },
          "hovermode": "closest",
          "mapbox": {
           "style": "light"
          },
          "paper_bgcolor": "white",
          "plot_bgcolor": "#E5ECF6",
          "polar": {
           "angularaxis": {
            "gridcolor": "white",
            "linecolor": "white",
            "ticks": ""
           },
           "bgcolor": "#E5ECF6",
           "radialaxis": {
            "gridcolor": "white",
            "linecolor": "white",
            "ticks": ""
           }
          },
          "scene": {
           "xaxis": {
            "backgroundcolor": "#E5ECF6",
            "gridcolor": "white",
            "gridwidth": 2,
            "linecolor": "white",
            "showbackground": true,
            "ticks": "",
            "zerolinecolor": "white"
           },
           "yaxis": {
            "backgroundcolor": "#E5ECF6",
            "gridcolor": "white",
            "gridwidth": 2,
            "linecolor": "white",
            "showbackground": true,
            "ticks": "",
            "zerolinecolor": "white"
           },
           "zaxis": {
            "backgroundcolor": "#E5ECF6",
            "gridcolor": "white",
            "gridwidth": 2,
            "linecolor": "white",
            "showbackground": true,
            "ticks": "",
            "zerolinecolor": "white"
           }
          },
          "shapedefaults": {
           "line": {
            "color": "#2a3f5f"
           }
          },
          "ternary": {
           "aaxis": {
            "gridcolor": "white",
            "linecolor": "white",
            "ticks": ""
           },
           "baxis": {
            "gridcolor": "white",
            "linecolor": "white",
            "ticks": ""
           },
           "bgcolor": "#E5ECF6",
           "caxis": {
            "gridcolor": "white",
            "linecolor": "white",
            "ticks": ""
           }
          },
          "title": {
           "x": 0.05
          },
          "xaxis": {
           "automargin": true,
           "gridcolor": "white",
           "linecolor": "white",
           "ticks": "",
           "title": {
            "standoff": 15
           },
           "zerolinecolor": "white",
           "zerolinewidth": 2
          },
          "yaxis": {
           "automargin": true,
           "gridcolor": "white",
           "linecolor": "white",
           "ticks": "",
           "title": {
            "standoff": 15
           },
           "zerolinecolor": "white",
           "zerolinewidth": 2
          }
         }
        },
        "xaxis": {
         "anchor": "y",
         "domain": [
          0,
          1
         ],
         "title": {
          "text": "papel"
         }
        },
        "yaxis": {
         "anchor": "x",
         "domain": [
          0,
          1
         ],
         "title": {
          "text": "p/l"
         }
        }
       }
      },
      "text/html": [
       "<div>                            <div id=\"774c42ed-7338-4034-9ed9-2ccc573343ec\" class=\"plotly-graph-div\" style=\"height:525px; width:100%;\"></div>            <script type=\"text/javascript\">                require([\"plotly\"], function(Plotly) {                    window.PLOTLYENV=window.PLOTLYENV || {};                                    if (document.getElementById(\"774c42ed-7338-4034-9ed9-2ccc573343ec\")) {                    Plotly.newPlot(                        \"774c42ed-7338-4034-9ed9-2ccc573343ec\",                        [{\"alignmentgroup\":\"True\",\"hovertemplate\":\"papel=%{x}<br>p/l=%{y}<extra></extra>\",\"legendgroup\":\"\",\"marker\":{\"color\":\"#636efa\",\"pattern\":{\"shape\":\"\"}},\"name\":\"\",\"offsetgroup\":\"\",\"orientation\":\"v\",\"showlegend\":false,\"textposition\":\"auto\",\"x\":[\"SYNE3\",\"PETR4\",\"AURA33\",\"SUZB3\",\"GPAR3\",\"BALM3\",\"SOND5\",\"FESA3\",\"ITSA3\",\"AGRO3\"],\"xaxis\":\"x\",\"y\":[0.53,1.77,4.05,4.1,4.13,4.22,4.68,4.7,5.79,6.13],\"yaxis\":\"y\",\"type\":\"bar\"}],                        {\"template\":{\"data\":{\"histogram2dcontour\":[{\"type\":\"histogram2dcontour\",\"colorbar\":{\"outlinewidth\":0,\"ticks\":\"\"},\"colorscale\":[[0.0,\"#0d0887\"],[0.1111111111111111,\"#46039f\"],[0.2222222222222222,\"#7201a8\"],[0.3333333333333333,\"#9c179e\"],[0.4444444444444444,\"#bd3786\"],[0.5555555555555556,\"#d8576b\"],[0.6666666666666666,\"#ed7953\"],[0.7777777777777778,\"#fb9f3a\"],[0.8888888888888888,\"#fdca26\"],[1.0,\"#f0f921\"]]}],\"choropleth\":[{\"type\":\"choropleth\",\"colorbar\":{\"outlinewidth\":0,\"ticks\":\"\"}}],\"histogram2d\":[{\"type\":\"histogram2d\",\"colorbar\":{\"outlinewidth\":0,\"ticks\":\"\"},\"colorscale\":[[0.0,\"#0d0887\"],[0.1111111111111111,\"#46039f\"],[0.2222222222222222,\"#7201a8\"],[0.3333333333333333,\"#9c179e\"],[0.4444444444444444,\"#bd3786\"],[0.5555555555555556,\"#d8576b\"],[0.6666666666666666,\"#ed7953\"],[0.7777777777777778,\"#fb9f3a\"],[0.8888888888888888,\"#fdca26\"],[1.0,\"#f0f921\"]]}],\"heatmap\":[{\"type\":\"heatmap\",\"colorbar\":{\"outlinewidth\":0,\"ticks\":\"\"},\"colorscale\":[[0.0,\"#0d0887\"],[0.1111111111111111,\"#46039f\"],[0.2222222222222222,\"#7201a8\"],[0.3333333333333333,\"#9c179e\"],[0.4444444444444444,\"#bd3786\"],[0.5555555555555556,\"#d8576b\"],[0.6666666666666666,\"#ed7953\"],[0.7777777777777778,\"#fb9f3a\"],[0.8888888888888888,\"#fdca26\"],[1.0,\"#f0f921\"]]}],\"heatmapgl\":[{\"type\":\"heatmapgl\",\"colorbar\":{\"outlinewidth\":0,\"ticks\":\"\"},\"colorscale\":[[0.0,\"#0d0887\"],[0.1111111111111111,\"#46039f\"],[0.2222222222222222,\"#7201a8\"],[0.3333333333333333,\"#9c179e\"],[0.4444444444444444,\"#bd3786\"],[0.5555555555555556,\"#d8576b\"],[0.6666666666666666,\"#ed7953\"],[0.7777777777777778,\"#fb9f3a\"],[0.8888888888888888,\"#fdca26\"],[1.0,\"#f0f921\"]]}],\"contourcarpet\":[{\"type\":\"contourcarpet\",\"colorbar\":{\"outlinewidth\":0,\"ticks\":\"\"}}],\"contour\":[{\"type\":\"contour\",\"colorbar\":{\"outlinewidth\":0,\"ticks\":\"\"},\"colorscale\":[[0.0,\"#0d0887\"],[0.1111111111111111,\"#46039f\"],[0.2222222222222222,\"#7201a8\"],[0.3333333333333333,\"#9c179e\"],[0.4444444444444444,\"#bd3786\"],[0.5555555555555556,\"#d8576b\"],[0.6666666666666666,\"#ed7953\"],[0.7777777777777778,\"#fb9f3a\"],[0.8888888888888888,\"#fdca26\"],[1.0,\"#f0f921\"]]}],\"surface\":[{\"type\":\"surface\",\"colorbar\":{\"outlinewidth\":0,\"ticks\":\"\"},\"colorscale\":[[0.0,\"#0d0887\"],[0.1111111111111111,\"#46039f\"],[0.2222222222222222,\"#7201a8\"],[0.3333333333333333,\"#9c179e\"],[0.4444444444444444,\"#bd3786\"],[0.5555555555555556,\"#d8576b\"],[0.6666666666666666,\"#ed7953\"],[0.7777777777777778,\"#fb9f3a\"],[0.8888888888888888,\"#fdca26\"],[1.0,\"#f0f921\"]]}],\"mesh3d\":[{\"type\":\"mesh3d\",\"colorbar\":{\"outlinewidth\":0,\"ticks\":\"\"}}],\"scatter\":[{\"fillpattern\":{\"fillmode\":\"overlay\",\"size\":10,\"solidity\":0.2},\"type\":\"scatter\"}],\"parcoords\":[{\"type\":\"parcoords\",\"line\":{\"colorbar\":{\"outlinewidth\":0,\"ticks\":\"\"}}}],\"scatterpolargl\":[{\"type\":\"scatterpolargl\",\"marker\":{\"colorbar\":{\"outlinewidth\":0,\"ticks\":\"\"}}}],\"bar\":[{\"error_x\":{\"color\":\"#2a3f5f\"},\"error_y\":{\"color\":\"#2a3f5f\"},\"marker\":{\"line\":{\"color\":\"#E5ECF6\",\"width\":0.5},\"pattern\":{\"fillmode\":\"overlay\",\"size\":10,\"solidity\":0.2}},\"type\":\"bar\"}],\"scattergeo\":[{\"type\":\"scattergeo\",\"marker\":{\"colorbar\":{\"outlinewidth\":0,\"ticks\":\"\"}}}],\"scatterpolar\":[{\"type\":\"scatterpolar\",\"marker\":{\"colorbar\":{\"outlinewidth\":0,\"ticks\":\"\"}}}],\"histogram\":[{\"marker\":{\"pattern\":{\"fillmode\":\"overlay\",\"size\":10,\"solidity\":0.2}},\"type\":\"histogram\"}],\"scattergl\":[{\"type\":\"scattergl\",\"marker\":{\"colorbar\":{\"outlinewidth\":0,\"ticks\":\"\"}}}],\"scatter3d\":[{\"type\":\"scatter3d\",\"line\":{\"colorbar\":{\"outlinewidth\":0,\"ticks\":\"\"}},\"marker\":{\"colorbar\":{\"outlinewidth\":0,\"ticks\":\"\"}}}],\"scattermapbox\":[{\"type\":\"scattermapbox\",\"marker\":{\"colorbar\":{\"outlinewidth\":0,\"ticks\":\"\"}}}],\"scatterternary\":[{\"type\":\"scatterternary\",\"marker\":{\"colorbar\":{\"outlinewidth\":0,\"ticks\":\"\"}}}],\"scattercarpet\":[{\"type\":\"scattercarpet\",\"marker\":{\"colorbar\":{\"outlinewidth\":0,\"ticks\":\"\"}}}],\"carpet\":[{\"aaxis\":{\"endlinecolor\":\"#2a3f5f\",\"gridcolor\":\"white\",\"linecolor\":\"white\",\"minorgridcolor\":\"white\",\"startlinecolor\":\"#2a3f5f\"},\"baxis\":{\"endlinecolor\":\"#2a3f5f\",\"gridcolor\":\"white\",\"linecolor\":\"white\",\"minorgridcolor\":\"white\",\"startlinecolor\":\"#2a3f5f\"},\"type\":\"carpet\"}],\"table\":[{\"cells\":{\"fill\":{\"color\":\"#EBF0F8\"},\"line\":{\"color\":\"white\"}},\"header\":{\"fill\":{\"color\":\"#C8D4E3\"},\"line\":{\"color\":\"white\"}},\"type\":\"table\"}],\"barpolar\":[{\"marker\":{\"line\":{\"color\":\"#E5ECF6\",\"width\":0.5},\"pattern\":{\"fillmode\":\"overlay\",\"size\":10,\"solidity\":0.2}},\"type\":\"barpolar\"}],\"pie\":[{\"automargin\":true,\"type\":\"pie\"}]},\"layout\":{\"autotypenumbers\":\"strict\",\"colorway\":[\"#636efa\",\"#EF553B\",\"#00cc96\",\"#ab63fa\",\"#FFA15A\",\"#19d3f3\",\"#FF6692\",\"#B6E880\",\"#FF97FF\",\"#FECB52\"],\"font\":{\"color\":\"#2a3f5f\"},\"hovermode\":\"closest\",\"hoverlabel\":{\"align\":\"left\"},\"paper_bgcolor\":\"white\",\"plot_bgcolor\":\"#E5ECF6\",\"polar\":{\"bgcolor\":\"#E5ECF6\",\"angularaxis\":{\"gridcolor\":\"white\",\"linecolor\":\"white\",\"ticks\":\"\"},\"radialaxis\":{\"gridcolor\":\"white\",\"linecolor\":\"white\",\"ticks\":\"\"}},\"ternary\":{\"bgcolor\":\"#E5ECF6\",\"aaxis\":{\"gridcolor\":\"white\",\"linecolor\":\"white\",\"ticks\":\"\"},\"baxis\":{\"gridcolor\":\"white\",\"linecolor\":\"white\",\"ticks\":\"\"},\"caxis\":{\"gridcolor\":\"white\",\"linecolor\":\"white\",\"ticks\":\"\"}},\"coloraxis\":{\"colorbar\":{\"outlinewidth\":0,\"ticks\":\"\"}},\"colorscale\":{\"sequential\":[[0.0,\"#0d0887\"],[0.1111111111111111,\"#46039f\"],[0.2222222222222222,\"#7201a8\"],[0.3333333333333333,\"#9c179e\"],[0.4444444444444444,\"#bd3786\"],[0.5555555555555556,\"#d8576b\"],[0.6666666666666666,\"#ed7953\"],[0.7777777777777778,\"#fb9f3a\"],[0.8888888888888888,\"#fdca26\"],[1.0,\"#f0f921\"]],\"sequentialminus\":[[0.0,\"#0d0887\"],[0.1111111111111111,\"#46039f\"],[0.2222222222222222,\"#7201a8\"],[0.3333333333333333,\"#9c179e\"],[0.4444444444444444,\"#bd3786\"],[0.5555555555555556,\"#d8576b\"],[0.6666666666666666,\"#ed7953\"],[0.7777777777777778,\"#fb9f3a\"],[0.8888888888888888,\"#fdca26\"],[1.0,\"#f0f921\"]],\"diverging\":[[0,\"#8e0152\"],[0.1,\"#c51b7d\"],[0.2,\"#de77ae\"],[0.3,\"#f1b6da\"],[0.4,\"#fde0ef\"],[0.5,\"#f7f7f7\"],[0.6,\"#e6f5d0\"],[0.7,\"#b8e186\"],[0.8,\"#7fbc41\"],[0.9,\"#4d9221\"],[1,\"#276419\"]]},\"xaxis\":{\"gridcolor\":\"white\",\"linecolor\":\"white\",\"ticks\":\"\",\"title\":{\"standoff\":15},\"zerolinecolor\":\"white\",\"automargin\":true,\"zerolinewidth\":2},\"yaxis\":{\"gridcolor\":\"white\",\"linecolor\":\"white\",\"ticks\":\"\",\"title\":{\"standoff\":15},\"zerolinecolor\":\"white\",\"automargin\":true,\"zerolinewidth\":2},\"scene\":{\"xaxis\":{\"backgroundcolor\":\"#E5ECF6\",\"gridcolor\":\"white\",\"linecolor\":\"white\",\"showbackground\":true,\"ticks\":\"\",\"zerolinecolor\":\"white\",\"gridwidth\":2},\"yaxis\":{\"backgroundcolor\":\"#E5ECF6\",\"gridcolor\":\"white\",\"linecolor\":\"white\",\"showbackground\":true,\"ticks\":\"\",\"zerolinecolor\":\"white\",\"gridwidth\":2},\"zaxis\":{\"backgroundcolor\":\"#E5ECF6\",\"gridcolor\":\"white\",\"linecolor\":\"white\",\"showbackground\":true,\"ticks\":\"\",\"zerolinecolor\":\"white\",\"gridwidth\":2}},\"shapedefaults\":{\"line\":{\"color\":\"#2a3f5f\"}},\"annotationdefaults\":{\"arrowcolor\":\"#2a3f5f\",\"arrowhead\":0,\"arrowwidth\":1},\"geo\":{\"bgcolor\":\"white\",\"landcolor\":\"#E5ECF6\",\"subunitcolor\":\"white\",\"showland\":true,\"showlakes\":true,\"lakecolor\":\"white\"},\"title\":{\"x\":0.05},\"mapbox\":{\"style\":\"light\"}}},\"xaxis\":{\"anchor\":\"y\",\"domain\":[0.0,1.0],\"title\":{\"text\":\"papel\"}},\"yaxis\":{\"anchor\":\"x\",\"domain\":[0.0,1.0],\"title\":{\"text\":\"p/l\"}},\"legend\":{\"tracegroupgap\":0},\"margin\":{\"t\":60},\"barmode\":\"relative\"},                        {\"responsive\": true}                    ).then(function(){\n",
       "                            \n",
       "var gd = document.getElementById('774c42ed-7338-4034-9ed9-2ccc573343ec');\n",
       "var x = new MutationObserver(function (mutations, observer) {{\n",
       "        var display = window.getComputedStyle(gd).display;\n",
       "        if (!display || display === 'none') {{\n",
       "            console.log([gd, 'removed!']);\n",
       "            Plotly.purge(gd);\n",
       "            observer.disconnect();\n",
       "        }}\n",
       "}});\n",
       "\n",
       "// Listen for the removal of the full notebook cells\n",
       "var notebookContainer = gd.closest('#notebook-container');\n",
       "if (notebookContainer) {{\n",
       "    x.observe(notebookContainer, {childList: true});\n",
       "}}\n",
       "\n",
       "// Listen for the clearing of the current output cell\n",
       "var outputEl = gd.closest('.output');\n",
       "if (outputEl) {{\n",
       "    x.observe(outputEl, {childList: true});\n",
       "}}\n",
       "\n",
       "                        })                };                });            </script>        </div>"
      ]
     },
     "metadata": {},
     "output_type": "display_data"
    }
   ],
   "source": [
    "# grafico menores PL\n",
    "aux = df_final.sort_values('p/l').reset_index().rename( columns= {'index': 'papel'}).head(10)\n",
    "px.bar( aux, x= 'papel', y= 'p/l')"
   ]
  },
  {
   "cell_type": "code",
   "execution_count": 124,
   "id": "35389d5b",
   "metadata": {
    "ExecuteTime": {
     "end_time": "2023-03-30T11:05:55.531757Z",
     "start_time": "2023-03-30T11:05:55.469920Z"
    }
   },
   "outputs": [
    {
     "data": {
      "application/vnd.plotly.v1+json": {
       "config": {
        "plotlyServerURL": "https://plot.ly"
       },
       "data": [
        {
         "alignmentgroup": "True",
         "hovertemplate": "papel=%{x}<br>p/vp=%{y}<extra></extra>",
         "legendgroup": "",
         "marker": {
          "color": "#636efa",
          "pattern": {
           "shape": ""
          }
         },
         "name": "",
         "offsetgroup": "",
         "orientation": "v",
         "showlegend": false,
         "textposition": "auto",
         "type": "bar",
         "x": [
          "SYNE3",
          "DESK3",
          "BALM3",
          "PETR4",
          "AGRO3",
          "BMOB3",
          "ITSA3",
          "AURA33",
          "SOND5",
          "CSUD3"
         ],
         "xaxis": "x",
         "y": [
          0.42,
          0.79,
          0.8,
          0.84,
          1.18,
          1.18,
          1.18,
          1.25,
          1.32,
          1.35
         ],
         "yaxis": "y"
        }
       ],
       "layout": {
        "barmode": "relative",
        "legend": {
         "tracegroupgap": 0
        },
        "margin": {
         "t": 60
        },
        "template": {
         "data": {
          "bar": [
           {
            "error_x": {
             "color": "#2a3f5f"
            },
            "error_y": {
             "color": "#2a3f5f"
            },
            "marker": {
             "line": {
              "color": "#E5ECF6",
              "width": 0.5
             },
             "pattern": {
              "fillmode": "overlay",
              "size": 10,
              "solidity": 0.2
             }
            },
            "type": "bar"
           }
          ],
          "barpolar": [
           {
            "marker": {
             "line": {
              "color": "#E5ECF6",
              "width": 0.5
             },
             "pattern": {
              "fillmode": "overlay",
              "size": 10,
              "solidity": 0.2
             }
            },
            "type": "barpolar"
           }
          ],
          "carpet": [
           {
            "aaxis": {
             "endlinecolor": "#2a3f5f",
             "gridcolor": "white",
             "linecolor": "white",
             "minorgridcolor": "white",
             "startlinecolor": "#2a3f5f"
            },
            "baxis": {
             "endlinecolor": "#2a3f5f",
             "gridcolor": "white",
             "linecolor": "white",
             "minorgridcolor": "white",
             "startlinecolor": "#2a3f5f"
            },
            "type": "carpet"
           }
          ],
          "choropleth": [
           {
            "colorbar": {
             "outlinewidth": 0,
             "ticks": ""
            },
            "type": "choropleth"
           }
          ],
          "contour": [
           {
            "colorbar": {
             "outlinewidth": 0,
             "ticks": ""
            },
            "colorscale": [
             [
              0,
              "#0d0887"
             ],
             [
              0.1111111111111111,
              "#46039f"
             ],
             [
              0.2222222222222222,
              "#7201a8"
             ],
             [
              0.3333333333333333,
              "#9c179e"
             ],
             [
              0.4444444444444444,
              "#bd3786"
             ],
             [
              0.5555555555555556,
              "#d8576b"
             ],
             [
              0.6666666666666666,
              "#ed7953"
             ],
             [
              0.7777777777777778,
              "#fb9f3a"
             ],
             [
              0.8888888888888888,
              "#fdca26"
             ],
             [
              1,
              "#f0f921"
             ]
            ],
            "type": "contour"
           }
          ],
          "contourcarpet": [
           {
            "colorbar": {
             "outlinewidth": 0,
             "ticks": ""
            },
            "type": "contourcarpet"
           }
          ],
          "heatmap": [
           {
            "colorbar": {
             "outlinewidth": 0,
             "ticks": ""
            },
            "colorscale": [
             [
              0,
              "#0d0887"
             ],
             [
              0.1111111111111111,
              "#46039f"
             ],
             [
              0.2222222222222222,
              "#7201a8"
             ],
             [
              0.3333333333333333,
              "#9c179e"
             ],
             [
              0.4444444444444444,
              "#bd3786"
             ],
             [
              0.5555555555555556,
              "#d8576b"
             ],
             [
              0.6666666666666666,
              "#ed7953"
             ],
             [
              0.7777777777777778,
              "#fb9f3a"
             ],
             [
              0.8888888888888888,
              "#fdca26"
             ],
             [
              1,
              "#f0f921"
             ]
            ],
            "type": "heatmap"
           }
          ],
          "heatmapgl": [
           {
            "colorbar": {
             "outlinewidth": 0,
             "ticks": ""
            },
            "colorscale": [
             [
              0,
              "#0d0887"
             ],
             [
              0.1111111111111111,
              "#46039f"
             ],
             [
              0.2222222222222222,
              "#7201a8"
             ],
             [
              0.3333333333333333,
              "#9c179e"
             ],
             [
              0.4444444444444444,
              "#bd3786"
             ],
             [
              0.5555555555555556,
              "#d8576b"
             ],
             [
              0.6666666666666666,
              "#ed7953"
             ],
             [
              0.7777777777777778,
              "#fb9f3a"
             ],
             [
              0.8888888888888888,
              "#fdca26"
             ],
             [
              1,
              "#f0f921"
             ]
            ],
            "type": "heatmapgl"
           }
          ],
          "histogram": [
           {
            "marker": {
             "pattern": {
              "fillmode": "overlay",
              "size": 10,
              "solidity": 0.2
             }
            },
            "type": "histogram"
           }
          ],
          "histogram2d": [
           {
            "colorbar": {
             "outlinewidth": 0,
             "ticks": ""
            },
            "colorscale": [
             [
              0,
              "#0d0887"
             ],
             [
              0.1111111111111111,
              "#46039f"
             ],
             [
              0.2222222222222222,
              "#7201a8"
             ],
             [
              0.3333333333333333,
              "#9c179e"
             ],
             [
              0.4444444444444444,
              "#bd3786"
             ],
             [
              0.5555555555555556,
              "#d8576b"
             ],
             [
              0.6666666666666666,
              "#ed7953"
             ],
             [
              0.7777777777777778,
              "#fb9f3a"
             ],
             [
              0.8888888888888888,
              "#fdca26"
             ],
             [
              1,
              "#f0f921"
             ]
            ],
            "type": "histogram2d"
           }
          ],
          "histogram2dcontour": [
           {
            "colorbar": {
             "outlinewidth": 0,
             "ticks": ""
            },
            "colorscale": [
             [
              0,
              "#0d0887"
             ],
             [
              0.1111111111111111,
              "#46039f"
             ],
             [
              0.2222222222222222,
              "#7201a8"
             ],
             [
              0.3333333333333333,
              "#9c179e"
             ],
             [
              0.4444444444444444,
              "#bd3786"
             ],
             [
              0.5555555555555556,
              "#d8576b"
             ],
             [
              0.6666666666666666,
              "#ed7953"
             ],
             [
              0.7777777777777778,
              "#fb9f3a"
             ],
             [
              0.8888888888888888,
              "#fdca26"
             ],
             [
              1,
              "#f0f921"
             ]
            ],
            "type": "histogram2dcontour"
           }
          ],
          "mesh3d": [
           {
            "colorbar": {
             "outlinewidth": 0,
             "ticks": ""
            },
            "type": "mesh3d"
           }
          ],
          "parcoords": [
           {
            "line": {
             "colorbar": {
              "outlinewidth": 0,
              "ticks": ""
             }
            },
            "type": "parcoords"
           }
          ],
          "pie": [
           {
            "automargin": true,
            "type": "pie"
           }
          ],
          "scatter": [
           {
            "fillpattern": {
             "fillmode": "overlay",
             "size": 10,
             "solidity": 0.2
            },
            "type": "scatter"
           }
          ],
          "scatter3d": [
           {
            "line": {
             "colorbar": {
              "outlinewidth": 0,
              "ticks": ""
             }
            },
            "marker": {
             "colorbar": {
              "outlinewidth": 0,
              "ticks": ""
             }
            },
            "type": "scatter3d"
           }
          ],
          "scattercarpet": [
           {
            "marker": {
             "colorbar": {
              "outlinewidth": 0,
              "ticks": ""
             }
            },
            "type": "scattercarpet"
           }
          ],
          "scattergeo": [
           {
            "marker": {
             "colorbar": {
              "outlinewidth": 0,
              "ticks": ""
             }
            },
            "type": "scattergeo"
           }
          ],
          "scattergl": [
           {
            "marker": {
             "colorbar": {
              "outlinewidth": 0,
              "ticks": ""
             }
            },
            "type": "scattergl"
           }
          ],
          "scattermapbox": [
           {
            "marker": {
             "colorbar": {
              "outlinewidth": 0,
              "ticks": ""
             }
            },
            "type": "scattermapbox"
           }
          ],
          "scatterpolar": [
           {
            "marker": {
             "colorbar": {
              "outlinewidth": 0,
              "ticks": ""
             }
            },
            "type": "scatterpolar"
           }
          ],
          "scatterpolargl": [
           {
            "marker": {
             "colorbar": {
              "outlinewidth": 0,
              "ticks": ""
             }
            },
            "type": "scatterpolargl"
           }
          ],
          "scatterternary": [
           {
            "marker": {
             "colorbar": {
              "outlinewidth": 0,
              "ticks": ""
             }
            },
            "type": "scatterternary"
           }
          ],
          "surface": [
           {
            "colorbar": {
             "outlinewidth": 0,
             "ticks": ""
            },
            "colorscale": [
             [
              0,
              "#0d0887"
             ],
             [
              0.1111111111111111,
              "#46039f"
             ],
             [
              0.2222222222222222,
              "#7201a8"
             ],
             [
              0.3333333333333333,
              "#9c179e"
             ],
             [
              0.4444444444444444,
              "#bd3786"
             ],
             [
              0.5555555555555556,
              "#d8576b"
             ],
             [
              0.6666666666666666,
              "#ed7953"
             ],
             [
              0.7777777777777778,
              "#fb9f3a"
             ],
             [
              0.8888888888888888,
              "#fdca26"
             ],
             [
              1,
              "#f0f921"
             ]
            ],
            "type": "surface"
           }
          ],
          "table": [
           {
            "cells": {
             "fill": {
              "color": "#EBF0F8"
             },
             "line": {
              "color": "white"
             }
            },
            "header": {
             "fill": {
              "color": "#C8D4E3"
             },
             "line": {
              "color": "white"
             }
            },
            "type": "table"
           }
          ]
         },
         "layout": {
          "annotationdefaults": {
           "arrowcolor": "#2a3f5f",
           "arrowhead": 0,
           "arrowwidth": 1
          },
          "autotypenumbers": "strict",
          "coloraxis": {
           "colorbar": {
            "outlinewidth": 0,
            "ticks": ""
           }
          },
          "colorscale": {
           "diverging": [
            [
             0,
             "#8e0152"
            ],
            [
             0.1,
             "#c51b7d"
            ],
            [
             0.2,
             "#de77ae"
            ],
            [
             0.3,
             "#f1b6da"
            ],
            [
             0.4,
             "#fde0ef"
            ],
            [
             0.5,
             "#f7f7f7"
            ],
            [
             0.6,
             "#e6f5d0"
            ],
            [
             0.7,
             "#b8e186"
            ],
            [
             0.8,
             "#7fbc41"
            ],
            [
             0.9,
             "#4d9221"
            ],
            [
             1,
             "#276419"
            ]
           ],
           "sequential": [
            [
             0,
             "#0d0887"
            ],
            [
             0.1111111111111111,
             "#46039f"
            ],
            [
             0.2222222222222222,
             "#7201a8"
            ],
            [
             0.3333333333333333,
             "#9c179e"
            ],
            [
             0.4444444444444444,
             "#bd3786"
            ],
            [
             0.5555555555555556,
             "#d8576b"
            ],
            [
             0.6666666666666666,
             "#ed7953"
            ],
            [
             0.7777777777777778,
             "#fb9f3a"
            ],
            [
             0.8888888888888888,
             "#fdca26"
            ],
            [
             1,
             "#f0f921"
            ]
           ],
           "sequentialminus": [
            [
             0,
             "#0d0887"
            ],
            [
             0.1111111111111111,
             "#46039f"
            ],
            [
             0.2222222222222222,
             "#7201a8"
            ],
            [
             0.3333333333333333,
             "#9c179e"
            ],
            [
             0.4444444444444444,
             "#bd3786"
            ],
            [
             0.5555555555555556,
             "#d8576b"
            ],
            [
             0.6666666666666666,
             "#ed7953"
            ],
            [
             0.7777777777777778,
             "#fb9f3a"
            ],
            [
             0.8888888888888888,
             "#fdca26"
            ],
            [
             1,
             "#f0f921"
            ]
           ]
          },
          "colorway": [
           "#636efa",
           "#EF553B",
           "#00cc96",
           "#ab63fa",
           "#FFA15A",
           "#19d3f3",
           "#FF6692",
           "#B6E880",
           "#FF97FF",
           "#FECB52"
          ],
          "font": {
           "color": "#2a3f5f"
          },
          "geo": {
           "bgcolor": "white",
           "lakecolor": "white",
           "landcolor": "#E5ECF6",
           "showlakes": true,
           "showland": true,
           "subunitcolor": "white"
          },
          "hoverlabel": {
           "align": "left"
          },
          "hovermode": "closest",
          "mapbox": {
           "style": "light"
          },
          "paper_bgcolor": "white",
          "plot_bgcolor": "#E5ECF6",
          "polar": {
           "angularaxis": {
            "gridcolor": "white",
            "linecolor": "white",
            "ticks": ""
           },
           "bgcolor": "#E5ECF6",
           "radialaxis": {
            "gridcolor": "white",
            "linecolor": "white",
            "ticks": ""
           }
          },
          "scene": {
           "xaxis": {
            "backgroundcolor": "#E5ECF6",
            "gridcolor": "white",
            "gridwidth": 2,
            "linecolor": "white",
            "showbackground": true,
            "ticks": "",
            "zerolinecolor": "white"
           },
           "yaxis": {
            "backgroundcolor": "#E5ECF6",
            "gridcolor": "white",
            "gridwidth": 2,
            "linecolor": "white",
            "showbackground": true,
            "ticks": "",
            "zerolinecolor": "white"
           },
           "zaxis": {
            "backgroundcolor": "#E5ECF6",
            "gridcolor": "white",
            "gridwidth": 2,
            "linecolor": "white",
            "showbackground": true,
            "ticks": "",
            "zerolinecolor": "white"
           }
          },
          "shapedefaults": {
           "line": {
            "color": "#2a3f5f"
           }
          },
          "ternary": {
           "aaxis": {
            "gridcolor": "white",
            "linecolor": "white",
            "ticks": ""
           },
           "baxis": {
            "gridcolor": "white",
            "linecolor": "white",
            "ticks": ""
           },
           "bgcolor": "#E5ECF6",
           "caxis": {
            "gridcolor": "white",
            "linecolor": "white",
            "ticks": ""
           }
          },
          "title": {
           "x": 0.05
          },
          "xaxis": {
           "automargin": true,
           "gridcolor": "white",
           "linecolor": "white",
           "ticks": "",
           "title": {
            "standoff": 15
           },
           "zerolinecolor": "white",
           "zerolinewidth": 2
          },
          "yaxis": {
           "automargin": true,
           "gridcolor": "white",
           "linecolor": "white",
           "ticks": "",
           "title": {
            "standoff": 15
           },
           "zerolinecolor": "white",
           "zerolinewidth": 2
          }
         }
        },
        "xaxis": {
         "anchor": "y",
         "domain": [
          0,
          1
         ],
         "title": {
          "text": "papel"
         }
        },
        "yaxis": {
         "anchor": "x",
         "domain": [
          0,
          1
         ],
         "title": {
          "text": "p/vp"
         }
        }
       }
      },
      "text/html": [
       "<div>                            <div id=\"d8b4ad39-77f1-4573-bad5-889df9222167\" class=\"plotly-graph-div\" style=\"height:525px; width:100%;\"></div>            <script type=\"text/javascript\">                require([\"plotly\"], function(Plotly) {                    window.PLOTLYENV=window.PLOTLYENV || {};                                    if (document.getElementById(\"d8b4ad39-77f1-4573-bad5-889df9222167\")) {                    Plotly.newPlot(                        \"d8b4ad39-77f1-4573-bad5-889df9222167\",                        [{\"alignmentgroup\":\"True\",\"hovertemplate\":\"papel=%{x}<br>p/vp=%{y}<extra></extra>\",\"legendgroup\":\"\",\"marker\":{\"color\":\"#636efa\",\"pattern\":{\"shape\":\"\"}},\"name\":\"\",\"offsetgroup\":\"\",\"orientation\":\"v\",\"showlegend\":false,\"textposition\":\"auto\",\"x\":[\"SYNE3\",\"DESK3\",\"BALM3\",\"PETR4\",\"AGRO3\",\"BMOB3\",\"ITSA3\",\"AURA33\",\"SOND5\",\"CSUD3\"],\"xaxis\":\"x\",\"y\":[0.42,0.79,0.8,0.84,1.18,1.18,1.18,1.25,1.32,1.35],\"yaxis\":\"y\",\"type\":\"bar\"}],                        {\"template\":{\"data\":{\"histogram2dcontour\":[{\"type\":\"histogram2dcontour\",\"colorbar\":{\"outlinewidth\":0,\"ticks\":\"\"},\"colorscale\":[[0.0,\"#0d0887\"],[0.1111111111111111,\"#46039f\"],[0.2222222222222222,\"#7201a8\"],[0.3333333333333333,\"#9c179e\"],[0.4444444444444444,\"#bd3786\"],[0.5555555555555556,\"#d8576b\"],[0.6666666666666666,\"#ed7953\"],[0.7777777777777778,\"#fb9f3a\"],[0.8888888888888888,\"#fdca26\"],[1.0,\"#f0f921\"]]}],\"choropleth\":[{\"type\":\"choropleth\",\"colorbar\":{\"outlinewidth\":0,\"ticks\":\"\"}}],\"histogram2d\":[{\"type\":\"histogram2d\",\"colorbar\":{\"outlinewidth\":0,\"ticks\":\"\"},\"colorscale\":[[0.0,\"#0d0887\"],[0.1111111111111111,\"#46039f\"],[0.2222222222222222,\"#7201a8\"],[0.3333333333333333,\"#9c179e\"],[0.4444444444444444,\"#bd3786\"],[0.5555555555555556,\"#d8576b\"],[0.6666666666666666,\"#ed7953\"],[0.7777777777777778,\"#fb9f3a\"],[0.8888888888888888,\"#fdca26\"],[1.0,\"#f0f921\"]]}],\"heatmap\":[{\"type\":\"heatmap\",\"colorbar\":{\"outlinewidth\":0,\"ticks\":\"\"},\"colorscale\":[[0.0,\"#0d0887\"],[0.1111111111111111,\"#46039f\"],[0.2222222222222222,\"#7201a8\"],[0.3333333333333333,\"#9c179e\"],[0.4444444444444444,\"#bd3786\"],[0.5555555555555556,\"#d8576b\"],[0.6666666666666666,\"#ed7953\"],[0.7777777777777778,\"#fb9f3a\"],[0.8888888888888888,\"#fdca26\"],[1.0,\"#f0f921\"]]}],\"heatmapgl\":[{\"type\":\"heatmapgl\",\"colorbar\":{\"outlinewidth\":0,\"ticks\":\"\"},\"colorscale\":[[0.0,\"#0d0887\"],[0.1111111111111111,\"#46039f\"],[0.2222222222222222,\"#7201a8\"],[0.3333333333333333,\"#9c179e\"],[0.4444444444444444,\"#bd3786\"],[0.5555555555555556,\"#d8576b\"],[0.6666666666666666,\"#ed7953\"],[0.7777777777777778,\"#fb9f3a\"],[0.8888888888888888,\"#fdca26\"],[1.0,\"#f0f921\"]]}],\"contourcarpet\":[{\"type\":\"contourcarpet\",\"colorbar\":{\"outlinewidth\":0,\"ticks\":\"\"}}],\"contour\":[{\"type\":\"contour\",\"colorbar\":{\"outlinewidth\":0,\"ticks\":\"\"},\"colorscale\":[[0.0,\"#0d0887\"],[0.1111111111111111,\"#46039f\"],[0.2222222222222222,\"#7201a8\"],[0.3333333333333333,\"#9c179e\"],[0.4444444444444444,\"#bd3786\"],[0.5555555555555556,\"#d8576b\"],[0.6666666666666666,\"#ed7953\"],[0.7777777777777778,\"#fb9f3a\"],[0.8888888888888888,\"#fdca26\"],[1.0,\"#f0f921\"]]}],\"surface\":[{\"type\":\"surface\",\"colorbar\":{\"outlinewidth\":0,\"ticks\":\"\"},\"colorscale\":[[0.0,\"#0d0887\"],[0.1111111111111111,\"#46039f\"],[0.2222222222222222,\"#7201a8\"],[0.3333333333333333,\"#9c179e\"],[0.4444444444444444,\"#bd3786\"],[0.5555555555555556,\"#d8576b\"],[0.6666666666666666,\"#ed7953\"],[0.7777777777777778,\"#fb9f3a\"],[0.8888888888888888,\"#fdca26\"],[1.0,\"#f0f921\"]]}],\"mesh3d\":[{\"type\":\"mesh3d\",\"colorbar\":{\"outlinewidth\":0,\"ticks\":\"\"}}],\"scatter\":[{\"fillpattern\":{\"fillmode\":\"overlay\",\"size\":10,\"solidity\":0.2},\"type\":\"scatter\"}],\"parcoords\":[{\"type\":\"parcoords\",\"line\":{\"colorbar\":{\"outlinewidth\":0,\"ticks\":\"\"}}}],\"scatterpolargl\":[{\"type\":\"scatterpolargl\",\"marker\":{\"colorbar\":{\"outlinewidth\":0,\"ticks\":\"\"}}}],\"bar\":[{\"error_x\":{\"color\":\"#2a3f5f\"},\"error_y\":{\"color\":\"#2a3f5f\"},\"marker\":{\"line\":{\"color\":\"#E5ECF6\",\"width\":0.5},\"pattern\":{\"fillmode\":\"overlay\",\"size\":10,\"solidity\":0.2}},\"type\":\"bar\"}],\"scattergeo\":[{\"type\":\"scattergeo\",\"marker\":{\"colorbar\":{\"outlinewidth\":0,\"ticks\":\"\"}}}],\"scatterpolar\":[{\"type\":\"scatterpolar\",\"marker\":{\"colorbar\":{\"outlinewidth\":0,\"ticks\":\"\"}}}],\"histogram\":[{\"marker\":{\"pattern\":{\"fillmode\":\"overlay\",\"size\":10,\"solidity\":0.2}},\"type\":\"histogram\"}],\"scattergl\":[{\"type\":\"scattergl\",\"marker\":{\"colorbar\":{\"outlinewidth\":0,\"ticks\":\"\"}}}],\"scatter3d\":[{\"type\":\"scatter3d\",\"line\":{\"colorbar\":{\"outlinewidth\":0,\"ticks\":\"\"}},\"marker\":{\"colorbar\":{\"outlinewidth\":0,\"ticks\":\"\"}}}],\"scattermapbox\":[{\"type\":\"scattermapbox\",\"marker\":{\"colorbar\":{\"outlinewidth\":0,\"ticks\":\"\"}}}],\"scatterternary\":[{\"type\":\"scatterternary\",\"marker\":{\"colorbar\":{\"outlinewidth\":0,\"ticks\":\"\"}}}],\"scattercarpet\":[{\"type\":\"scattercarpet\",\"marker\":{\"colorbar\":{\"outlinewidth\":0,\"ticks\":\"\"}}}],\"carpet\":[{\"aaxis\":{\"endlinecolor\":\"#2a3f5f\",\"gridcolor\":\"white\",\"linecolor\":\"white\",\"minorgridcolor\":\"white\",\"startlinecolor\":\"#2a3f5f\"},\"baxis\":{\"endlinecolor\":\"#2a3f5f\",\"gridcolor\":\"white\",\"linecolor\":\"white\",\"minorgridcolor\":\"white\",\"startlinecolor\":\"#2a3f5f\"},\"type\":\"carpet\"}],\"table\":[{\"cells\":{\"fill\":{\"color\":\"#EBF0F8\"},\"line\":{\"color\":\"white\"}},\"header\":{\"fill\":{\"color\":\"#C8D4E3\"},\"line\":{\"color\":\"white\"}},\"type\":\"table\"}],\"barpolar\":[{\"marker\":{\"line\":{\"color\":\"#E5ECF6\",\"width\":0.5},\"pattern\":{\"fillmode\":\"overlay\",\"size\":10,\"solidity\":0.2}},\"type\":\"barpolar\"}],\"pie\":[{\"automargin\":true,\"type\":\"pie\"}]},\"layout\":{\"autotypenumbers\":\"strict\",\"colorway\":[\"#636efa\",\"#EF553B\",\"#00cc96\",\"#ab63fa\",\"#FFA15A\",\"#19d3f3\",\"#FF6692\",\"#B6E880\",\"#FF97FF\",\"#FECB52\"],\"font\":{\"color\":\"#2a3f5f\"},\"hovermode\":\"closest\",\"hoverlabel\":{\"align\":\"left\"},\"paper_bgcolor\":\"white\",\"plot_bgcolor\":\"#E5ECF6\",\"polar\":{\"bgcolor\":\"#E5ECF6\",\"angularaxis\":{\"gridcolor\":\"white\",\"linecolor\":\"white\",\"ticks\":\"\"},\"radialaxis\":{\"gridcolor\":\"white\",\"linecolor\":\"white\",\"ticks\":\"\"}},\"ternary\":{\"bgcolor\":\"#E5ECF6\",\"aaxis\":{\"gridcolor\":\"white\",\"linecolor\":\"white\",\"ticks\":\"\"},\"baxis\":{\"gridcolor\":\"white\",\"linecolor\":\"white\",\"ticks\":\"\"},\"caxis\":{\"gridcolor\":\"white\",\"linecolor\":\"white\",\"ticks\":\"\"}},\"coloraxis\":{\"colorbar\":{\"outlinewidth\":0,\"ticks\":\"\"}},\"colorscale\":{\"sequential\":[[0.0,\"#0d0887\"],[0.1111111111111111,\"#46039f\"],[0.2222222222222222,\"#7201a8\"],[0.3333333333333333,\"#9c179e\"],[0.4444444444444444,\"#bd3786\"],[0.5555555555555556,\"#d8576b\"],[0.6666666666666666,\"#ed7953\"],[0.7777777777777778,\"#fb9f3a\"],[0.8888888888888888,\"#fdca26\"],[1.0,\"#f0f921\"]],\"sequentialminus\":[[0.0,\"#0d0887\"],[0.1111111111111111,\"#46039f\"],[0.2222222222222222,\"#7201a8\"],[0.3333333333333333,\"#9c179e\"],[0.4444444444444444,\"#bd3786\"],[0.5555555555555556,\"#d8576b\"],[0.6666666666666666,\"#ed7953\"],[0.7777777777777778,\"#fb9f3a\"],[0.8888888888888888,\"#fdca26\"],[1.0,\"#f0f921\"]],\"diverging\":[[0,\"#8e0152\"],[0.1,\"#c51b7d\"],[0.2,\"#de77ae\"],[0.3,\"#f1b6da\"],[0.4,\"#fde0ef\"],[0.5,\"#f7f7f7\"],[0.6,\"#e6f5d0\"],[0.7,\"#b8e186\"],[0.8,\"#7fbc41\"],[0.9,\"#4d9221\"],[1,\"#276419\"]]},\"xaxis\":{\"gridcolor\":\"white\",\"linecolor\":\"white\",\"ticks\":\"\",\"title\":{\"standoff\":15},\"zerolinecolor\":\"white\",\"automargin\":true,\"zerolinewidth\":2},\"yaxis\":{\"gridcolor\":\"white\",\"linecolor\":\"white\",\"ticks\":\"\",\"title\":{\"standoff\":15},\"zerolinecolor\":\"white\",\"automargin\":true,\"zerolinewidth\":2},\"scene\":{\"xaxis\":{\"backgroundcolor\":\"#E5ECF6\",\"gridcolor\":\"white\",\"linecolor\":\"white\",\"showbackground\":true,\"ticks\":\"\",\"zerolinecolor\":\"white\",\"gridwidth\":2},\"yaxis\":{\"backgroundcolor\":\"#E5ECF6\",\"gridcolor\":\"white\",\"linecolor\":\"white\",\"showbackground\":true,\"ticks\":\"\",\"zerolinecolor\":\"white\",\"gridwidth\":2},\"zaxis\":{\"backgroundcolor\":\"#E5ECF6\",\"gridcolor\":\"white\",\"linecolor\":\"white\",\"showbackground\":true,\"ticks\":\"\",\"zerolinecolor\":\"white\",\"gridwidth\":2}},\"shapedefaults\":{\"line\":{\"color\":\"#2a3f5f\"}},\"annotationdefaults\":{\"arrowcolor\":\"#2a3f5f\",\"arrowhead\":0,\"arrowwidth\":1},\"geo\":{\"bgcolor\":\"white\",\"landcolor\":\"#E5ECF6\",\"subunitcolor\":\"white\",\"showland\":true,\"showlakes\":true,\"lakecolor\":\"white\"},\"title\":{\"x\":0.05},\"mapbox\":{\"style\":\"light\"}}},\"xaxis\":{\"anchor\":\"y\",\"domain\":[0.0,1.0],\"title\":{\"text\":\"papel\"}},\"yaxis\":{\"anchor\":\"x\",\"domain\":[0.0,1.0],\"title\":{\"text\":\"p/vp\"}},\"legend\":{\"tracegroupgap\":0},\"margin\":{\"t\":60},\"barmode\":\"relative\"},                        {\"responsive\": true}                    ).then(function(){\n",
       "                            \n",
       "var gd = document.getElementById('d8b4ad39-77f1-4573-bad5-889df9222167');\n",
       "var x = new MutationObserver(function (mutations, observer) {{\n",
       "        var display = window.getComputedStyle(gd).display;\n",
       "        if (!display || display === 'none') {{\n",
       "            console.log([gd, 'removed!']);\n",
       "            Plotly.purge(gd);\n",
       "            observer.disconnect();\n",
       "        }}\n",
       "}});\n",
       "\n",
       "// Listen for the removal of the full notebook cells\n",
       "var notebookContainer = gd.closest('#notebook-container');\n",
       "if (notebookContainer) {{\n",
       "    x.observe(notebookContainer, {childList: true});\n",
       "}}\n",
       "\n",
       "// Listen for the clearing of the current output cell\n",
       "var outputEl = gd.closest('.output');\n",
       "if (outputEl) {{\n",
       "    x.observe(outputEl, {childList: true});\n",
       "}}\n",
       "\n",
       "                        })                };                });            </script>        </div>"
      ]
     },
     "metadata": {},
     "output_type": "display_data"
    }
   ],
   "source": [
    "# grafico menores PVP\n",
    "aux = df_final.sort_values('p/vp').reset_index().rename( columns= {'index': 'papel'}).head(10)\n",
    "px.bar( aux, x= 'papel', y= 'p/vp')"
   ]
  },
  {
   "cell_type": "code",
   "execution_count": 123,
   "id": "583692c4",
   "metadata": {
    "ExecuteTime": {
     "end_time": "2023-03-30T11:05:51.779809Z",
     "start_time": "2023-03-30T11:05:51.717973Z"
    }
   },
   "outputs": [
    {
     "data": {
      "application/vnd.plotly.v1+json": {
       "config": {
        "plotlyServerURL": "https://plot.ly"
       },
       "data": [
        {
         "alignmentgroup": "True",
         "hovertemplate": "papel=%{x}<br>div.yield=%{y}<extra></extra>",
         "legendgroup": "",
         "marker": {
          "color": "#636efa",
          "pattern": {
           "shape": ""
          }
         },
         "name": "",
         "offsetgroup": "",
         "orientation": "v",
         "showlegend": false,
         "textposition": "auto",
         "type": "bar",
         "x": [
          "DESK3",
          "SYNE3",
          "PETR4",
          "GPAR3",
          "SOND5",
          "AGRO3",
          "LEVE3",
          "STBP3",
          "SIMH3",
          "CSUD3"
         ],
         "xaxis": "x",
         "y": [
          5.292999999999999,
          2.0358,
          0.7001000000000001,
          0.3479,
          0.2126,
          0.201,
          0.1492,
          0.1412,
          0.09789999999999999,
          0.07440000000000001
         ],
         "yaxis": "y"
        }
       ],
       "layout": {
        "barmode": "relative",
        "legend": {
         "tracegroupgap": 0
        },
        "margin": {
         "t": 60
        },
        "template": {
         "data": {
          "bar": [
           {
            "error_x": {
             "color": "#2a3f5f"
            },
            "error_y": {
             "color": "#2a3f5f"
            },
            "marker": {
             "line": {
              "color": "#E5ECF6",
              "width": 0.5
             },
             "pattern": {
              "fillmode": "overlay",
              "size": 10,
              "solidity": 0.2
             }
            },
            "type": "bar"
           }
          ],
          "barpolar": [
           {
            "marker": {
             "line": {
              "color": "#E5ECF6",
              "width": 0.5
             },
             "pattern": {
              "fillmode": "overlay",
              "size": 10,
              "solidity": 0.2
             }
            },
            "type": "barpolar"
           }
          ],
          "carpet": [
           {
            "aaxis": {
             "endlinecolor": "#2a3f5f",
             "gridcolor": "white",
             "linecolor": "white",
             "minorgridcolor": "white",
             "startlinecolor": "#2a3f5f"
            },
            "baxis": {
             "endlinecolor": "#2a3f5f",
             "gridcolor": "white",
             "linecolor": "white",
             "minorgridcolor": "white",
             "startlinecolor": "#2a3f5f"
            },
            "type": "carpet"
           }
          ],
          "choropleth": [
           {
            "colorbar": {
             "outlinewidth": 0,
             "ticks": ""
            },
            "type": "choropleth"
           }
          ],
          "contour": [
           {
            "colorbar": {
             "outlinewidth": 0,
             "ticks": ""
            },
            "colorscale": [
             [
              0,
              "#0d0887"
             ],
             [
              0.1111111111111111,
              "#46039f"
             ],
             [
              0.2222222222222222,
              "#7201a8"
             ],
             [
              0.3333333333333333,
              "#9c179e"
             ],
             [
              0.4444444444444444,
              "#bd3786"
             ],
             [
              0.5555555555555556,
              "#d8576b"
             ],
             [
              0.6666666666666666,
              "#ed7953"
             ],
             [
              0.7777777777777778,
              "#fb9f3a"
             ],
             [
              0.8888888888888888,
              "#fdca26"
             ],
             [
              1,
              "#f0f921"
             ]
            ],
            "type": "contour"
           }
          ],
          "contourcarpet": [
           {
            "colorbar": {
             "outlinewidth": 0,
             "ticks": ""
            },
            "type": "contourcarpet"
           }
          ],
          "heatmap": [
           {
            "colorbar": {
             "outlinewidth": 0,
             "ticks": ""
            },
            "colorscale": [
             [
              0,
              "#0d0887"
             ],
             [
              0.1111111111111111,
              "#46039f"
             ],
             [
              0.2222222222222222,
              "#7201a8"
             ],
             [
              0.3333333333333333,
              "#9c179e"
             ],
             [
              0.4444444444444444,
              "#bd3786"
             ],
             [
              0.5555555555555556,
              "#d8576b"
             ],
             [
              0.6666666666666666,
              "#ed7953"
             ],
             [
              0.7777777777777778,
              "#fb9f3a"
             ],
             [
              0.8888888888888888,
              "#fdca26"
             ],
             [
              1,
              "#f0f921"
             ]
            ],
            "type": "heatmap"
           }
          ],
          "heatmapgl": [
           {
            "colorbar": {
             "outlinewidth": 0,
             "ticks": ""
            },
            "colorscale": [
             [
              0,
              "#0d0887"
             ],
             [
              0.1111111111111111,
              "#46039f"
             ],
             [
              0.2222222222222222,
              "#7201a8"
             ],
             [
              0.3333333333333333,
              "#9c179e"
             ],
             [
              0.4444444444444444,
              "#bd3786"
             ],
             [
              0.5555555555555556,
              "#d8576b"
             ],
             [
              0.6666666666666666,
              "#ed7953"
             ],
             [
              0.7777777777777778,
              "#fb9f3a"
             ],
             [
              0.8888888888888888,
              "#fdca26"
             ],
             [
              1,
              "#f0f921"
             ]
            ],
            "type": "heatmapgl"
           }
          ],
          "histogram": [
           {
            "marker": {
             "pattern": {
              "fillmode": "overlay",
              "size": 10,
              "solidity": 0.2
             }
            },
            "type": "histogram"
           }
          ],
          "histogram2d": [
           {
            "colorbar": {
             "outlinewidth": 0,
             "ticks": ""
            },
            "colorscale": [
             [
              0,
              "#0d0887"
             ],
             [
              0.1111111111111111,
              "#46039f"
             ],
             [
              0.2222222222222222,
              "#7201a8"
             ],
             [
              0.3333333333333333,
              "#9c179e"
             ],
             [
              0.4444444444444444,
              "#bd3786"
             ],
             [
              0.5555555555555556,
              "#d8576b"
             ],
             [
              0.6666666666666666,
              "#ed7953"
             ],
             [
              0.7777777777777778,
              "#fb9f3a"
             ],
             [
              0.8888888888888888,
              "#fdca26"
             ],
             [
              1,
              "#f0f921"
             ]
            ],
            "type": "histogram2d"
           }
          ],
          "histogram2dcontour": [
           {
            "colorbar": {
             "outlinewidth": 0,
             "ticks": ""
            },
            "colorscale": [
             [
              0,
              "#0d0887"
             ],
             [
              0.1111111111111111,
              "#46039f"
             ],
             [
              0.2222222222222222,
              "#7201a8"
             ],
             [
              0.3333333333333333,
              "#9c179e"
             ],
             [
              0.4444444444444444,
              "#bd3786"
             ],
             [
              0.5555555555555556,
              "#d8576b"
             ],
             [
              0.6666666666666666,
              "#ed7953"
             ],
             [
              0.7777777777777778,
              "#fb9f3a"
             ],
             [
              0.8888888888888888,
              "#fdca26"
             ],
             [
              1,
              "#f0f921"
             ]
            ],
            "type": "histogram2dcontour"
           }
          ],
          "mesh3d": [
           {
            "colorbar": {
             "outlinewidth": 0,
             "ticks": ""
            },
            "type": "mesh3d"
           }
          ],
          "parcoords": [
           {
            "line": {
             "colorbar": {
              "outlinewidth": 0,
              "ticks": ""
             }
            },
            "type": "parcoords"
           }
          ],
          "pie": [
           {
            "automargin": true,
            "type": "pie"
           }
          ],
          "scatter": [
           {
            "fillpattern": {
             "fillmode": "overlay",
             "size": 10,
             "solidity": 0.2
            },
            "type": "scatter"
           }
          ],
          "scatter3d": [
           {
            "line": {
             "colorbar": {
              "outlinewidth": 0,
              "ticks": ""
             }
            },
            "marker": {
             "colorbar": {
              "outlinewidth": 0,
              "ticks": ""
             }
            },
            "type": "scatter3d"
           }
          ],
          "scattercarpet": [
           {
            "marker": {
             "colorbar": {
              "outlinewidth": 0,
              "ticks": ""
             }
            },
            "type": "scattercarpet"
           }
          ],
          "scattergeo": [
           {
            "marker": {
             "colorbar": {
              "outlinewidth": 0,
              "ticks": ""
             }
            },
            "type": "scattergeo"
           }
          ],
          "scattergl": [
           {
            "marker": {
             "colorbar": {
              "outlinewidth": 0,
              "ticks": ""
             }
            },
            "type": "scattergl"
           }
          ],
          "scattermapbox": [
           {
            "marker": {
             "colorbar": {
              "outlinewidth": 0,
              "ticks": ""
             }
            },
            "type": "scattermapbox"
           }
          ],
          "scatterpolar": [
           {
            "marker": {
             "colorbar": {
              "outlinewidth": 0,
              "ticks": ""
             }
            },
            "type": "scatterpolar"
           }
          ],
          "scatterpolargl": [
           {
            "marker": {
             "colorbar": {
              "outlinewidth": 0,
              "ticks": ""
             }
            },
            "type": "scatterpolargl"
           }
          ],
          "scatterternary": [
           {
            "marker": {
             "colorbar": {
              "outlinewidth": 0,
              "ticks": ""
             }
            },
            "type": "scatterternary"
           }
          ],
          "surface": [
           {
            "colorbar": {
             "outlinewidth": 0,
             "ticks": ""
            },
            "colorscale": [
             [
              0,
              "#0d0887"
             ],
             [
              0.1111111111111111,
              "#46039f"
             ],
             [
              0.2222222222222222,
              "#7201a8"
             ],
             [
              0.3333333333333333,
              "#9c179e"
             ],
             [
              0.4444444444444444,
              "#bd3786"
             ],
             [
              0.5555555555555556,
              "#d8576b"
             ],
             [
              0.6666666666666666,
              "#ed7953"
             ],
             [
              0.7777777777777778,
              "#fb9f3a"
             ],
             [
              0.8888888888888888,
              "#fdca26"
             ],
             [
              1,
              "#f0f921"
             ]
            ],
            "type": "surface"
           }
          ],
          "table": [
           {
            "cells": {
             "fill": {
              "color": "#EBF0F8"
             },
             "line": {
              "color": "white"
             }
            },
            "header": {
             "fill": {
              "color": "#C8D4E3"
             },
             "line": {
              "color": "white"
             }
            },
            "type": "table"
           }
          ]
         },
         "layout": {
          "annotationdefaults": {
           "arrowcolor": "#2a3f5f",
           "arrowhead": 0,
           "arrowwidth": 1
          },
          "autotypenumbers": "strict",
          "coloraxis": {
           "colorbar": {
            "outlinewidth": 0,
            "ticks": ""
           }
          },
          "colorscale": {
           "diverging": [
            [
             0,
             "#8e0152"
            ],
            [
             0.1,
             "#c51b7d"
            ],
            [
             0.2,
             "#de77ae"
            ],
            [
             0.3,
             "#f1b6da"
            ],
            [
             0.4,
             "#fde0ef"
            ],
            [
             0.5,
             "#f7f7f7"
            ],
            [
             0.6,
             "#e6f5d0"
            ],
            [
             0.7,
             "#b8e186"
            ],
            [
             0.8,
             "#7fbc41"
            ],
            [
             0.9,
             "#4d9221"
            ],
            [
             1,
             "#276419"
            ]
           ],
           "sequential": [
            [
             0,
             "#0d0887"
            ],
            [
             0.1111111111111111,
             "#46039f"
            ],
            [
             0.2222222222222222,
             "#7201a8"
            ],
            [
             0.3333333333333333,
             "#9c179e"
            ],
            [
             0.4444444444444444,
             "#bd3786"
            ],
            [
             0.5555555555555556,
             "#d8576b"
            ],
            [
             0.6666666666666666,
             "#ed7953"
            ],
            [
             0.7777777777777778,
             "#fb9f3a"
            ],
            [
             0.8888888888888888,
             "#fdca26"
            ],
            [
             1,
             "#f0f921"
            ]
           ],
           "sequentialminus": [
            [
             0,
             "#0d0887"
            ],
            [
             0.1111111111111111,
             "#46039f"
            ],
            [
             0.2222222222222222,
             "#7201a8"
            ],
            [
             0.3333333333333333,
             "#9c179e"
            ],
            [
             0.4444444444444444,
             "#bd3786"
            ],
            [
             0.5555555555555556,
             "#d8576b"
            ],
            [
             0.6666666666666666,
             "#ed7953"
            ],
            [
             0.7777777777777778,
             "#fb9f3a"
            ],
            [
             0.8888888888888888,
             "#fdca26"
            ],
            [
             1,
             "#f0f921"
            ]
           ]
          },
          "colorway": [
           "#636efa",
           "#EF553B",
           "#00cc96",
           "#ab63fa",
           "#FFA15A",
           "#19d3f3",
           "#FF6692",
           "#B6E880",
           "#FF97FF",
           "#FECB52"
          ],
          "font": {
           "color": "#2a3f5f"
          },
          "geo": {
           "bgcolor": "white",
           "lakecolor": "white",
           "landcolor": "#E5ECF6",
           "showlakes": true,
           "showland": true,
           "subunitcolor": "white"
          },
          "hoverlabel": {
           "align": "left"
          },
          "hovermode": "closest",
          "mapbox": {
           "style": "light"
          },
          "paper_bgcolor": "white",
          "plot_bgcolor": "#E5ECF6",
          "polar": {
           "angularaxis": {
            "gridcolor": "white",
            "linecolor": "white",
            "ticks": ""
           },
           "bgcolor": "#E5ECF6",
           "radialaxis": {
            "gridcolor": "white",
            "linecolor": "white",
            "ticks": ""
           }
          },
          "scene": {
           "xaxis": {
            "backgroundcolor": "#E5ECF6",
            "gridcolor": "white",
            "gridwidth": 2,
            "linecolor": "white",
            "showbackground": true,
            "ticks": "",
            "zerolinecolor": "white"
           },
           "yaxis": {
            "backgroundcolor": "#E5ECF6",
            "gridcolor": "white",
            "gridwidth": 2,
            "linecolor": "white",
            "showbackground": true,
            "ticks": "",
            "zerolinecolor": "white"
           },
           "zaxis": {
            "backgroundcolor": "#E5ECF6",
            "gridcolor": "white",
            "gridwidth": 2,
            "linecolor": "white",
            "showbackground": true,
            "ticks": "",
            "zerolinecolor": "white"
           }
          },
          "shapedefaults": {
           "line": {
            "color": "#2a3f5f"
           }
          },
          "ternary": {
           "aaxis": {
            "gridcolor": "white",
            "linecolor": "white",
            "ticks": ""
           },
           "baxis": {
            "gridcolor": "white",
            "linecolor": "white",
            "ticks": ""
           },
           "bgcolor": "#E5ECF6",
           "caxis": {
            "gridcolor": "white",
            "linecolor": "white",
            "ticks": ""
           }
          },
          "title": {
           "x": 0.05
          },
          "xaxis": {
           "automargin": true,
           "gridcolor": "white",
           "linecolor": "white",
           "ticks": "",
           "title": {
            "standoff": 15
           },
           "zerolinecolor": "white",
           "zerolinewidth": 2
          },
          "yaxis": {
           "automargin": true,
           "gridcolor": "white",
           "linecolor": "white",
           "ticks": "",
           "title": {
            "standoff": 15
           },
           "zerolinecolor": "white",
           "zerolinewidth": 2
          }
         }
        },
        "xaxis": {
         "anchor": "y",
         "domain": [
          0,
          1
         ],
         "title": {
          "text": "papel"
         }
        },
        "yaxis": {
         "anchor": "x",
         "domain": [
          0,
          1
         ],
         "title": {
          "text": "div.yield"
         }
        }
       }
      },
      "text/html": [
       "<div>                            <div id=\"8718c087-7583-49f8-a453-e694404fa3dc\" class=\"plotly-graph-div\" style=\"height:525px; width:100%;\"></div>            <script type=\"text/javascript\">                require([\"plotly\"], function(Plotly) {                    window.PLOTLYENV=window.PLOTLYENV || {};                                    if (document.getElementById(\"8718c087-7583-49f8-a453-e694404fa3dc\")) {                    Plotly.newPlot(                        \"8718c087-7583-49f8-a453-e694404fa3dc\",                        [{\"alignmentgroup\":\"True\",\"hovertemplate\":\"papel=%{x}<br>div.yield=%{y}<extra></extra>\",\"legendgroup\":\"\",\"marker\":{\"color\":\"#636efa\",\"pattern\":{\"shape\":\"\"}},\"name\":\"\",\"offsetgroup\":\"\",\"orientation\":\"v\",\"showlegend\":false,\"textposition\":\"auto\",\"x\":[\"DESK3\",\"SYNE3\",\"PETR4\",\"GPAR3\",\"SOND5\",\"AGRO3\",\"LEVE3\",\"STBP3\",\"SIMH3\",\"CSUD3\"],\"xaxis\":\"x\",\"y\":[5.292999999999999,2.0358,0.7001000000000001,0.3479,0.2126,0.201,0.1492,0.1412,0.09789999999999999,0.07440000000000001],\"yaxis\":\"y\",\"type\":\"bar\"}],                        {\"template\":{\"data\":{\"histogram2dcontour\":[{\"type\":\"histogram2dcontour\",\"colorbar\":{\"outlinewidth\":0,\"ticks\":\"\"},\"colorscale\":[[0.0,\"#0d0887\"],[0.1111111111111111,\"#46039f\"],[0.2222222222222222,\"#7201a8\"],[0.3333333333333333,\"#9c179e\"],[0.4444444444444444,\"#bd3786\"],[0.5555555555555556,\"#d8576b\"],[0.6666666666666666,\"#ed7953\"],[0.7777777777777778,\"#fb9f3a\"],[0.8888888888888888,\"#fdca26\"],[1.0,\"#f0f921\"]]}],\"choropleth\":[{\"type\":\"choropleth\",\"colorbar\":{\"outlinewidth\":0,\"ticks\":\"\"}}],\"histogram2d\":[{\"type\":\"histogram2d\",\"colorbar\":{\"outlinewidth\":0,\"ticks\":\"\"},\"colorscale\":[[0.0,\"#0d0887\"],[0.1111111111111111,\"#46039f\"],[0.2222222222222222,\"#7201a8\"],[0.3333333333333333,\"#9c179e\"],[0.4444444444444444,\"#bd3786\"],[0.5555555555555556,\"#d8576b\"],[0.6666666666666666,\"#ed7953\"],[0.7777777777777778,\"#fb9f3a\"],[0.8888888888888888,\"#fdca26\"],[1.0,\"#f0f921\"]]}],\"heatmap\":[{\"type\":\"heatmap\",\"colorbar\":{\"outlinewidth\":0,\"ticks\":\"\"},\"colorscale\":[[0.0,\"#0d0887\"],[0.1111111111111111,\"#46039f\"],[0.2222222222222222,\"#7201a8\"],[0.3333333333333333,\"#9c179e\"],[0.4444444444444444,\"#bd3786\"],[0.5555555555555556,\"#d8576b\"],[0.6666666666666666,\"#ed7953\"],[0.7777777777777778,\"#fb9f3a\"],[0.8888888888888888,\"#fdca26\"],[1.0,\"#f0f921\"]]}],\"heatmapgl\":[{\"type\":\"heatmapgl\",\"colorbar\":{\"outlinewidth\":0,\"ticks\":\"\"},\"colorscale\":[[0.0,\"#0d0887\"],[0.1111111111111111,\"#46039f\"],[0.2222222222222222,\"#7201a8\"],[0.3333333333333333,\"#9c179e\"],[0.4444444444444444,\"#bd3786\"],[0.5555555555555556,\"#d8576b\"],[0.6666666666666666,\"#ed7953\"],[0.7777777777777778,\"#fb9f3a\"],[0.8888888888888888,\"#fdca26\"],[1.0,\"#f0f921\"]]}],\"contourcarpet\":[{\"type\":\"contourcarpet\",\"colorbar\":{\"outlinewidth\":0,\"ticks\":\"\"}}],\"contour\":[{\"type\":\"contour\",\"colorbar\":{\"outlinewidth\":0,\"ticks\":\"\"},\"colorscale\":[[0.0,\"#0d0887\"],[0.1111111111111111,\"#46039f\"],[0.2222222222222222,\"#7201a8\"],[0.3333333333333333,\"#9c179e\"],[0.4444444444444444,\"#bd3786\"],[0.5555555555555556,\"#d8576b\"],[0.6666666666666666,\"#ed7953\"],[0.7777777777777778,\"#fb9f3a\"],[0.8888888888888888,\"#fdca26\"],[1.0,\"#f0f921\"]]}],\"surface\":[{\"type\":\"surface\",\"colorbar\":{\"outlinewidth\":0,\"ticks\":\"\"},\"colorscale\":[[0.0,\"#0d0887\"],[0.1111111111111111,\"#46039f\"],[0.2222222222222222,\"#7201a8\"],[0.3333333333333333,\"#9c179e\"],[0.4444444444444444,\"#bd3786\"],[0.5555555555555556,\"#d8576b\"],[0.6666666666666666,\"#ed7953\"],[0.7777777777777778,\"#fb9f3a\"],[0.8888888888888888,\"#fdca26\"],[1.0,\"#f0f921\"]]}],\"mesh3d\":[{\"type\":\"mesh3d\",\"colorbar\":{\"outlinewidth\":0,\"ticks\":\"\"}}],\"scatter\":[{\"fillpattern\":{\"fillmode\":\"overlay\",\"size\":10,\"solidity\":0.2},\"type\":\"scatter\"}],\"parcoords\":[{\"type\":\"parcoords\",\"line\":{\"colorbar\":{\"outlinewidth\":0,\"ticks\":\"\"}}}],\"scatterpolargl\":[{\"type\":\"scatterpolargl\",\"marker\":{\"colorbar\":{\"outlinewidth\":0,\"ticks\":\"\"}}}],\"bar\":[{\"error_x\":{\"color\":\"#2a3f5f\"},\"error_y\":{\"color\":\"#2a3f5f\"},\"marker\":{\"line\":{\"color\":\"#E5ECF6\",\"width\":0.5},\"pattern\":{\"fillmode\":\"overlay\",\"size\":10,\"solidity\":0.2}},\"type\":\"bar\"}],\"scattergeo\":[{\"type\":\"scattergeo\",\"marker\":{\"colorbar\":{\"outlinewidth\":0,\"ticks\":\"\"}}}],\"scatterpolar\":[{\"type\":\"scatterpolar\",\"marker\":{\"colorbar\":{\"outlinewidth\":0,\"ticks\":\"\"}}}],\"histogram\":[{\"marker\":{\"pattern\":{\"fillmode\":\"overlay\",\"size\":10,\"solidity\":0.2}},\"type\":\"histogram\"}],\"scattergl\":[{\"type\":\"scattergl\",\"marker\":{\"colorbar\":{\"outlinewidth\":0,\"ticks\":\"\"}}}],\"scatter3d\":[{\"type\":\"scatter3d\",\"line\":{\"colorbar\":{\"outlinewidth\":0,\"ticks\":\"\"}},\"marker\":{\"colorbar\":{\"outlinewidth\":0,\"ticks\":\"\"}}}],\"scattermapbox\":[{\"type\":\"scattermapbox\",\"marker\":{\"colorbar\":{\"outlinewidth\":0,\"ticks\":\"\"}}}],\"scatterternary\":[{\"type\":\"scatterternary\",\"marker\":{\"colorbar\":{\"outlinewidth\":0,\"ticks\":\"\"}}}],\"scattercarpet\":[{\"type\":\"scattercarpet\",\"marker\":{\"colorbar\":{\"outlinewidth\":0,\"ticks\":\"\"}}}],\"carpet\":[{\"aaxis\":{\"endlinecolor\":\"#2a3f5f\",\"gridcolor\":\"white\",\"linecolor\":\"white\",\"minorgridcolor\":\"white\",\"startlinecolor\":\"#2a3f5f\"},\"baxis\":{\"endlinecolor\":\"#2a3f5f\",\"gridcolor\":\"white\",\"linecolor\":\"white\",\"minorgridcolor\":\"white\",\"startlinecolor\":\"#2a3f5f\"},\"type\":\"carpet\"}],\"table\":[{\"cells\":{\"fill\":{\"color\":\"#EBF0F8\"},\"line\":{\"color\":\"white\"}},\"header\":{\"fill\":{\"color\":\"#C8D4E3\"},\"line\":{\"color\":\"white\"}},\"type\":\"table\"}],\"barpolar\":[{\"marker\":{\"line\":{\"color\":\"#E5ECF6\",\"width\":0.5},\"pattern\":{\"fillmode\":\"overlay\",\"size\":10,\"solidity\":0.2}},\"type\":\"barpolar\"}],\"pie\":[{\"automargin\":true,\"type\":\"pie\"}]},\"layout\":{\"autotypenumbers\":\"strict\",\"colorway\":[\"#636efa\",\"#EF553B\",\"#00cc96\",\"#ab63fa\",\"#FFA15A\",\"#19d3f3\",\"#FF6692\",\"#B6E880\",\"#FF97FF\",\"#FECB52\"],\"font\":{\"color\":\"#2a3f5f\"},\"hovermode\":\"closest\",\"hoverlabel\":{\"align\":\"left\"},\"paper_bgcolor\":\"white\",\"plot_bgcolor\":\"#E5ECF6\",\"polar\":{\"bgcolor\":\"#E5ECF6\",\"angularaxis\":{\"gridcolor\":\"white\",\"linecolor\":\"white\",\"ticks\":\"\"},\"radialaxis\":{\"gridcolor\":\"white\",\"linecolor\":\"white\",\"ticks\":\"\"}},\"ternary\":{\"bgcolor\":\"#E5ECF6\",\"aaxis\":{\"gridcolor\":\"white\",\"linecolor\":\"white\",\"ticks\":\"\"},\"baxis\":{\"gridcolor\":\"white\",\"linecolor\":\"white\",\"ticks\":\"\"},\"caxis\":{\"gridcolor\":\"white\",\"linecolor\":\"white\",\"ticks\":\"\"}},\"coloraxis\":{\"colorbar\":{\"outlinewidth\":0,\"ticks\":\"\"}},\"colorscale\":{\"sequential\":[[0.0,\"#0d0887\"],[0.1111111111111111,\"#46039f\"],[0.2222222222222222,\"#7201a8\"],[0.3333333333333333,\"#9c179e\"],[0.4444444444444444,\"#bd3786\"],[0.5555555555555556,\"#d8576b\"],[0.6666666666666666,\"#ed7953\"],[0.7777777777777778,\"#fb9f3a\"],[0.8888888888888888,\"#fdca26\"],[1.0,\"#f0f921\"]],\"sequentialminus\":[[0.0,\"#0d0887\"],[0.1111111111111111,\"#46039f\"],[0.2222222222222222,\"#7201a8\"],[0.3333333333333333,\"#9c179e\"],[0.4444444444444444,\"#bd3786\"],[0.5555555555555556,\"#d8576b\"],[0.6666666666666666,\"#ed7953\"],[0.7777777777777778,\"#fb9f3a\"],[0.8888888888888888,\"#fdca26\"],[1.0,\"#f0f921\"]],\"diverging\":[[0,\"#8e0152\"],[0.1,\"#c51b7d\"],[0.2,\"#de77ae\"],[0.3,\"#f1b6da\"],[0.4,\"#fde0ef\"],[0.5,\"#f7f7f7\"],[0.6,\"#e6f5d0\"],[0.7,\"#b8e186\"],[0.8,\"#7fbc41\"],[0.9,\"#4d9221\"],[1,\"#276419\"]]},\"xaxis\":{\"gridcolor\":\"white\",\"linecolor\":\"white\",\"ticks\":\"\",\"title\":{\"standoff\":15},\"zerolinecolor\":\"white\",\"automargin\":true,\"zerolinewidth\":2},\"yaxis\":{\"gridcolor\":\"white\",\"linecolor\":\"white\",\"ticks\":\"\",\"title\":{\"standoff\":15},\"zerolinecolor\":\"white\",\"automargin\":true,\"zerolinewidth\":2},\"scene\":{\"xaxis\":{\"backgroundcolor\":\"#E5ECF6\",\"gridcolor\":\"white\",\"linecolor\":\"white\",\"showbackground\":true,\"ticks\":\"\",\"zerolinecolor\":\"white\",\"gridwidth\":2},\"yaxis\":{\"backgroundcolor\":\"#E5ECF6\",\"gridcolor\":\"white\",\"linecolor\":\"white\",\"showbackground\":true,\"ticks\":\"\",\"zerolinecolor\":\"white\",\"gridwidth\":2},\"zaxis\":{\"backgroundcolor\":\"#E5ECF6\",\"gridcolor\":\"white\",\"linecolor\":\"white\",\"showbackground\":true,\"ticks\":\"\",\"zerolinecolor\":\"white\",\"gridwidth\":2}},\"shapedefaults\":{\"line\":{\"color\":\"#2a3f5f\"}},\"annotationdefaults\":{\"arrowcolor\":\"#2a3f5f\",\"arrowhead\":0,\"arrowwidth\":1},\"geo\":{\"bgcolor\":\"white\",\"landcolor\":\"#E5ECF6\",\"subunitcolor\":\"white\",\"showland\":true,\"showlakes\":true,\"lakecolor\":\"white\"},\"title\":{\"x\":0.05},\"mapbox\":{\"style\":\"light\"}}},\"xaxis\":{\"anchor\":\"y\",\"domain\":[0.0,1.0],\"title\":{\"text\":\"papel\"}},\"yaxis\":{\"anchor\":\"x\",\"domain\":[0.0,1.0],\"title\":{\"text\":\"div.yield\"}},\"legend\":{\"tracegroupgap\":0},\"margin\":{\"t\":60},\"barmode\":\"relative\"},                        {\"responsive\": true}                    ).then(function(){\n",
       "                            \n",
       "var gd = document.getElementById('8718c087-7583-49f8-a453-e694404fa3dc');\n",
       "var x = new MutationObserver(function (mutations, observer) {{\n",
       "        var display = window.getComputedStyle(gd).display;\n",
       "        if (!display || display === 'none') {{\n",
       "            console.log([gd, 'removed!']);\n",
       "            Plotly.purge(gd);\n",
       "            observer.disconnect();\n",
       "        }}\n",
       "}});\n",
       "\n",
       "// Listen for the removal of the full notebook cells\n",
       "var notebookContainer = gd.closest('#notebook-container');\n",
       "if (notebookContainer) {{\n",
       "    x.observe(notebookContainer, {childList: true});\n",
       "}}\n",
       "\n",
       "// Listen for the clearing of the current output cell\n",
       "var outputEl = gd.closest('.output');\n",
       "if (outputEl) {{\n",
       "    x.observe(outputEl, {childList: true});\n",
       "}}\n",
       "\n",
       "                        })                };                });            </script>        </div>"
      ]
     },
     "metadata": {},
     "output_type": "display_data"
    }
   ],
   "source": [
    "# grafico maiores Divendo\n",
    "aux = df_final.sort_values('div.yield', ascending= False).reset_index().rename( columns= {'index': 'papel'}).head(10)\n",
    "px.bar( aux, x= 'papel', y= 'div.yield')"
   ]
  },
  {
   "cell_type": "code",
   "execution_count": 122,
   "id": "6beea107",
   "metadata": {
    "ExecuteTime": {
     "end_time": "2023-03-30T11:05:47.561765Z",
     "start_time": "2023-03-30T11:05:47.494945Z"
    }
   },
   "outputs": [
    {
     "data": {
      "application/vnd.plotly.v1+json": {
       "config": {
        "plotlyServerURL": "https://plot.ly"
       },
       "data": [
        {
         "alignmentgroup": "True",
         "hovertemplate": "papel=%{x}<br>cresc. rec.5a=%{y}<extra></extra>",
         "legendgroup": "",
         "marker": {
          "color": "#636efa",
          "pattern": {
           "shape": ""
          }
         },
         "name": "",
         "offsetgroup": "",
         "orientation": "v",
         "showlegend": false,
         "textposition": "auto",
         "type": "bar",
         "x": [
          "BMOB3",
          "ARML3",
          "AMBP3",
          "PDTC3",
          "ASAI3",
          "SIMH3",
          "AURA33",
          "AGRO3",
          "INTB3",
          "SYNE3"
         ],
         "xaxis": "x",
         "y": [
          3.7426999999999997,
          2.6972000000000005,
          1.2466,
          1.0277,
          0.9731000000000001,
          0.6992,
          0.43560000000000004,
          0.39759999999999995,
          0.37520000000000003,
          0.3715
         ],
         "yaxis": "y"
        }
       ],
       "layout": {
        "barmode": "relative",
        "legend": {
         "tracegroupgap": 0
        },
        "margin": {
         "t": 60
        },
        "template": {
         "data": {
          "bar": [
           {
            "error_x": {
             "color": "#2a3f5f"
            },
            "error_y": {
             "color": "#2a3f5f"
            },
            "marker": {
             "line": {
              "color": "#E5ECF6",
              "width": 0.5
             },
             "pattern": {
              "fillmode": "overlay",
              "size": 10,
              "solidity": 0.2
             }
            },
            "type": "bar"
           }
          ],
          "barpolar": [
           {
            "marker": {
             "line": {
              "color": "#E5ECF6",
              "width": 0.5
             },
             "pattern": {
              "fillmode": "overlay",
              "size": 10,
              "solidity": 0.2
             }
            },
            "type": "barpolar"
           }
          ],
          "carpet": [
           {
            "aaxis": {
             "endlinecolor": "#2a3f5f",
             "gridcolor": "white",
             "linecolor": "white",
             "minorgridcolor": "white",
             "startlinecolor": "#2a3f5f"
            },
            "baxis": {
             "endlinecolor": "#2a3f5f",
             "gridcolor": "white",
             "linecolor": "white",
             "minorgridcolor": "white",
             "startlinecolor": "#2a3f5f"
            },
            "type": "carpet"
           }
          ],
          "choropleth": [
           {
            "colorbar": {
             "outlinewidth": 0,
             "ticks": ""
            },
            "type": "choropleth"
           }
          ],
          "contour": [
           {
            "colorbar": {
             "outlinewidth": 0,
             "ticks": ""
            },
            "colorscale": [
             [
              0,
              "#0d0887"
             ],
             [
              0.1111111111111111,
              "#46039f"
             ],
             [
              0.2222222222222222,
              "#7201a8"
             ],
             [
              0.3333333333333333,
              "#9c179e"
             ],
             [
              0.4444444444444444,
              "#bd3786"
             ],
             [
              0.5555555555555556,
              "#d8576b"
             ],
             [
              0.6666666666666666,
              "#ed7953"
             ],
             [
              0.7777777777777778,
              "#fb9f3a"
             ],
             [
              0.8888888888888888,
              "#fdca26"
             ],
             [
              1,
              "#f0f921"
             ]
            ],
            "type": "contour"
           }
          ],
          "contourcarpet": [
           {
            "colorbar": {
             "outlinewidth": 0,
             "ticks": ""
            },
            "type": "contourcarpet"
           }
          ],
          "heatmap": [
           {
            "colorbar": {
             "outlinewidth": 0,
             "ticks": ""
            },
            "colorscale": [
             [
              0,
              "#0d0887"
             ],
             [
              0.1111111111111111,
              "#46039f"
             ],
             [
              0.2222222222222222,
              "#7201a8"
             ],
             [
              0.3333333333333333,
              "#9c179e"
             ],
             [
              0.4444444444444444,
              "#bd3786"
             ],
             [
              0.5555555555555556,
              "#d8576b"
             ],
             [
              0.6666666666666666,
              "#ed7953"
             ],
             [
              0.7777777777777778,
              "#fb9f3a"
             ],
             [
              0.8888888888888888,
              "#fdca26"
             ],
             [
              1,
              "#f0f921"
             ]
            ],
            "type": "heatmap"
           }
          ],
          "heatmapgl": [
           {
            "colorbar": {
             "outlinewidth": 0,
             "ticks": ""
            },
            "colorscale": [
             [
              0,
              "#0d0887"
             ],
             [
              0.1111111111111111,
              "#46039f"
             ],
             [
              0.2222222222222222,
              "#7201a8"
             ],
             [
              0.3333333333333333,
              "#9c179e"
             ],
             [
              0.4444444444444444,
              "#bd3786"
             ],
             [
              0.5555555555555556,
              "#d8576b"
             ],
             [
              0.6666666666666666,
              "#ed7953"
             ],
             [
              0.7777777777777778,
              "#fb9f3a"
             ],
             [
              0.8888888888888888,
              "#fdca26"
             ],
             [
              1,
              "#f0f921"
             ]
            ],
            "type": "heatmapgl"
           }
          ],
          "histogram": [
           {
            "marker": {
             "pattern": {
              "fillmode": "overlay",
              "size": 10,
              "solidity": 0.2
             }
            },
            "type": "histogram"
           }
          ],
          "histogram2d": [
           {
            "colorbar": {
             "outlinewidth": 0,
             "ticks": ""
            },
            "colorscale": [
             [
              0,
              "#0d0887"
             ],
             [
              0.1111111111111111,
              "#46039f"
             ],
             [
              0.2222222222222222,
              "#7201a8"
             ],
             [
              0.3333333333333333,
              "#9c179e"
             ],
             [
              0.4444444444444444,
              "#bd3786"
             ],
             [
              0.5555555555555556,
              "#d8576b"
             ],
             [
              0.6666666666666666,
              "#ed7953"
             ],
             [
              0.7777777777777778,
              "#fb9f3a"
             ],
             [
              0.8888888888888888,
              "#fdca26"
             ],
             [
              1,
              "#f0f921"
             ]
            ],
            "type": "histogram2d"
           }
          ],
          "histogram2dcontour": [
           {
            "colorbar": {
             "outlinewidth": 0,
             "ticks": ""
            },
            "colorscale": [
             [
              0,
              "#0d0887"
             ],
             [
              0.1111111111111111,
              "#46039f"
             ],
             [
              0.2222222222222222,
              "#7201a8"
             ],
             [
              0.3333333333333333,
              "#9c179e"
             ],
             [
              0.4444444444444444,
              "#bd3786"
             ],
             [
              0.5555555555555556,
              "#d8576b"
             ],
             [
              0.6666666666666666,
              "#ed7953"
             ],
             [
              0.7777777777777778,
              "#fb9f3a"
             ],
             [
              0.8888888888888888,
              "#fdca26"
             ],
             [
              1,
              "#f0f921"
             ]
            ],
            "type": "histogram2dcontour"
           }
          ],
          "mesh3d": [
           {
            "colorbar": {
             "outlinewidth": 0,
             "ticks": ""
            },
            "type": "mesh3d"
           }
          ],
          "parcoords": [
           {
            "line": {
             "colorbar": {
              "outlinewidth": 0,
              "ticks": ""
             }
            },
            "type": "parcoords"
           }
          ],
          "pie": [
           {
            "automargin": true,
            "type": "pie"
           }
          ],
          "scatter": [
           {
            "fillpattern": {
             "fillmode": "overlay",
             "size": 10,
             "solidity": 0.2
            },
            "type": "scatter"
           }
          ],
          "scatter3d": [
           {
            "line": {
             "colorbar": {
              "outlinewidth": 0,
              "ticks": ""
             }
            },
            "marker": {
             "colorbar": {
              "outlinewidth": 0,
              "ticks": ""
             }
            },
            "type": "scatter3d"
           }
          ],
          "scattercarpet": [
           {
            "marker": {
             "colorbar": {
              "outlinewidth": 0,
              "ticks": ""
             }
            },
            "type": "scattercarpet"
           }
          ],
          "scattergeo": [
           {
            "marker": {
             "colorbar": {
              "outlinewidth": 0,
              "ticks": ""
             }
            },
            "type": "scattergeo"
           }
          ],
          "scattergl": [
           {
            "marker": {
             "colorbar": {
              "outlinewidth": 0,
              "ticks": ""
             }
            },
            "type": "scattergl"
           }
          ],
          "scattermapbox": [
           {
            "marker": {
             "colorbar": {
              "outlinewidth": 0,
              "ticks": ""
             }
            },
            "type": "scattermapbox"
           }
          ],
          "scatterpolar": [
           {
            "marker": {
             "colorbar": {
              "outlinewidth": 0,
              "ticks": ""
             }
            },
            "type": "scatterpolar"
           }
          ],
          "scatterpolargl": [
           {
            "marker": {
             "colorbar": {
              "outlinewidth": 0,
              "ticks": ""
             }
            },
            "type": "scatterpolargl"
           }
          ],
          "scatterternary": [
           {
            "marker": {
             "colorbar": {
              "outlinewidth": 0,
              "ticks": ""
             }
            },
            "type": "scatterternary"
           }
          ],
          "surface": [
           {
            "colorbar": {
             "outlinewidth": 0,
             "ticks": ""
            },
            "colorscale": [
             [
              0,
              "#0d0887"
             ],
             [
              0.1111111111111111,
              "#46039f"
             ],
             [
              0.2222222222222222,
              "#7201a8"
             ],
             [
              0.3333333333333333,
              "#9c179e"
             ],
             [
              0.4444444444444444,
              "#bd3786"
             ],
             [
              0.5555555555555556,
              "#d8576b"
             ],
             [
              0.6666666666666666,
              "#ed7953"
             ],
             [
              0.7777777777777778,
              "#fb9f3a"
             ],
             [
              0.8888888888888888,
              "#fdca26"
             ],
             [
              1,
              "#f0f921"
             ]
            ],
            "type": "surface"
           }
          ],
          "table": [
           {
            "cells": {
             "fill": {
              "color": "#EBF0F8"
             },
             "line": {
              "color": "white"
             }
            },
            "header": {
             "fill": {
              "color": "#C8D4E3"
             },
             "line": {
              "color": "white"
             }
            },
            "type": "table"
           }
          ]
         },
         "layout": {
          "annotationdefaults": {
           "arrowcolor": "#2a3f5f",
           "arrowhead": 0,
           "arrowwidth": 1
          },
          "autotypenumbers": "strict",
          "coloraxis": {
           "colorbar": {
            "outlinewidth": 0,
            "ticks": ""
           }
          },
          "colorscale": {
           "diverging": [
            [
             0,
             "#8e0152"
            ],
            [
             0.1,
             "#c51b7d"
            ],
            [
             0.2,
             "#de77ae"
            ],
            [
             0.3,
             "#f1b6da"
            ],
            [
             0.4,
             "#fde0ef"
            ],
            [
             0.5,
             "#f7f7f7"
            ],
            [
             0.6,
             "#e6f5d0"
            ],
            [
             0.7,
             "#b8e186"
            ],
            [
             0.8,
             "#7fbc41"
            ],
            [
             0.9,
             "#4d9221"
            ],
            [
             1,
             "#276419"
            ]
           ],
           "sequential": [
            [
             0,
             "#0d0887"
            ],
            [
             0.1111111111111111,
             "#46039f"
            ],
            [
             0.2222222222222222,
             "#7201a8"
            ],
            [
             0.3333333333333333,
             "#9c179e"
            ],
            [
             0.4444444444444444,
             "#bd3786"
            ],
            [
             0.5555555555555556,
             "#d8576b"
            ],
            [
             0.6666666666666666,
             "#ed7953"
            ],
            [
             0.7777777777777778,
             "#fb9f3a"
            ],
            [
             0.8888888888888888,
             "#fdca26"
            ],
            [
             1,
             "#f0f921"
            ]
           ],
           "sequentialminus": [
            [
             0,
             "#0d0887"
            ],
            [
             0.1111111111111111,
             "#46039f"
            ],
            [
             0.2222222222222222,
             "#7201a8"
            ],
            [
             0.3333333333333333,
             "#9c179e"
            ],
            [
             0.4444444444444444,
             "#bd3786"
            ],
            [
             0.5555555555555556,
             "#d8576b"
            ],
            [
             0.6666666666666666,
             "#ed7953"
            ],
            [
             0.7777777777777778,
             "#fb9f3a"
            ],
            [
             0.8888888888888888,
             "#fdca26"
            ],
            [
             1,
             "#f0f921"
            ]
           ]
          },
          "colorway": [
           "#636efa",
           "#EF553B",
           "#00cc96",
           "#ab63fa",
           "#FFA15A",
           "#19d3f3",
           "#FF6692",
           "#B6E880",
           "#FF97FF",
           "#FECB52"
          ],
          "font": {
           "color": "#2a3f5f"
          },
          "geo": {
           "bgcolor": "white",
           "lakecolor": "white",
           "landcolor": "#E5ECF6",
           "showlakes": true,
           "showland": true,
           "subunitcolor": "white"
          },
          "hoverlabel": {
           "align": "left"
          },
          "hovermode": "closest",
          "mapbox": {
           "style": "light"
          },
          "paper_bgcolor": "white",
          "plot_bgcolor": "#E5ECF6",
          "polar": {
           "angularaxis": {
            "gridcolor": "white",
            "linecolor": "white",
            "ticks": ""
           },
           "bgcolor": "#E5ECF6",
           "radialaxis": {
            "gridcolor": "white",
            "linecolor": "white",
            "ticks": ""
           }
          },
          "scene": {
           "xaxis": {
            "backgroundcolor": "#E5ECF6",
            "gridcolor": "white",
            "gridwidth": 2,
            "linecolor": "white",
            "showbackground": true,
            "ticks": "",
            "zerolinecolor": "white"
           },
           "yaxis": {
            "backgroundcolor": "#E5ECF6",
            "gridcolor": "white",
            "gridwidth": 2,
            "linecolor": "white",
            "showbackground": true,
            "ticks": "",
            "zerolinecolor": "white"
           },
           "zaxis": {
            "backgroundcolor": "#E5ECF6",
            "gridcolor": "white",
            "gridwidth": 2,
            "linecolor": "white",
            "showbackground": true,
            "ticks": "",
            "zerolinecolor": "white"
           }
          },
          "shapedefaults": {
           "line": {
            "color": "#2a3f5f"
           }
          },
          "ternary": {
           "aaxis": {
            "gridcolor": "white",
            "linecolor": "white",
            "ticks": ""
           },
           "baxis": {
            "gridcolor": "white",
            "linecolor": "white",
            "ticks": ""
           },
           "bgcolor": "#E5ECF6",
           "caxis": {
            "gridcolor": "white",
            "linecolor": "white",
            "ticks": ""
           }
          },
          "title": {
           "x": 0.05
          },
          "xaxis": {
           "automargin": true,
           "gridcolor": "white",
           "linecolor": "white",
           "ticks": "",
           "title": {
            "standoff": 15
           },
           "zerolinecolor": "white",
           "zerolinewidth": 2
          },
          "yaxis": {
           "automargin": true,
           "gridcolor": "white",
           "linecolor": "white",
           "ticks": "",
           "title": {
            "standoff": 15
           },
           "zerolinecolor": "white",
           "zerolinewidth": 2
          }
         }
        },
        "xaxis": {
         "anchor": "y",
         "domain": [
          0,
          1
         ],
         "title": {
          "text": "papel"
         }
        },
        "yaxis": {
         "anchor": "x",
         "domain": [
          0,
          1
         ],
         "title": {
          "text": "cresc. rec.5a"
         }
        }
       }
      },
      "text/html": [
       "<div>                            <div id=\"d1405f89-b828-423f-bb15-98f679bb3436\" class=\"plotly-graph-div\" style=\"height:525px; width:100%;\"></div>            <script type=\"text/javascript\">                require([\"plotly\"], function(Plotly) {                    window.PLOTLYENV=window.PLOTLYENV || {};                                    if (document.getElementById(\"d1405f89-b828-423f-bb15-98f679bb3436\")) {                    Plotly.newPlot(                        \"d1405f89-b828-423f-bb15-98f679bb3436\",                        [{\"alignmentgroup\":\"True\",\"hovertemplate\":\"papel=%{x}<br>cresc. rec.5a=%{y}<extra></extra>\",\"legendgroup\":\"\",\"marker\":{\"color\":\"#636efa\",\"pattern\":{\"shape\":\"\"}},\"name\":\"\",\"offsetgroup\":\"\",\"orientation\":\"v\",\"showlegend\":false,\"textposition\":\"auto\",\"x\":[\"BMOB3\",\"ARML3\",\"AMBP3\",\"PDTC3\",\"ASAI3\",\"SIMH3\",\"AURA33\",\"AGRO3\",\"INTB3\",\"SYNE3\"],\"xaxis\":\"x\",\"y\":[3.7426999999999997,2.6972000000000005,1.2466,1.0277,0.9731000000000001,0.6992,0.43560000000000004,0.39759999999999995,0.37520000000000003,0.3715],\"yaxis\":\"y\",\"type\":\"bar\"}],                        {\"template\":{\"data\":{\"histogram2dcontour\":[{\"type\":\"histogram2dcontour\",\"colorbar\":{\"outlinewidth\":0,\"ticks\":\"\"},\"colorscale\":[[0.0,\"#0d0887\"],[0.1111111111111111,\"#46039f\"],[0.2222222222222222,\"#7201a8\"],[0.3333333333333333,\"#9c179e\"],[0.4444444444444444,\"#bd3786\"],[0.5555555555555556,\"#d8576b\"],[0.6666666666666666,\"#ed7953\"],[0.7777777777777778,\"#fb9f3a\"],[0.8888888888888888,\"#fdca26\"],[1.0,\"#f0f921\"]]}],\"choropleth\":[{\"type\":\"choropleth\",\"colorbar\":{\"outlinewidth\":0,\"ticks\":\"\"}}],\"histogram2d\":[{\"type\":\"histogram2d\",\"colorbar\":{\"outlinewidth\":0,\"ticks\":\"\"},\"colorscale\":[[0.0,\"#0d0887\"],[0.1111111111111111,\"#46039f\"],[0.2222222222222222,\"#7201a8\"],[0.3333333333333333,\"#9c179e\"],[0.4444444444444444,\"#bd3786\"],[0.5555555555555556,\"#d8576b\"],[0.6666666666666666,\"#ed7953\"],[0.7777777777777778,\"#fb9f3a\"],[0.8888888888888888,\"#fdca26\"],[1.0,\"#f0f921\"]]}],\"heatmap\":[{\"type\":\"heatmap\",\"colorbar\":{\"outlinewidth\":0,\"ticks\":\"\"},\"colorscale\":[[0.0,\"#0d0887\"],[0.1111111111111111,\"#46039f\"],[0.2222222222222222,\"#7201a8\"],[0.3333333333333333,\"#9c179e\"],[0.4444444444444444,\"#bd3786\"],[0.5555555555555556,\"#d8576b\"],[0.6666666666666666,\"#ed7953\"],[0.7777777777777778,\"#fb9f3a\"],[0.8888888888888888,\"#fdca26\"],[1.0,\"#f0f921\"]]}],\"heatmapgl\":[{\"type\":\"heatmapgl\",\"colorbar\":{\"outlinewidth\":0,\"ticks\":\"\"},\"colorscale\":[[0.0,\"#0d0887\"],[0.1111111111111111,\"#46039f\"],[0.2222222222222222,\"#7201a8\"],[0.3333333333333333,\"#9c179e\"],[0.4444444444444444,\"#bd3786\"],[0.5555555555555556,\"#d8576b\"],[0.6666666666666666,\"#ed7953\"],[0.7777777777777778,\"#fb9f3a\"],[0.8888888888888888,\"#fdca26\"],[1.0,\"#f0f921\"]]}],\"contourcarpet\":[{\"type\":\"contourcarpet\",\"colorbar\":{\"outlinewidth\":0,\"ticks\":\"\"}}],\"contour\":[{\"type\":\"contour\",\"colorbar\":{\"outlinewidth\":0,\"ticks\":\"\"},\"colorscale\":[[0.0,\"#0d0887\"],[0.1111111111111111,\"#46039f\"],[0.2222222222222222,\"#7201a8\"],[0.3333333333333333,\"#9c179e\"],[0.4444444444444444,\"#bd3786\"],[0.5555555555555556,\"#d8576b\"],[0.6666666666666666,\"#ed7953\"],[0.7777777777777778,\"#fb9f3a\"],[0.8888888888888888,\"#fdca26\"],[1.0,\"#f0f921\"]]}],\"surface\":[{\"type\":\"surface\",\"colorbar\":{\"outlinewidth\":0,\"ticks\":\"\"},\"colorscale\":[[0.0,\"#0d0887\"],[0.1111111111111111,\"#46039f\"],[0.2222222222222222,\"#7201a8\"],[0.3333333333333333,\"#9c179e\"],[0.4444444444444444,\"#bd3786\"],[0.5555555555555556,\"#d8576b\"],[0.6666666666666666,\"#ed7953\"],[0.7777777777777778,\"#fb9f3a\"],[0.8888888888888888,\"#fdca26\"],[1.0,\"#f0f921\"]]}],\"mesh3d\":[{\"type\":\"mesh3d\",\"colorbar\":{\"outlinewidth\":0,\"ticks\":\"\"}}],\"scatter\":[{\"fillpattern\":{\"fillmode\":\"overlay\",\"size\":10,\"solidity\":0.2},\"type\":\"scatter\"}],\"parcoords\":[{\"type\":\"parcoords\",\"line\":{\"colorbar\":{\"outlinewidth\":0,\"ticks\":\"\"}}}],\"scatterpolargl\":[{\"type\":\"scatterpolargl\",\"marker\":{\"colorbar\":{\"outlinewidth\":0,\"ticks\":\"\"}}}],\"bar\":[{\"error_x\":{\"color\":\"#2a3f5f\"},\"error_y\":{\"color\":\"#2a3f5f\"},\"marker\":{\"line\":{\"color\":\"#E5ECF6\",\"width\":0.5},\"pattern\":{\"fillmode\":\"overlay\",\"size\":10,\"solidity\":0.2}},\"type\":\"bar\"}],\"scattergeo\":[{\"type\":\"scattergeo\",\"marker\":{\"colorbar\":{\"outlinewidth\":0,\"ticks\":\"\"}}}],\"scatterpolar\":[{\"type\":\"scatterpolar\",\"marker\":{\"colorbar\":{\"outlinewidth\":0,\"ticks\":\"\"}}}],\"histogram\":[{\"marker\":{\"pattern\":{\"fillmode\":\"overlay\",\"size\":10,\"solidity\":0.2}},\"type\":\"histogram\"}],\"scattergl\":[{\"type\":\"scattergl\",\"marker\":{\"colorbar\":{\"outlinewidth\":0,\"ticks\":\"\"}}}],\"scatter3d\":[{\"type\":\"scatter3d\",\"line\":{\"colorbar\":{\"outlinewidth\":0,\"ticks\":\"\"}},\"marker\":{\"colorbar\":{\"outlinewidth\":0,\"ticks\":\"\"}}}],\"scattermapbox\":[{\"type\":\"scattermapbox\",\"marker\":{\"colorbar\":{\"outlinewidth\":0,\"ticks\":\"\"}}}],\"scatterternary\":[{\"type\":\"scatterternary\",\"marker\":{\"colorbar\":{\"outlinewidth\":0,\"ticks\":\"\"}}}],\"scattercarpet\":[{\"type\":\"scattercarpet\",\"marker\":{\"colorbar\":{\"outlinewidth\":0,\"ticks\":\"\"}}}],\"carpet\":[{\"aaxis\":{\"endlinecolor\":\"#2a3f5f\",\"gridcolor\":\"white\",\"linecolor\":\"white\",\"minorgridcolor\":\"white\",\"startlinecolor\":\"#2a3f5f\"},\"baxis\":{\"endlinecolor\":\"#2a3f5f\",\"gridcolor\":\"white\",\"linecolor\":\"white\",\"minorgridcolor\":\"white\",\"startlinecolor\":\"#2a3f5f\"},\"type\":\"carpet\"}],\"table\":[{\"cells\":{\"fill\":{\"color\":\"#EBF0F8\"},\"line\":{\"color\":\"white\"}},\"header\":{\"fill\":{\"color\":\"#C8D4E3\"},\"line\":{\"color\":\"white\"}},\"type\":\"table\"}],\"barpolar\":[{\"marker\":{\"line\":{\"color\":\"#E5ECF6\",\"width\":0.5},\"pattern\":{\"fillmode\":\"overlay\",\"size\":10,\"solidity\":0.2}},\"type\":\"barpolar\"}],\"pie\":[{\"automargin\":true,\"type\":\"pie\"}]},\"layout\":{\"autotypenumbers\":\"strict\",\"colorway\":[\"#636efa\",\"#EF553B\",\"#00cc96\",\"#ab63fa\",\"#FFA15A\",\"#19d3f3\",\"#FF6692\",\"#B6E880\",\"#FF97FF\",\"#FECB52\"],\"font\":{\"color\":\"#2a3f5f\"},\"hovermode\":\"closest\",\"hoverlabel\":{\"align\":\"left\"},\"paper_bgcolor\":\"white\",\"plot_bgcolor\":\"#E5ECF6\",\"polar\":{\"bgcolor\":\"#E5ECF6\",\"angularaxis\":{\"gridcolor\":\"white\",\"linecolor\":\"white\",\"ticks\":\"\"},\"radialaxis\":{\"gridcolor\":\"white\",\"linecolor\":\"white\",\"ticks\":\"\"}},\"ternary\":{\"bgcolor\":\"#E5ECF6\",\"aaxis\":{\"gridcolor\":\"white\",\"linecolor\":\"white\",\"ticks\":\"\"},\"baxis\":{\"gridcolor\":\"white\",\"linecolor\":\"white\",\"ticks\":\"\"},\"caxis\":{\"gridcolor\":\"white\",\"linecolor\":\"white\",\"ticks\":\"\"}},\"coloraxis\":{\"colorbar\":{\"outlinewidth\":0,\"ticks\":\"\"}},\"colorscale\":{\"sequential\":[[0.0,\"#0d0887\"],[0.1111111111111111,\"#46039f\"],[0.2222222222222222,\"#7201a8\"],[0.3333333333333333,\"#9c179e\"],[0.4444444444444444,\"#bd3786\"],[0.5555555555555556,\"#d8576b\"],[0.6666666666666666,\"#ed7953\"],[0.7777777777777778,\"#fb9f3a\"],[0.8888888888888888,\"#fdca26\"],[1.0,\"#f0f921\"]],\"sequentialminus\":[[0.0,\"#0d0887\"],[0.1111111111111111,\"#46039f\"],[0.2222222222222222,\"#7201a8\"],[0.3333333333333333,\"#9c179e\"],[0.4444444444444444,\"#bd3786\"],[0.5555555555555556,\"#d8576b\"],[0.6666666666666666,\"#ed7953\"],[0.7777777777777778,\"#fb9f3a\"],[0.8888888888888888,\"#fdca26\"],[1.0,\"#f0f921\"]],\"diverging\":[[0,\"#8e0152\"],[0.1,\"#c51b7d\"],[0.2,\"#de77ae\"],[0.3,\"#f1b6da\"],[0.4,\"#fde0ef\"],[0.5,\"#f7f7f7\"],[0.6,\"#e6f5d0\"],[0.7,\"#b8e186\"],[0.8,\"#7fbc41\"],[0.9,\"#4d9221\"],[1,\"#276419\"]]},\"xaxis\":{\"gridcolor\":\"white\",\"linecolor\":\"white\",\"ticks\":\"\",\"title\":{\"standoff\":15},\"zerolinecolor\":\"white\",\"automargin\":true,\"zerolinewidth\":2},\"yaxis\":{\"gridcolor\":\"white\",\"linecolor\":\"white\",\"ticks\":\"\",\"title\":{\"standoff\":15},\"zerolinecolor\":\"white\",\"automargin\":true,\"zerolinewidth\":2},\"scene\":{\"xaxis\":{\"backgroundcolor\":\"#E5ECF6\",\"gridcolor\":\"white\",\"linecolor\":\"white\",\"showbackground\":true,\"ticks\":\"\",\"zerolinecolor\":\"white\",\"gridwidth\":2},\"yaxis\":{\"backgroundcolor\":\"#E5ECF6\",\"gridcolor\":\"white\",\"linecolor\":\"white\",\"showbackground\":true,\"ticks\":\"\",\"zerolinecolor\":\"white\",\"gridwidth\":2},\"zaxis\":{\"backgroundcolor\":\"#E5ECF6\",\"gridcolor\":\"white\",\"linecolor\":\"white\",\"showbackground\":true,\"ticks\":\"\",\"zerolinecolor\":\"white\",\"gridwidth\":2}},\"shapedefaults\":{\"line\":{\"color\":\"#2a3f5f\"}},\"annotationdefaults\":{\"arrowcolor\":\"#2a3f5f\",\"arrowhead\":0,\"arrowwidth\":1},\"geo\":{\"bgcolor\":\"white\",\"landcolor\":\"#E5ECF6\",\"subunitcolor\":\"white\",\"showland\":true,\"showlakes\":true,\"lakecolor\":\"white\"},\"title\":{\"x\":0.05},\"mapbox\":{\"style\":\"light\"}}},\"xaxis\":{\"anchor\":\"y\",\"domain\":[0.0,1.0],\"title\":{\"text\":\"papel\"}},\"yaxis\":{\"anchor\":\"x\",\"domain\":[0.0,1.0],\"title\":{\"text\":\"cresc. rec.5a\"}},\"legend\":{\"tracegroupgap\":0},\"margin\":{\"t\":60},\"barmode\":\"relative\"},                        {\"responsive\": true}                    ).then(function(){\n",
       "                            \n",
       "var gd = document.getElementById('d1405f89-b828-423f-bb15-98f679bb3436');\n",
       "var x = new MutationObserver(function (mutations, observer) {{\n",
       "        var display = window.getComputedStyle(gd).display;\n",
       "        if (!display || display === 'none') {{\n",
       "            console.log([gd, 'removed!']);\n",
       "            Plotly.purge(gd);\n",
       "            observer.disconnect();\n",
       "        }}\n",
       "}});\n",
       "\n",
       "// Listen for the removal of the full notebook cells\n",
       "var notebookContainer = gd.closest('#notebook-container');\n",
       "if (notebookContainer) {{\n",
       "    x.observe(notebookContainer, {childList: true});\n",
       "}}\n",
       "\n",
       "// Listen for the clearing of the current output cell\n",
       "var outputEl = gd.closest('.output');\n",
       "if (outputEl) {{\n",
       "    x.observe(outputEl, {childList: true});\n",
       "}}\n",
       "\n",
       "                        })                };                });            </script>        </div>"
      ]
     },
     "metadata": {},
     "output_type": "display_data"
    }
   ],
   "source": [
    "# grafico maiores Crescimento Receita\n",
    "aux = df_final.sort_values('cresc. rec.5a', ascending= False).reset_index().rename( columns= {'index': 'papel'}).head(10)\n",
    "px.bar( aux, x= 'papel', y= 'cresc. rec.5a')"
   ]
  },
  {
   "cell_type": "code",
   "execution_count": 126,
   "id": "5e76533a",
   "metadata": {
    "ExecuteTime": {
     "end_time": "2023-03-30T11:06:19.748339Z",
     "start_time": "2023-03-30T11:06:19.677529Z"
    }
   },
   "outputs": [
    {
     "data": {
      "application/vnd.plotly.v1+json": {
       "config": {
        "plotlyServerURL": "https://plot.ly"
       },
       "data": [
        {
         "alignmentgroup": "True",
         "hovertemplate": "papel=%{x}<br>marg_liquida=%{y}<extra></extra>",
         "legendgroup": "",
         "marker": {
          "color": "#636efa",
          "pattern": {
           "shape": ""
          }
         },
         "name": "",
         "offsetgroup": "",
         "orientation": "v",
         "showlegend": false,
         "textposition": "auto",
         "type": "bar",
         "x": [
          "GPAR3",
          "ITSA3",
          "SYNE3",
          "SUZB3",
          "FESA3",
          "PETR4",
          "AGRO3",
          "STBP3",
          "AURA33",
          "TFCO4"
         ],
         "xaxis": "x",
         "y": [
          4.4828,
          1.733,
          0.5652,
          0.3889,
          0.36920000000000003,
          0.2873,
          0.2568,
          0.22039999999999998,
          0.1913,
          0.1814
         ],
         "yaxis": "y"
        }
       ],
       "layout": {
        "barmode": "relative",
        "legend": {
         "tracegroupgap": 0
        },
        "margin": {
         "t": 60
        },
        "template": {
         "data": {
          "bar": [
           {
            "error_x": {
             "color": "#2a3f5f"
            },
            "error_y": {
             "color": "#2a3f5f"
            },
            "marker": {
             "line": {
              "color": "#E5ECF6",
              "width": 0.5
             },
             "pattern": {
              "fillmode": "overlay",
              "size": 10,
              "solidity": 0.2
             }
            },
            "type": "bar"
           }
          ],
          "barpolar": [
           {
            "marker": {
             "line": {
              "color": "#E5ECF6",
              "width": 0.5
             },
             "pattern": {
              "fillmode": "overlay",
              "size": 10,
              "solidity": 0.2
             }
            },
            "type": "barpolar"
           }
          ],
          "carpet": [
           {
            "aaxis": {
             "endlinecolor": "#2a3f5f",
             "gridcolor": "white",
             "linecolor": "white",
             "minorgridcolor": "white",
             "startlinecolor": "#2a3f5f"
            },
            "baxis": {
             "endlinecolor": "#2a3f5f",
             "gridcolor": "white",
             "linecolor": "white",
             "minorgridcolor": "white",
             "startlinecolor": "#2a3f5f"
            },
            "type": "carpet"
           }
          ],
          "choropleth": [
           {
            "colorbar": {
             "outlinewidth": 0,
             "ticks": ""
            },
            "type": "choropleth"
           }
          ],
          "contour": [
           {
            "colorbar": {
             "outlinewidth": 0,
             "ticks": ""
            },
            "colorscale": [
             [
              0,
              "#0d0887"
             ],
             [
              0.1111111111111111,
              "#46039f"
             ],
             [
              0.2222222222222222,
              "#7201a8"
             ],
             [
              0.3333333333333333,
              "#9c179e"
             ],
             [
              0.4444444444444444,
              "#bd3786"
             ],
             [
              0.5555555555555556,
              "#d8576b"
             ],
             [
              0.6666666666666666,
              "#ed7953"
             ],
             [
              0.7777777777777778,
              "#fb9f3a"
             ],
             [
              0.8888888888888888,
              "#fdca26"
             ],
             [
              1,
              "#f0f921"
             ]
            ],
            "type": "contour"
           }
          ],
          "contourcarpet": [
           {
            "colorbar": {
             "outlinewidth": 0,
             "ticks": ""
            },
            "type": "contourcarpet"
           }
          ],
          "heatmap": [
           {
            "colorbar": {
             "outlinewidth": 0,
             "ticks": ""
            },
            "colorscale": [
             [
              0,
              "#0d0887"
             ],
             [
              0.1111111111111111,
              "#46039f"
             ],
             [
              0.2222222222222222,
              "#7201a8"
             ],
             [
              0.3333333333333333,
              "#9c179e"
             ],
             [
              0.4444444444444444,
              "#bd3786"
             ],
             [
              0.5555555555555556,
              "#d8576b"
             ],
             [
              0.6666666666666666,
              "#ed7953"
             ],
             [
              0.7777777777777778,
              "#fb9f3a"
             ],
             [
              0.8888888888888888,
              "#fdca26"
             ],
             [
              1,
              "#f0f921"
             ]
            ],
            "type": "heatmap"
           }
          ],
          "heatmapgl": [
           {
            "colorbar": {
             "outlinewidth": 0,
             "ticks": ""
            },
            "colorscale": [
             [
              0,
              "#0d0887"
             ],
             [
              0.1111111111111111,
              "#46039f"
             ],
             [
              0.2222222222222222,
              "#7201a8"
             ],
             [
              0.3333333333333333,
              "#9c179e"
             ],
             [
              0.4444444444444444,
              "#bd3786"
             ],
             [
              0.5555555555555556,
              "#d8576b"
             ],
             [
              0.6666666666666666,
              "#ed7953"
             ],
             [
              0.7777777777777778,
              "#fb9f3a"
             ],
             [
              0.8888888888888888,
              "#fdca26"
             ],
             [
              1,
              "#f0f921"
             ]
            ],
            "type": "heatmapgl"
           }
          ],
          "histogram": [
           {
            "marker": {
             "pattern": {
              "fillmode": "overlay",
              "size": 10,
              "solidity": 0.2
             }
            },
            "type": "histogram"
           }
          ],
          "histogram2d": [
           {
            "colorbar": {
             "outlinewidth": 0,
             "ticks": ""
            },
            "colorscale": [
             [
              0,
              "#0d0887"
             ],
             [
              0.1111111111111111,
              "#46039f"
             ],
             [
              0.2222222222222222,
              "#7201a8"
             ],
             [
              0.3333333333333333,
              "#9c179e"
             ],
             [
              0.4444444444444444,
              "#bd3786"
             ],
             [
              0.5555555555555556,
              "#d8576b"
             ],
             [
              0.6666666666666666,
              "#ed7953"
             ],
             [
              0.7777777777777778,
              "#fb9f3a"
             ],
             [
              0.8888888888888888,
              "#fdca26"
             ],
             [
              1,
              "#f0f921"
             ]
            ],
            "type": "histogram2d"
           }
          ],
          "histogram2dcontour": [
           {
            "colorbar": {
             "outlinewidth": 0,
             "ticks": ""
            },
            "colorscale": [
             [
              0,
              "#0d0887"
             ],
             [
              0.1111111111111111,
              "#46039f"
             ],
             [
              0.2222222222222222,
              "#7201a8"
             ],
             [
              0.3333333333333333,
              "#9c179e"
             ],
             [
              0.4444444444444444,
              "#bd3786"
             ],
             [
              0.5555555555555556,
              "#d8576b"
             ],
             [
              0.6666666666666666,
              "#ed7953"
             ],
             [
              0.7777777777777778,
              "#fb9f3a"
             ],
             [
              0.8888888888888888,
              "#fdca26"
             ],
             [
              1,
              "#f0f921"
             ]
            ],
            "type": "histogram2dcontour"
           }
          ],
          "mesh3d": [
           {
            "colorbar": {
             "outlinewidth": 0,
             "ticks": ""
            },
            "type": "mesh3d"
           }
          ],
          "parcoords": [
           {
            "line": {
             "colorbar": {
              "outlinewidth": 0,
              "ticks": ""
             }
            },
            "type": "parcoords"
           }
          ],
          "pie": [
           {
            "automargin": true,
            "type": "pie"
           }
          ],
          "scatter": [
           {
            "fillpattern": {
             "fillmode": "overlay",
             "size": 10,
             "solidity": 0.2
            },
            "type": "scatter"
           }
          ],
          "scatter3d": [
           {
            "line": {
             "colorbar": {
              "outlinewidth": 0,
              "ticks": ""
             }
            },
            "marker": {
             "colorbar": {
              "outlinewidth": 0,
              "ticks": ""
             }
            },
            "type": "scatter3d"
           }
          ],
          "scattercarpet": [
           {
            "marker": {
             "colorbar": {
              "outlinewidth": 0,
              "ticks": ""
             }
            },
            "type": "scattercarpet"
           }
          ],
          "scattergeo": [
           {
            "marker": {
             "colorbar": {
              "outlinewidth": 0,
              "ticks": ""
             }
            },
            "type": "scattergeo"
           }
          ],
          "scattergl": [
           {
            "marker": {
             "colorbar": {
              "outlinewidth": 0,
              "ticks": ""
             }
            },
            "type": "scattergl"
           }
          ],
          "scattermapbox": [
           {
            "marker": {
             "colorbar": {
              "outlinewidth": 0,
              "ticks": ""
             }
            },
            "type": "scattermapbox"
           }
          ],
          "scatterpolar": [
           {
            "marker": {
             "colorbar": {
              "outlinewidth": 0,
              "ticks": ""
             }
            },
            "type": "scatterpolar"
           }
          ],
          "scatterpolargl": [
           {
            "marker": {
             "colorbar": {
              "outlinewidth": 0,
              "ticks": ""
             }
            },
            "type": "scatterpolargl"
           }
          ],
          "scatterternary": [
           {
            "marker": {
             "colorbar": {
              "outlinewidth": 0,
              "ticks": ""
             }
            },
            "type": "scatterternary"
           }
          ],
          "surface": [
           {
            "colorbar": {
             "outlinewidth": 0,
             "ticks": ""
            },
            "colorscale": [
             [
              0,
              "#0d0887"
             ],
             [
              0.1111111111111111,
              "#46039f"
             ],
             [
              0.2222222222222222,
              "#7201a8"
             ],
             [
              0.3333333333333333,
              "#9c179e"
             ],
             [
              0.4444444444444444,
              "#bd3786"
             ],
             [
              0.5555555555555556,
              "#d8576b"
             ],
             [
              0.6666666666666666,
              "#ed7953"
             ],
             [
              0.7777777777777778,
              "#fb9f3a"
             ],
             [
              0.8888888888888888,
              "#fdca26"
             ],
             [
              1,
              "#f0f921"
             ]
            ],
            "type": "surface"
           }
          ],
          "table": [
           {
            "cells": {
             "fill": {
              "color": "#EBF0F8"
             },
             "line": {
              "color": "white"
             }
            },
            "header": {
             "fill": {
              "color": "#C8D4E3"
             },
             "line": {
              "color": "white"
             }
            },
            "type": "table"
           }
          ]
         },
         "layout": {
          "annotationdefaults": {
           "arrowcolor": "#2a3f5f",
           "arrowhead": 0,
           "arrowwidth": 1
          },
          "autotypenumbers": "strict",
          "coloraxis": {
           "colorbar": {
            "outlinewidth": 0,
            "ticks": ""
           }
          },
          "colorscale": {
           "diverging": [
            [
             0,
             "#8e0152"
            ],
            [
             0.1,
             "#c51b7d"
            ],
            [
             0.2,
             "#de77ae"
            ],
            [
             0.3,
             "#f1b6da"
            ],
            [
             0.4,
             "#fde0ef"
            ],
            [
             0.5,
             "#f7f7f7"
            ],
            [
             0.6,
             "#e6f5d0"
            ],
            [
             0.7,
             "#b8e186"
            ],
            [
             0.8,
             "#7fbc41"
            ],
            [
             0.9,
             "#4d9221"
            ],
            [
             1,
             "#276419"
            ]
           ],
           "sequential": [
            [
             0,
             "#0d0887"
            ],
            [
             0.1111111111111111,
             "#46039f"
            ],
            [
             0.2222222222222222,
             "#7201a8"
            ],
            [
             0.3333333333333333,
             "#9c179e"
            ],
            [
             0.4444444444444444,
             "#bd3786"
            ],
            [
             0.5555555555555556,
             "#d8576b"
            ],
            [
             0.6666666666666666,
             "#ed7953"
            ],
            [
             0.7777777777777778,
             "#fb9f3a"
            ],
            [
             0.8888888888888888,
             "#fdca26"
            ],
            [
             1,
             "#f0f921"
            ]
           ],
           "sequentialminus": [
            [
             0,
             "#0d0887"
            ],
            [
             0.1111111111111111,
             "#46039f"
            ],
            [
             0.2222222222222222,
             "#7201a8"
            ],
            [
             0.3333333333333333,
             "#9c179e"
            ],
            [
             0.4444444444444444,
             "#bd3786"
            ],
            [
             0.5555555555555556,
             "#d8576b"
            ],
            [
             0.6666666666666666,
             "#ed7953"
            ],
            [
             0.7777777777777778,
             "#fb9f3a"
            ],
            [
             0.8888888888888888,
             "#fdca26"
            ],
            [
             1,
             "#f0f921"
            ]
           ]
          },
          "colorway": [
           "#636efa",
           "#EF553B",
           "#00cc96",
           "#ab63fa",
           "#FFA15A",
           "#19d3f3",
           "#FF6692",
           "#B6E880",
           "#FF97FF",
           "#FECB52"
          ],
          "font": {
           "color": "#2a3f5f"
          },
          "geo": {
           "bgcolor": "white",
           "lakecolor": "white",
           "landcolor": "#E5ECF6",
           "showlakes": true,
           "showland": true,
           "subunitcolor": "white"
          },
          "hoverlabel": {
           "align": "left"
          },
          "hovermode": "closest",
          "mapbox": {
           "style": "light"
          },
          "paper_bgcolor": "white",
          "plot_bgcolor": "#E5ECF6",
          "polar": {
           "angularaxis": {
            "gridcolor": "white",
            "linecolor": "white",
            "ticks": ""
           },
           "bgcolor": "#E5ECF6",
           "radialaxis": {
            "gridcolor": "white",
            "linecolor": "white",
            "ticks": ""
           }
          },
          "scene": {
           "xaxis": {
            "backgroundcolor": "#E5ECF6",
            "gridcolor": "white",
            "gridwidth": 2,
            "linecolor": "white",
            "showbackground": true,
            "ticks": "",
            "zerolinecolor": "white"
           },
           "yaxis": {
            "backgroundcolor": "#E5ECF6",
            "gridcolor": "white",
            "gridwidth": 2,
            "linecolor": "white",
            "showbackground": true,
            "ticks": "",
            "zerolinecolor": "white"
           },
           "zaxis": {
            "backgroundcolor": "#E5ECF6",
            "gridcolor": "white",
            "gridwidth": 2,
            "linecolor": "white",
            "showbackground": true,
            "ticks": "",
            "zerolinecolor": "white"
           }
          },
          "shapedefaults": {
           "line": {
            "color": "#2a3f5f"
           }
          },
          "ternary": {
           "aaxis": {
            "gridcolor": "white",
            "linecolor": "white",
            "ticks": ""
           },
           "baxis": {
            "gridcolor": "white",
            "linecolor": "white",
            "ticks": ""
           },
           "bgcolor": "#E5ECF6",
           "caxis": {
            "gridcolor": "white",
            "linecolor": "white",
            "ticks": ""
           }
          },
          "title": {
           "x": 0.05
          },
          "xaxis": {
           "automargin": true,
           "gridcolor": "white",
           "linecolor": "white",
           "ticks": "",
           "title": {
            "standoff": 15
           },
           "zerolinecolor": "white",
           "zerolinewidth": 2
          },
          "yaxis": {
           "automargin": true,
           "gridcolor": "white",
           "linecolor": "white",
           "ticks": "",
           "title": {
            "standoff": 15
           },
           "zerolinecolor": "white",
           "zerolinewidth": 2
          }
         }
        },
        "xaxis": {
         "anchor": "y",
         "domain": [
          0,
          1
         ],
         "title": {
          "text": "papel"
         }
        },
        "yaxis": {
         "anchor": "x",
         "domain": [
          0,
          1
         ],
         "title": {
          "text": "marg_liquida"
         }
        }
       }
      },
      "text/html": [
       "<div>                            <div id=\"d44b7162-e38f-4765-b2fe-ca6ca1064ed3\" class=\"plotly-graph-div\" style=\"height:525px; width:100%;\"></div>            <script type=\"text/javascript\">                require([\"plotly\"], function(Plotly) {                    window.PLOTLYENV=window.PLOTLYENV || {};                                    if (document.getElementById(\"d44b7162-e38f-4765-b2fe-ca6ca1064ed3\")) {                    Plotly.newPlot(                        \"d44b7162-e38f-4765-b2fe-ca6ca1064ed3\",                        [{\"alignmentgroup\":\"True\",\"hovertemplate\":\"papel=%{x}<br>marg_liquida=%{y}<extra></extra>\",\"legendgroup\":\"\",\"marker\":{\"color\":\"#636efa\",\"pattern\":{\"shape\":\"\"}},\"name\":\"\",\"offsetgroup\":\"\",\"orientation\":\"v\",\"showlegend\":false,\"textposition\":\"auto\",\"x\":[\"GPAR3\",\"ITSA3\",\"SYNE3\",\"SUZB3\",\"FESA3\",\"PETR4\",\"AGRO3\",\"STBP3\",\"AURA33\",\"TFCO4\"],\"xaxis\":\"x\",\"y\":[4.4828,1.733,0.5652,0.3889,0.36920000000000003,0.2873,0.2568,0.22039999999999998,0.1913,0.1814],\"yaxis\":\"y\",\"type\":\"bar\"}],                        {\"template\":{\"data\":{\"histogram2dcontour\":[{\"type\":\"histogram2dcontour\",\"colorbar\":{\"outlinewidth\":0,\"ticks\":\"\"},\"colorscale\":[[0.0,\"#0d0887\"],[0.1111111111111111,\"#46039f\"],[0.2222222222222222,\"#7201a8\"],[0.3333333333333333,\"#9c179e\"],[0.4444444444444444,\"#bd3786\"],[0.5555555555555556,\"#d8576b\"],[0.6666666666666666,\"#ed7953\"],[0.7777777777777778,\"#fb9f3a\"],[0.8888888888888888,\"#fdca26\"],[1.0,\"#f0f921\"]]}],\"choropleth\":[{\"type\":\"choropleth\",\"colorbar\":{\"outlinewidth\":0,\"ticks\":\"\"}}],\"histogram2d\":[{\"type\":\"histogram2d\",\"colorbar\":{\"outlinewidth\":0,\"ticks\":\"\"},\"colorscale\":[[0.0,\"#0d0887\"],[0.1111111111111111,\"#46039f\"],[0.2222222222222222,\"#7201a8\"],[0.3333333333333333,\"#9c179e\"],[0.4444444444444444,\"#bd3786\"],[0.5555555555555556,\"#d8576b\"],[0.6666666666666666,\"#ed7953\"],[0.7777777777777778,\"#fb9f3a\"],[0.8888888888888888,\"#fdca26\"],[1.0,\"#f0f921\"]]}],\"heatmap\":[{\"type\":\"heatmap\",\"colorbar\":{\"outlinewidth\":0,\"ticks\":\"\"},\"colorscale\":[[0.0,\"#0d0887\"],[0.1111111111111111,\"#46039f\"],[0.2222222222222222,\"#7201a8\"],[0.3333333333333333,\"#9c179e\"],[0.4444444444444444,\"#bd3786\"],[0.5555555555555556,\"#d8576b\"],[0.6666666666666666,\"#ed7953\"],[0.7777777777777778,\"#fb9f3a\"],[0.8888888888888888,\"#fdca26\"],[1.0,\"#f0f921\"]]}],\"heatmapgl\":[{\"type\":\"heatmapgl\",\"colorbar\":{\"outlinewidth\":0,\"ticks\":\"\"},\"colorscale\":[[0.0,\"#0d0887\"],[0.1111111111111111,\"#46039f\"],[0.2222222222222222,\"#7201a8\"],[0.3333333333333333,\"#9c179e\"],[0.4444444444444444,\"#bd3786\"],[0.5555555555555556,\"#d8576b\"],[0.6666666666666666,\"#ed7953\"],[0.7777777777777778,\"#fb9f3a\"],[0.8888888888888888,\"#fdca26\"],[1.0,\"#f0f921\"]]}],\"contourcarpet\":[{\"type\":\"contourcarpet\",\"colorbar\":{\"outlinewidth\":0,\"ticks\":\"\"}}],\"contour\":[{\"type\":\"contour\",\"colorbar\":{\"outlinewidth\":0,\"ticks\":\"\"},\"colorscale\":[[0.0,\"#0d0887\"],[0.1111111111111111,\"#46039f\"],[0.2222222222222222,\"#7201a8\"],[0.3333333333333333,\"#9c179e\"],[0.4444444444444444,\"#bd3786\"],[0.5555555555555556,\"#d8576b\"],[0.6666666666666666,\"#ed7953\"],[0.7777777777777778,\"#fb9f3a\"],[0.8888888888888888,\"#fdca26\"],[1.0,\"#f0f921\"]]}],\"surface\":[{\"type\":\"surface\",\"colorbar\":{\"outlinewidth\":0,\"ticks\":\"\"},\"colorscale\":[[0.0,\"#0d0887\"],[0.1111111111111111,\"#46039f\"],[0.2222222222222222,\"#7201a8\"],[0.3333333333333333,\"#9c179e\"],[0.4444444444444444,\"#bd3786\"],[0.5555555555555556,\"#d8576b\"],[0.6666666666666666,\"#ed7953\"],[0.7777777777777778,\"#fb9f3a\"],[0.8888888888888888,\"#fdca26\"],[1.0,\"#f0f921\"]]}],\"mesh3d\":[{\"type\":\"mesh3d\",\"colorbar\":{\"outlinewidth\":0,\"ticks\":\"\"}}],\"scatter\":[{\"fillpattern\":{\"fillmode\":\"overlay\",\"size\":10,\"solidity\":0.2},\"type\":\"scatter\"}],\"parcoords\":[{\"type\":\"parcoords\",\"line\":{\"colorbar\":{\"outlinewidth\":0,\"ticks\":\"\"}}}],\"scatterpolargl\":[{\"type\":\"scatterpolargl\",\"marker\":{\"colorbar\":{\"outlinewidth\":0,\"ticks\":\"\"}}}],\"bar\":[{\"error_x\":{\"color\":\"#2a3f5f\"},\"error_y\":{\"color\":\"#2a3f5f\"},\"marker\":{\"line\":{\"color\":\"#E5ECF6\",\"width\":0.5},\"pattern\":{\"fillmode\":\"overlay\",\"size\":10,\"solidity\":0.2}},\"type\":\"bar\"}],\"scattergeo\":[{\"type\":\"scattergeo\",\"marker\":{\"colorbar\":{\"outlinewidth\":0,\"ticks\":\"\"}}}],\"scatterpolar\":[{\"type\":\"scatterpolar\",\"marker\":{\"colorbar\":{\"outlinewidth\":0,\"ticks\":\"\"}}}],\"histogram\":[{\"marker\":{\"pattern\":{\"fillmode\":\"overlay\",\"size\":10,\"solidity\":0.2}},\"type\":\"histogram\"}],\"scattergl\":[{\"type\":\"scattergl\",\"marker\":{\"colorbar\":{\"outlinewidth\":0,\"ticks\":\"\"}}}],\"scatter3d\":[{\"type\":\"scatter3d\",\"line\":{\"colorbar\":{\"outlinewidth\":0,\"ticks\":\"\"}},\"marker\":{\"colorbar\":{\"outlinewidth\":0,\"ticks\":\"\"}}}],\"scattermapbox\":[{\"type\":\"scattermapbox\",\"marker\":{\"colorbar\":{\"outlinewidth\":0,\"ticks\":\"\"}}}],\"scatterternary\":[{\"type\":\"scatterternary\",\"marker\":{\"colorbar\":{\"outlinewidth\":0,\"ticks\":\"\"}}}],\"scattercarpet\":[{\"type\":\"scattercarpet\",\"marker\":{\"colorbar\":{\"outlinewidth\":0,\"ticks\":\"\"}}}],\"carpet\":[{\"aaxis\":{\"endlinecolor\":\"#2a3f5f\",\"gridcolor\":\"white\",\"linecolor\":\"white\",\"minorgridcolor\":\"white\",\"startlinecolor\":\"#2a3f5f\"},\"baxis\":{\"endlinecolor\":\"#2a3f5f\",\"gridcolor\":\"white\",\"linecolor\":\"white\",\"minorgridcolor\":\"white\",\"startlinecolor\":\"#2a3f5f\"},\"type\":\"carpet\"}],\"table\":[{\"cells\":{\"fill\":{\"color\":\"#EBF0F8\"},\"line\":{\"color\":\"white\"}},\"header\":{\"fill\":{\"color\":\"#C8D4E3\"},\"line\":{\"color\":\"white\"}},\"type\":\"table\"}],\"barpolar\":[{\"marker\":{\"line\":{\"color\":\"#E5ECF6\",\"width\":0.5},\"pattern\":{\"fillmode\":\"overlay\",\"size\":10,\"solidity\":0.2}},\"type\":\"barpolar\"}],\"pie\":[{\"automargin\":true,\"type\":\"pie\"}]},\"layout\":{\"autotypenumbers\":\"strict\",\"colorway\":[\"#636efa\",\"#EF553B\",\"#00cc96\",\"#ab63fa\",\"#FFA15A\",\"#19d3f3\",\"#FF6692\",\"#B6E880\",\"#FF97FF\",\"#FECB52\"],\"font\":{\"color\":\"#2a3f5f\"},\"hovermode\":\"closest\",\"hoverlabel\":{\"align\":\"left\"},\"paper_bgcolor\":\"white\",\"plot_bgcolor\":\"#E5ECF6\",\"polar\":{\"bgcolor\":\"#E5ECF6\",\"angularaxis\":{\"gridcolor\":\"white\",\"linecolor\":\"white\",\"ticks\":\"\"},\"radialaxis\":{\"gridcolor\":\"white\",\"linecolor\":\"white\",\"ticks\":\"\"}},\"ternary\":{\"bgcolor\":\"#E5ECF6\",\"aaxis\":{\"gridcolor\":\"white\",\"linecolor\":\"white\",\"ticks\":\"\"},\"baxis\":{\"gridcolor\":\"white\",\"linecolor\":\"white\",\"ticks\":\"\"},\"caxis\":{\"gridcolor\":\"white\",\"linecolor\":\"white\",\"ticks\":\"\"}},\"coloraxis\":{\"colorbar\":{\"outlinewidth\":0,\"ticks\":\"\"}},\"colorscale\":{\"sequential\":[[0.0,\"#0d0887\"],[0.1111111111111111,\"#46039f\"],[0.2222222222222222,\"#7201a8\"],[0.3333333333333333,\"#9c179e\"],[0.4444444444444444,\"#bd3786\"],[0.5555555555555556,\"#d8576b\"],[0.6666666666666666,\"#ed7953\"],[0.7777777777777778,\"#fb9f3a\"],[0.8888888888888888,\"#fdca26\"],[1.0,\"#f0f921\"]],\"sequentialminus\":[[0.0,\"#0d0887\"],[0.1111111111111111,\"#46039f\"],[0.2222222222222222,\"#7201a8\"],[0.3333333333333333,\"#9c179e\"],[0.4444444444444444,\"#bd3786\"],[0.5555555555555556,\"#d8576b\"],[0.6666666666666666,\"#ed7953\"],[0.7777777777777778,\"#fb9f3a\"],[0.8888888888888888,\"#fdca26\"],[1.0,\"#f0f921\"]],\"diverging\":[[0,\"#8e0152\"],[0.1,\"#c51b7d\"],[0.2,\"#de77ae\"],[0.3,\"#f1b6da\"],[0.4,\"#fde0ef\"],[0.5,\"#f7f7f7\"],[0.6,\"#e6f5d0\"],[0.7,\"#b8e186\"],[0.8,\"#7fbc41\"],[0.9,\"#4d9221\"],[1,\"#276419\"]]},\"xaxis\":{\"gridcolor\":\"white\",\"linecolor\":\"white\",\"ticks\":\"\",\"title\":{\"standoff\":15},\"zerolinecolor\":\"white\",\"automargin\":true,\"zerolinewidth\":2},\"yaxis\":{\"gridcolor\":\"white\",\"linecolor\":\"white\",\"ticks\":\"\",\"title\":{\"standoff\":15},\"zerolinecolor\":\"white\",\"automargin\":true,\"zerolinewidth\":2},\"scene\":{\"xaxis\":{\"backgroundcolor\":\"#E5ECF6\",\"gridcolor\":\"white\",\"linecolor\":\"white\",\"showbackground\":true,\"ticks\":\"\",\"zerolinecolor\":\"white\",\"gridwidth\":2},\"yaxis\":{\"backgroundcolor\":\"#E5ECF6\",\"gridcolor\":\"white\",\"linecolor\":\"white\",\"showbackground\":true,\"ticks\":\"\",\"zerolinecolor\":\"white\",\"gridwidth\":2},\"zaxis\":{\"backgroundcolor\":\"#E5ECF6\",\"gridcolor\":\"white\",\"linecolor\":\"white\",\"showbackground\":true,\"ticks\":\"\",\"zerolinecolor\":\"white\",\"gridwidth\":2}},\"shapedefaults\":{\"line\":{\"color\":\"#2a3f5f\"}},\"annotationdefaults\":{\"arrowcolor\":\"#2a3f5f\",\"arrowhead\":0,\"arrowwidth\":1},\"geo\":{\"bgcolor\":\"white\",\"landcolor\":\"#E5ECF6\",\"subunitcolor\":\"white\",\"showland\":true,\"showlakes\":true,\"lakecolor\":\"white\"},\"title\":{\"x\":0.05},\"mapbox\":{\"style\":\"light\"}}},\"xaxis\":{\"anchor\":\"y\",\"domain\":[0.0,1.0],\"title\":{\"text\":\"papel\"}},\"yaxis\":{\"anchor\":\"x\",\"domain\":[0.0,1.0],\"title\":{\"text\":\"marg_liquida\"}},\"legend\":{\"tracegroupgap\":0},\"margin\":{\"t\":60},\"barmode\":\"relative\"},                        {\"responsive\": true}                    ).then(function(){\n",
       "                            \n",
       "var gd = document.getElementById('d44b7162-e38f-4765-b2fe-ca6ca1064ed3');\n",
       "var x = new MutationObserver(function (mutations, observer) {{\n",
       "        var display = window.getComputedStyle(gd).display;\n",
       "        if (!display || display === 'none') {{\n",
       "            console.log([gd, 'removed!']);\n",
       "            Plotly.purge(gd);\n",
       "            observer.disconnect();\n",
       "        }}\n",
       "}});\n",
       "\n",
       "// Listen for the removal of the full notebook cells\n",
       "var notebookContainer = gd.closest('#notebook-container');\n",
       "if (notebookContainer) {{\n",
       "    x.observe(notebookContainer, {childList: true});\n",
       "}}\n",
       "\n",
       "// Listen for the clearing of the current output cell\n",
       "var outputEl = gd.closest('.output');\n",
       "if (outputEl) {{\n",
       "    x.observe(outputEl, {childList: true});\n",
       "}}\n",
       "\n",
       "                        })                };                });            </script>        </div>"
      ]
     },
     "metadata": {},
     "output_type": "display_data"
    }
   ],
   "source": [
    "# grafico maiores Margem Líquida\n",
    "aux = df_final.sort_values('marg_liquida', ascending= False).reset_index().rename( columns= {'index': 'papel'}).head(10)\n",
    "px.bar( aux, x= 'papel', y= 'marg_liquida')"
   ]
  },
  {
   "cell_type": "code",
   "execution_count": 127,
   "id": "e95464fd",
   "metadata": {
    "ExecuteTime": {
     "end_time": "2023-03-30T11:06:26.997396Z",
     "start_time": "2023-03-30T11:06:26.933606Z"
    }
   },
   "outputs": [
    {
     "data": {
      "application/vnd.plotly.v1+json": {
       "config": {
        "plotlyServerURL": "https://plot.ly"
       },
       "data": [
        {
         "alignmentgroup": "True",
         "hovertemplate": "papel=%{x}<br>roe=%{y}<extra></extra>",
         "legendgroup": "",
         "marker": {
          "color": "#636efa",
          "pattern": {
           "shape": ""
          }
         },
         "name": "",
         "offsetgroup": "",
         "orientation": "v",
         "showlegend": false,
         "textposition": "auto",
         "type": "bar",
         "x": [
          "BEEF3",
          "SYNE3",
          "GPAR3",
          "SUZB3",
          "BBSE3",
          "RSUL4",
          "PETR4",
          "CURY3",
          "FESA3",
          "ASAI3"
         ],
         "xaxis": "x",
         "y": [
          1.3361,
          0.7934,
          0.7259,
          0.6524,
          0.5776,
          0.4979,
          0.4738,
          0.46299999999999997,
          0.3772,
          0.373
         ],
         "yaxis": "y"
        }
       ],
       "layout": {
        "barmode": "relative",
        "legend": {
         "tracegroupgap": 0
        },
        "margin": {
         "t": 60
        },
        "template": {
         "data": {
          "bar": [
           {
            "error_x": {
             "color": "#2a3f5f"
            },
            "error_y": {
             "color": "#2a3f5f"
            },
            "marker": {
             "line": {
              "color": "#E5ECF6",
              "width": 0.5
             },
             "pattern": {
              "fillmode": "overlay",
              "size": 10,
              "solidity": 0.2
             }
            },
            "type": "bar"
           }
          ],
          "barpolar": [
           {
            "marker": {
             "line": {
              "color": "#E5ECF6",
              "width": 0.5
             },
             "pattern": {
              "fillmode": "overlay",
              "size": 10,
              "solidity": 0.2
             }
            },
            "type": "barpolar"
           }
          ],
          "carpet": [
           {
            "aaxis": {
             "endlinecolor": "#2a3f5f",
             "gridcolor": "white",
             "linecolor": "white",
             "minorgridcolor": "white",
             "startlinecolor": "#2a3f5f"
            },
            "baxis": {
             "endlinecolor": "#2a3f5f",
             "gridcolor": "white",
             "linecolor": "white",
             "minorgridcolor": "white",
             "startlinecolor": "#2a3f5f"
            },
            "type": "carpet"
           }
          ],
          "choropleth": [
           {
            "colorbar": {
             "outlinewidth": 0,
             "ticks": ""
            },
            "type": "choropleth"
           }
          ],
          "contour": [
           {
            "colorbar": {
             "outlinewidth": 0,
             "ticks": ""
            },
            "colorscale": [
             [
              0,
              "#0d0887"
             ],
             [
              0.1111111111111111,
              "#46039f"
             ],
             [
              0.2222222222222222,
              "#7201a8"
             ],
             [
              0.3333333333333333,
              "#9c179e"
             ],
             [
              0.4444444444444444,
              "#bd3786"
             ],
             [
              0.5555555555555556,
              "#d8576b"
             ],
             [
              0.6666666666666666,
              "#ed7953"
             ],
             [
              0.7777777777777778,
              "#fb9f3a"
             ],
             [
              0.8888888888888888,
              "#fdca26"
             ],
             [
              1,
              "#f0f921"
             ]
            ],
            "type": "contour"
           }
          ],
          "contourcarpet": [
           {
            "colorbar": {
             "outlinewidth": 0,
             "ticks": ""
            },
            "type": "contourcarpet"
           }
          ],
          "heatmap": [
           {
            "colorbar": {
             "outlinewidth": 0,
             "ticks": ""
            },
            "colorscale": [
             [
              0,
              "#0d0887"
             ],
             [
              0.1111111111111111,
              "#46039f"
             ],
             [
              0.2222222222222222,
              "#7201a8"
             ],
             [
              0.3333333333333333,
              "#9c179e"
             ],
             [
              0.4444444444444444,
              "#bd3786"
             ],
             [
              0.5555555555555556,
              "#d8576b"
             ],
             [
              0.6666666666666666,
              "#ed7953"
             ],
             [
              0.7777777777777778,
              "#fb9f3a"
             ],
             [
              0.8888888888888888,
              "#fdca26"
             ],
             [
              1,
              "#f0f921"
             ]
            ],
            "type": "heatmap"
           }
          ],
          "heatmapgl": [
           {
            "colorbar": {
             "outlinewidth": 0,
             "ticks": ""
            },
            "colorscale": [
             [
              0,
              "#0d0887"
             ],
             [
              0.1111111111111111,
              "#46039f"
             ],
             [
              0.2222222222222222,
              "#7201a8"
             ],
             [
              0.3333333333333333,
              "#9c179e"
             ],
             [
              0.4444444444444444,
              "#bd3786"
             ],
             [
              0.5555555555555556,
              "#d8576b"
             ],
             [
              0.6666666666666666,
              "#ed7953"
             ],
             [
              0.7777777777777778,
              "#fb9f3a"
             ],
             [
              0.8888888888888888,
              "#fdca26"
             ],
             [
              1,
              "#f0f921"
             ]
            ],
            "type": "heatmapgl"
           }
          ],
          "histogram": [
           {
            "marker": {
             "pattern": {
              "fillmode": "overlay",
              "size": 10,
              "solidity": 0.2
             }
            },
            "type": "histogram"
           }
          ],
          "histogram2d": [
           {
            "colorbar": {
             "outlinewidth": 0,
             "ticks": ""
            },
            "colorscale": [
             [
              0,
              "#0d0887"
             ],
             [
              0.1111111111111111,
              "#46039f"
             ],
             [
              0.2222222222222222,
              "#7201a8"
             ],
             [
              0.3333333333333333,
              "#9c179e"
             ],
             [
              0.4444444444444444,
              "#bd3786"
             ],
             [
              0.5555555555555556,
              "#d8576b"
             ],
             [
              0.6666666666666666,
              "#ed7953"
             ],
             [
              0.7777777777777778,
              "#fb9f3a"
             ],
             [
              0.8888888888888888,
              "#fdca26"
             ],
             [
              1,
              "#f0f921"
             ]
            ],
            "type": "histogram2d"
           }
          ],
          "histogram2dcontour": [
           {
            "colorbar": {
             "outlinewidth": 0,
             "ticks": ""
            },
            "colorscale": [
             [
              0,
              "#0d0887"
             ],
             [
              0.1111111111111111,
              "#46039f"
             ],
             [
              0.2222222222222222,
              "#7201a8"
             ],
             [
              0.3333333333333333,
              "#9c179e"
             ],
             [
              0.4444444444444444,
              "#bd3786"
             ],
             [
              0.5555555555555556,
              "#d8576b"
             ],
             [
              0.6666666666666666,
              "#ed7953"
             ],
             [
              0.7777777777777778,
              "#fb9f3a"
             ],
             [
              0.8888888888888888,
              "#fdca26"
             ],
             [
              1,
              "#f0f921"
             ]
            ],
            "type": "histogram2dcontour"
           }
          ],
          "mesh3d": [
           {
            "colorbar": {
             "outlinewidth": 0,
             "ticks": ""
            },
            "type": "mesh3d"
           }
          ],
          "parcoords": [
           {
            "line": {
             "colorbar": {
              "outlinewidth": 0,
              "ticks": ""
             }
            },
            "type": "parcoords"
           }
          ],
          "pie": [
           {
            "automargin": true,
            "type": "pie"
           }
          ],
          "scatter": [
           {
            "fillpattern": {
             "fillmode": "overlay",
             "size": 10,
             "solidity": 0.2
            },
            "type": "scatter"
           }
          ],
          "scatter3d": [
           {
            "line": {
             "colorbar": {
              "outlinewidth": 0,
              "ticks": ""
             }
            },
            "marker": {
             "colorbar": {
              "outlinewidth": 0,
              "ticks": ""
             }
            },
            "type": "scatter3d"
           }
          ],
          "scattercarpet": [
           {
            "marker": {
             "colorbar": {
              "outlinewidth": 0,
              "ticks": ""
             }
            },
            "type": "scattercarpet"
           }
          ],
          "scattergeo": [
           {
            "marker": {
             "colorbar": {
              "outlinewidth": 0,
              "ticks": ""
             }
            },
            "type": "scattergeo"
           }
          ],
          "scattergl": [
           {
            "marker": {
             "colorbar": {
              "outlinewidth": 0,
              "ticks": ""
             }
            },
            "type": "scattergl"
           }
          ],
          "scattermapbox": [
           {
            "marker": {
             "colorbar": {
              "outlinewidth": 0,
              "ticks": ""
             }
            },
            "type": "scattermapbox"
           }
          ],
          "scatterpolar": [
           {
            "marker": {
             "colorbar": {
              "outlinewidth": 0,
              "ticks": ""
             }
            },
            "type": "scatterpolar"
           }
          ],
          "scatterpolargl": [
           {
            "marker": {
             "colorbar": {
              "outlinewidth": 0,
              "ticks": ""
             }
            },
            "type": "scatterpolargl"
           }
          ],
          "scatterternary": [
           {
            "marker": {
             "colorbar": {
              "outlinewidth": 0,
              "ticks": ""
             }
            },
            "type": "scatterternary"
           }
          ],
          "surface": [
           {
            "colorbar": {
             "outlinewidth": 0,
             "ticks": ""
            },
            "colorscale": [
             [
              0,
              "#0d0887"
             ],
             [
              0.1111111111111111,
              "#46039f"
             ],
             [
              0.2222222222222222,
              "#7201a8"
             ],
             [
              0.3333333333333333,
              "#9c179e"
             ],
             [
              0.4444444444444444,
              "#bd3786"
             ],
             [
              0.5555555555555556,
              "#d8576b"
             ],
             [
              0.6666666666666666,
              "#ed7953"
             ],
             [
              0.7777777777777778,
              "#fb9f3a"
             ],
             [
              0.8888888888888888,
              "#fdca26"
             ],
             [
              1,
              "#f0f921"
             ]
            ],
            "type": "surface"
           }
          ],
          "table": [
           {
            "cells": {
             "fill": {
              "color": "#EBF0F8"
             },
             "line": {
              "color": "white"
             }
            },
            "header": {
             "fill": {
              "color": "#C8D4E3"
             },
             "line": {
              "color": "white"
             }
            },
            "type": "table"
           }
          ]
         },
         "layout": {
          "annotationdefaults": {
           "arrowcolor": "#2a3f5f",
           "arrowhead": 0,
           "arrowwidth": 1
          },
          "autotypenumbers": "strict",
          "coloraxis": {
           "colorbar": {
            "outlinewidth": 0,
            "ticks": ""
           }
          },
          "colorscale": {
           "diverging": [
            [
             0,
             "#8e0152"
            ],
            [
             0.1,
             "#c51b7d"
            ],
            [
             0.2,
             "#de77ae"
            ],
            [
             0.3,
             "#f1b6da"
            ],
            [
             0.4,
             "#fde0ef"
            ],
            [
             0.5,
             "#f7f7f7"
            ],
            [
             0.6,
             "#e6f5d0"
            ],
            [
             0.7,
             "#b8e186"
            ],
            [
             0.8,
             "#7fbc41"
            ],
            [
             0.9,
             "#4d9221"
            ],
            [
             1,
             "#276419"
            ]
           ],
           "sequential": [
            [
             0,
             "#0d0887"
            ],
            [
             0.1111111111111111,
             "#46039f"
            ],
            [
             0.2222222222222222,
             "#7201a8"
            ],
            [
             0.3333333333333333,
             "#9c179e"
            ],
            [
             0.4444444444444444,
             "#bd3786"
            ],
            [
             0.5555555555555556,
             "#d8576b"
            ],
            [
             0.6666666666666666,
             "#ed7953"
            ],
            [
             0.7777777777777778,
             "#fb9f3a"
            ],
            [
             0.8888888888888888,
             "#fdca26"
            ],
            [
             1,
             "#f0f921"
            ]
           ],
           "sequentialminus": [
            [
             0,
             "#0d0887"
            ],
            [
             0.1111111111111111,
             "#46039f"
            ],
            [
             0.2222222222222222,
             "#7201a8"
            ],
            [
             0.3333333333333333,
             "#9c179e"
            ],
            [
             0.4444444444444444,
             "#bd3786"
            ],
            [
             0.5555555555555556,
             "#d8576b"
            ],
            [
             0.6666666666666666,
             "#ed7953"
            ],
            [
             0.7777777777777778,
             "#fb9f3a"
            ],
            [
             0.8888888888888888,
             "#fdca26"
            ],
            [
             1,
             "#f0f921"
            ]
           ]
          },
          "colorway": [
           "#636efa",
           "#EF553B",
           "#00cc96",
           "#ab63fa",
           "#FFA15A",
           "#19d3f3",
           "#FF6692",
           "#B6E880",
           "#FF97FF",
           "#FECB52"
          ],
          "font": {
           "color": "#2a3f5f"
          },
          "geo": {
           "bgcolor": "white",
           "lakecolor": "white",
           "landcolor": "#E5ECF6",
           "showlakes": true,
           "showland": true,
           "subunitcolor": "white"
          },
          "hoverlabel": {
           "align": "left"
          },
          "hovermode": "closest",
          "mapbox": {
           "style": "light"
          },
          "paper_bgcolor": "white",
          "plot_bgcolor": "#E5ECF6",
          "polar": {
           "angularaxis": {
            "gridcolor": "white",
            "linecolor": "white",
            "ticks": ""
           },
           "bgcolor": "#E5ECF6",
           "radialaxis": {
            "gridcolor": "white",
            "linecolor": "white",
            "ticks": ""
           }
          },
          "scene": {
           "xaxis": {
            "backgroundcolor": "#E5ECF6",
            "gridcolor": "white",
            "gridwidth": 2,
            "linecolor": "white",
            "showbackground": true,
            "ticks": "",
            "zerolinecolor": "white"
           },
           "yaxis": {
            "backgroundcolor": "#E5ECF6",
            "gridcolor": "white",
            "gridwidth": 2,
            "linecolor": "white",
            "showbackground": true,
            "ticks": "",
            "zerolinecolor": "white"
           },
           "zaxis": {
            "backgroundcolor": "#E5ECF6",
            "gridcolor": "white",
            "gridwidth": 2,
            "linecolor": "white",
            "showbackground": true,
            "ticks": "",
            "zerolinecolor": "white"
           }
          },
          "shapedefaults": {
           "line": {
            "color": "#2a3f5f"
           }
          },
          "ternary": {
           "aaxis": {
            "gridcolor": "white",
            "linecolor": "white",
            "ticks": ""
           },
           "baxis": {
            "gridcolor": "white",
            "linecolor": "white",
            "ticks": ""
           },
           "bgcolor": "#E5ECF6",
           "caxis": {
            "gridcolor": "white",
            "linecolor": "white",
            "ticks": ""
           }
          },
          "title": {
           "x": 0.05
          },
          "xaxis": {
           "automargin": true,
           "gridcolor": "white",
           "linecolor": "white",
           "ticks": "",
           "title": {
            "standoff": 15
           },
           "zerolinecolor": "white",
           "zerolinewidth": 2
          },
          "yaxis": {
           "automargin": true,
           "gridcolor": "white",
           "linecolor": "white",
           "ticks": "",
           "title": {
            "standoff": 15
           },
           "zerolinecolor": "white",
           "zerolinewidth": 2
          }
         }
        },
        "xaxis": {
         "anchor": "y",
         "domain": [
          0,
          1
         ],
         "title": {
          "text": "papel"
         }
        },
        "yaxis": {
         "anchor": "x",
         "domain": [
          0,
          1
         ],
         "title": {
          "text": "roe"
         }
        }
       }
      },
      "text/html": [
       "<div>                            <div id=\"7d0d9011-a787-458d-87d5-b579aec1efb3\" class=\"plotly-graph-div\" style=\"height:525px; width:100%;\"></div>            <script type=\"text/javascript\">                require([\"plotly\"], function(Plotly) {                    window.PLOTLYENV=window.PLOTLYENV || {};                                    if (document.getElementById(\"7d0d9011-a787-458d-87d5-b579aec1efb3\")) {                    Plotly.newPlot(                        \"7d0d9011-a787-458d-87d5-b579aec1efb3\",                        [{\"alignmentgroup\":\"True\",\"hovertemplate\":\"papel=%{x}<br>roe=%{y}<extra></extra>\",\"legendgroup\":\"\",\"marker\":{\"color\":\"#636efa\",\"pattern\":{\"shape\":\"\"}},\"name\":\"\",\"offsetgroup\":\"\",\"orientation\":\"v\",\"showlegend\":false,\"textposition\":\"auto\",\"x\":[\"BEEF3\",\"SYNE3\",\"GPAR3\",\"SUZB3\",\"BBSE3\",\"RSUL4\",\"PETR4\",\"CURY3\",\"FESA3\",\"ASAI3\"],\"xaxis\":\"x\",\"y\":[1.3361,0.7934,0.7259,0.6524,0.5776,0.4979,0.4738,0.46299999999999997,0.3772,0.373],\"yaxis\":\"y\",\"type\":\"bar\"}],                        {\"template\":{\"data\":{\"histogram2dcontour\":[{\"type\":\"histogram2dcontour\",\"colorbar\":{\"outlinewidth\":0,\"ticks\":\"\"},\"colorscale\":[[0.0,\"#0d0887\"],[0.1111111111111111,\"#46039f\"],[0.2222222222222222,\"#7201a8\"],[0.3333333333333333,\"#9c179e\"],[0.4444444444444444,\"#bd3786\"],[0.5555555555555556,\"#d8576b\"],[0.6666666666666666,\"#ed7953\"],[0.7777777777777778,\"#fb9f3a\"],[0.8888888888888888,\"#fdca26\"],[1.0,\"#f0f921\"]]}],\"choropleth\":[{\"type\":\"choropleth\",\"colorbar\":{\"outlinewidth\":0,\"ticks\":\"\"}}],\"histogram2d\":[{\"type\":\"histogram2d\",\"colorbar\":{\"outlinewidth\":0,\"ticks\":\"\"},\"colorscale\":[[0.0,\"#0d0887\"],[0.1111111111111111,\"#46039f\"],[0.2222222222222222,\"#7201a8\"],[0.3333333333333333,\"#9c179e\"],[0.4444444444444444,\"#bd3786\"],[0.5555555555555556,\"#d8576b\"],[0.6666666666666666,\"#ed7953\"],[0.7777777777777778,\"#fb9f3a\"],[0.8888888888888888,\"#fdca26\"],[1.0,\"#f0f921\"]]}],\"heatmap\":[{\"type\":\"heatmap\",\"colorbar\":{\"outlinewidth\":0,\"ticks\":\"\"},\"colorscale\":[[0.0,\"#0d0887\"],[0.1111111111111111,\"#46039f\"],[0.2222222222222222,\"#7201a8\"],[0.3333333333333333,\"#9c179e\"],[0.4444444444444444,\"#bd3786\"],[0.5555555555555556,\"#d8576b\"],[0.6666666666666666,\"#ed7953\"],[0.7777777777777778,\"#fb9f3a\"],[0.8888888888888888,\"#fdca26\"],[1.0,\"#f0f921\"]]}],\"heatmapgl\":[{\"type\":\"heatmapgl\",\"colorbar\":{\"outlinewidth\":0,\"ticks\":\"\"},\"colorscale\":[[0.0,\"#0d0887\"],[0.1111111111111111,\"#46039f\"],[0.2222222222222222,\"#7201a8\"],[0.3333333333333333,\"#9c179e\"],[0.4444444444444444,\"#bd3786\"],[0.5555555555555556,\"#d8576b\"],[0.6666666666666666,\"#ed7953\"],[0.7777777777777778,\"#fb9f3a\"],[0.8888888888888888,\"#fdca26\"],[1.0,\"#f0f921\"]]}],\"contourcarpet\":[{\"type\":\"contourcarpet\",\"colorbar\":{\"outlinewidth\":0,\"ticks\":\"\"}}],\"contour\":[{\"type\":\"contour\",\"colorbar\":{\"outlinewidth\":0,\"ticks\":\"\"},\"colorscale\":[[0.0,\"#0d0887\"],[0.1111111111111111,\"#46039f\"],[0.2222222222222222,\"#7201a8\"],[0.3333333333333333,\"#9c179e\"],[0.4444444444444444,\"#bd3786\"],[0.5555555555555556,\"#d8576b\"],[0.6666666666666666,\"#ed7953\"],[0.7777777777777778,\"#fb9f3a\"],[0.8888888888888888,\"#fdca26\"],[1.0,\"#f0f921\"]]}],\"surface\":[{\"type\":\"surface\",\"colorbar\":{\"outlinewidth\":0,\"ticks\":\"\"},\"colorscale\":[[0.0,\"#0d0887\"],[0.1111111111111111,\"#46039f\"],[0.2222222222222222,\"#7201a8\"],[0.3333333333333333,\"#9c179e\"],[0.4444444444444444,\"#bd3786\"],[0.5555555555555556,\"#d8576b\"],[0.6666666666666666,\"#ed7953\"],[0.7777777777777778,\"#fb9f3a\"],[0.8888888888888888,\"#fdca26\"],[1.0,\"#f0f921\"]]}],\"mesh3d\":[{\"type\":\"mesh3d\",\"colorbar\":{\"outlinewidth\":0,\"ticks\":\"\"}}],\"scatter\":[{\"fillpattern\":{\"fillmode\":\"overlay\",\"size\":10,\"solidity\":0.2},\"type\":\"scatter\"}],\"parcoords\":[{\"type\":\"parcoords\",\"line\":{\"colorbar\":{\"outlinewidth\":0,\"ticks\":\"\"}}}],\"scatterpolargl\":[{\"type\":\"scatterpolargl\",\"marker\":{\"colorbar\":{\"outlinewidth\":0,\"ticks\":\"\"}}}],\"bar\":[{\"error_x\":{\"color\":\"#2a3f5f\"},\"error_y\":{\"color\":\"#2a3f5f\"},\"marker\":{\"line\":{\"color\":\"#E5ECF6\",\"width\":0.5},\"pattern\":{\"fillmode\":\"overlay\",\"size\":10,\"solidity\":0.2}},\"type\":\"bar\"}],\"scattergeo\":[{\"type\":\"scattergeo\",\"marker\":{\"colorbar\":{\"outlinewidth\":0,\"ticks\":\"\"}}}],\"scatterpolar\":[{\"type\":\"scatterpolar\",\"marker\":{\"colorbar\":{\"outlinewidth\":0,\"ticks\":\"\"}}}],\"histogram\":[{\"marker\":{\"pattern\":{\"fillmode\":\"overlay\",\"size\":10,\"solidity\":0.2}},\"type\":\"histogram\"}],\"scattergl\":[{\"type\":\"scattergl\",\"marker\":{\"colorbar\":{\"outlinewidth\":0,\"ticks\":\"\"}}}],\"scatter3d\":[{\"type\":\"scatter3d\",\"line\":{\"colorbar\":{\"outlinewidth\":0,\"ticks\":\"\"}},\"marker\":{\"colorbar\":{\"outlinewidth\":0,\"ticks\":\"\"}}}],\"scattermapbox\":[{\"type\":\"scattermapbox\",\"marker\":{\"colorbar\":{\"outlinewidth\":0,\"ticks\":\"\"}}}],\"scatterternary\":[{\"type\":\"scatterternary\",\"marker\":{\"colorbar\":{\"outlinewidth\":0,\"ticks\":\"\"}}}],\"scattercarpet\":[{\"type\":\"scattercarpet\",\"marker\":{\"colorbar\":{\"outlinewidth\":0,\"ticks\":\"\"}}}],\"carpet\":[{\"aaxis\":{\"endlinecolor\":\"#2a3f5f\",\"gridcolor\":\"white\",\"linecolor\":\"white\",\"minorgridcolor\":\"white\",\"startlinecolor\":\"#2a3f5f\"},\"baxis\":{\"endlinecolor\":\"#2a3f5f\",\"gridcolor\":\"white\",\"linecolor\":\"white\",\"minorgridcolor\":\"white\",\"startlinecolor\":\"#2a3f5f\"},\"type\":\"carpet\"}],\"table\":[{\"cells\":{\"fill\":{\"color\":\"#EBF0F8\"},\"line\":{\"color\":\"white\"}},\"header\":{\"fill\":{\"color\":\"#C8D4E3\"},\"line\":{\"color\":\"white\"}},\"type\":\"table\"}],\"barpolar\":[{\"marker\":{\"line\":{\"color\":\"#E5ECF6\",\"width\":0.5},\"pattern\":{\"fillmode\":\"overlay\",\"size\":10,\"solidity\":0.2}},\"type\":\"barpolar\"}],\"pie\":[{\"automargin\":true,\"type\":\"pie\"}]},\"layout\":{\"autotypenumbers\":\"strict\",\"colorway\":[\"#636efa\",\"#EF553B\",\"#00cc96\",\"#ab63fa\",\"#FFA15A\",\"#19d3f3\",\"#FF6692\",\"#B6E880\",\"#FF97FF\",\"#FECB52\"],\"font\":{\"color\":\"#2a3f5f\"},\"hovermode\":\"closest\",\"hoverlabel\":{\"align\":\"left\"},\"paper_bgcolor\":\"white\",\"plot_bgcolor\":\"#E5ECF6\",\"polar\":{\"bgcolor\":\"#E5ECF6\",\"angularaxis\":{\"gridcolor\":\"white\",\"linecolor\":\"white\",\"ticks\":\"\"},\"radialaxis\":{\"gridcolor\":\"white\",\"linecolor\":\"white\",\"ticks\":\"\"}},\"ternary\":{\"bgcolor\":\"#E5ECF6\",\"aaxis\":{\"gridcolor\":\"white\",\"linecolor\":\"white\",\"ticks\":\"\"},\"baxis\":{\"gridcolor\":\"white\",\"linecolor\":\"white\",\"ticks\":\"\"},\"caxis\":{\"gridcolor\":\"white\",\"linecolor\":\"white\",\"ticks\":\"\"}},\"coloraxis\":{\"colorbar\":{\"outlinewidth\":0,\"ticks\":\"\"}},\"colorscale\":{\"sequential\":[[0.0,\"#0d0887\"],[0.1111111111111111,\"#46039f\"],[0.2222222222222222,\"#7201a8\"],[0.3333333333333333,\"#9c179e\"],[0.4444444444444444,\"#bd3786\"],[0.5555555555555556,\"#d8576b\"],[0.6666666666666666,\"#ed7953\"],[0.7777777777777778,\"#fb9f3a\"],[0.8888888888888888,\"#fdca26\"],[1.0,\"#f0f921\"]],\"sequentialminus\":[[0.0,\"#0d0887\"],[0.1111111111111111,\"#46039f\"],[0.2222222222222222,\"#7201a8\"],[0.3333333333333333,\"#9c179e\"],[0.4444444444444444,\"#bd3786\"],[0.5555555555555556,\"#d8576b\"],[0.6666666666666666,\"#ed7953\"],[0.7777777777777778,\"#fb9f3a\"],[0.8888888888888888,\"#fdca26\"],[1.0,\"#f0f921\"]],\"diverging\":[[0,\"#8e0152\"],[0.1,\"#c51b7d\"],[0.2,\"#de77ae\"],[0.3,\"#f1b6da\"],[0.4,\"#fde0ef\"],[0.5,\"#f7f7f7\"],[0.6,\"#e6f5d0\"],[0.7,\"#b8e186\"],[0.8,\"#7fbc41\"],[0.9,\"#4d9221\"],[1,\"#276419\"]]},\"xaxis\":{\"gridcolor\":\"white\",\"linecolor\":\"white\",\"ticks\":\"\",\"title\":{\"standoff\":15},\"zerolinecolor\":\"white\",\"automargin\":true,\"zerolinewidth\":2},\"yaxis\":{\"gridcolor\":\"white\",\"linecolor\":\"white\",\"ticks\":\"\",\"title\":{\"standoff\":15},\"zerolinecolor\":\"white\",\"automargin\":true,\"zerolinewidth\":2},\"scene\":{\"xaxis\":{\"backgroundcolor\":\"#E5ECF6\",\"gridcolor\":\"white\",\"linecolor\":\"white\",\"showbackground\":true,\"ticks\":\"\",\"zerolinecolor\":\"white\",\"gridwidth\":2},\"yaxis\":{\"backgroundcolor\":\"#E5ECF6\",\"gridcolor\":\"white\",\"linecolor\":\"white\",\"showbackground\":true,\"ticks\":\"\",\"zerolinecolor\":\"white\",\"gridwidth\":2},\"zaxis\":{\"backgroundcolor\":\"#E5ECF6\",\"gridcolor\":\"white\",\"linecolor\":\"white\",\"showbackground\":true,\"ticks\":\"\",\"zerolinecolor\":\"white\",\"gridwidth\":2}},\"shapedefaults\":{\"line\":{\"color\":\"#2a3f5f\"}},\"annotationdefaults\":{\"arrowcolor\":\"#2a3f5f\",\"arrowhead\":0,\"arrowwidth\":1},\"geo\":{\"bgcolor\":\"white\",\"landcolor\":\"#E5ECF6\",\"subunitcolor\":\"white\",\"showland\":true,\"showlakes\":true,\"lakecolor\":\"white\"},\"title\":{\"x\":0.05},\"mapbox\":{\"style\":\"light\"}}},\"xaxis\":{\"anchor\":\"y\",\"domain\":[0.0,1.0],\"title\":{\"text\":\"papel\"}},\"yaxis\":{\"anchor\":\"x\",\"domain\":[0.0,1.0],\"title\":{\"text\":\"roe\"}},\"legend\":{\"tracegroupgap\":0},\"margin\":{\"t\":60},\"barmode\":\"relative\"},                        {\"responsive\": true}                    ).then(function(){\n",
       "                            \n",
       "var gd = document.getElementById('7d0d9011-a787-458d-87d5-b579aec1efb3');\n",
       "var x = new MutationObserver(function (mutations, observer) {{\n",
       "        var display = window.getComputedStyle(gd).display;\n",
       "        if (!display || display === 'none') {{\n",
       "            console.log([gd, 'removed!']);\n",
       "            Plotly.purge(gd);\n",
       "            observer.disconnect();\n",
       "        }}\n",
       "}});\n",
       "\n",
       "// Listen for the removal of the full notebook cells\n",
       "var notebookContainer = gd.closest('#notebook-container');\n",
       "if (notebookContainer) {{\n",
       "    x.observe(notebookContainer, {childList: true});\n",
       "}}\n",
       "\n",
       "// Listen for the clearing of the current output cell\n",
       "var outputEl = gd.closest('.output');\n",
       "if (outputEl) {{\n",
       "    x.observe(outputEl, {childList: true});\n",
       "}}\n",
       "\n",
       "                        })                };                });            </script>        </div>"
      ]
     },
     "metadata": {},
     "output_type": "display_data"
    }
   ],
   "source": [
    "# grafico maiores Roe\n",
    "aux = df_final.sort_values('roe', ascending= False).reset_index().rename( columns= {'index': 'papel'}).head(10)\n",
    "px.bar( aux, x= 'papel', y= 'roe')"
   ]
  },
  {
   "cell_type": "code",
   "execution_count": null,
   "id": "9772e56c",
   "metadata": {},
   "outputs": [],
   "source": []
  },
  {
   "cell_type": "code",
   "execution_count": null,
   "id": "29e22782",
   "metadata": {},
   "outputs": [],
   "source": []
  },
  {
   "cell_type": "code",
   "execution_count": null,
   "id": "8b68572c",
   "metadata": {},
   "outputs": [],
   "source": []
  }
 ],
 "metadata": {
  "kernelspec": {
   "display_name": "Python 3 (ipykernel)",
   "language": "python",
   "name": "python3"
  },
  "language_info": {
   "codemirror_mode": {
    "name": "ipython",
    "version": 3
   },
   "file_extension": ".py",
   "mimetype": "text/x-python",
   "name": "python",
   "nbconvert_exporter": "python",
   "pygments_lexer": "ipython3",
   "version": "3.9.15"
  }
 },
 "nbformat": 4,
 "nbformat_minor": 5
}
